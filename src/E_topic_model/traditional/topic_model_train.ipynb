{
 "cells": [
  {
   "metadata": {},
   "cell_type": "markdown",
   "source": "### MASTER-THESIS: Constructing a Knowledge Graph by extracting information from financial news articles",
   "id": "f09190510e2a897d"
  },
  {
   "metadata": {},
   "cell_type": "markdown",
   "source": "#### IMPORT LIBRARIES",
   "id": "5fd8c1aa63ae75c3"
  },
  {
   "metadata": {},
   "cell_type": "code",
   "source": "# Note: Restart Jupyter-Notebook (Memory issues)",
   "id": "1055436506adf402",
   "outputs": [],
   "execution_count": null
  },
  {
   "metadata": {},
   "cell_type": "code",
   "source": [
    "import pandas as pd\n",
    "import numpy as np\n",
    "import torch\n",
    "import pathlib"
   ],
   "id": "93b7beb4ff8f5ca9",
   "outputs": [],
   "execution_count": null
  },
  {
   "metadata": {},
   "cell_type": "code",
   "source": [
    "from src.A_data.data_loader import DataLoader\n",
    "from main_process import SpacyProcess, Process\n",
    "from src.E_topic_model.traditional.topic_prepare import TextPreparer\n",
    "from src.E_topic_model.traditional.topic_vectorize import Vectorizer\n",
    "from src.E_topic_model.traditional.topic_dim_reduce import DimReducer\n",
    "from src.E_topic_model.traditional.topic_cluster import Clusterer\n",
    "from src.E_topic_model.traditional.topic_visualize import Visualizer\n",
    "from src.E_topic_model.traditional.topic_model import TopicModel\n",
    "\n",
    "from src.settings.config import ConfigTopic\n",
    "from src.settings.enums import VectorizerType, ReductionMethod, ClusterMethod, SpacyTask, ExtractionType"
   ],
   "id": "80b5e4ad628363d7",
   "outputs": [],
   "execution_count": null
  },
  {
   "metadata": {},
   "cell_type": "markdown",
   "source": "#### DATA (After NER and COREF)",
   "id": "9dc742156fb06293"
  },
  {
   "metadata": {},
   "cell_type": "code",
   "source": "torch.cuda.empty_cache()",
   "id": "21abc6104c975f25",
   "outputs": [],
   "execution_count": null
  },
  {
   "metadata": {},
   "cell_type": "code",
   "source": [
    "dl = DataLoader()\n",
    "# df = dl.load_df('/media/rainergo/PROJECTS/UASFRA-MS-Thesis/src/E_topic_model/traditional/model_data/df_demo_after_ner_coref.parquet')\n",
    "df = dl.load_df('/media/rainergo/PROJECTS/UASFRA-MS-Thesis/src/A_data/monthly/df_demo_after_ner_coref.parquet')\n",
    "print('Number of Sentences: ', len(df.index))"
   ],
   "id": "8b2c314571184de4",
   "outputs": [],
   "execution_count": null
  },
  {
   "metadata": {},
   "cell_type": "code",
   "source": "df",
   "id": "777f00e094674583",
   "outputs": [],
   "execution_count": null
  },
  {
   "metadata": {},
   "cell_type": "markdown",
   "source": "#### CONVERT NESTED NER_COREF DICTIONARY",
   "id": "30737093cbdb079"
  },
  {
   "metadata": {},
   "cell_type": "code",
   "source": [
    "spacy_process = SpacyProcess(spacy_task=SpacyTask.BASIC)\n",
    "print('EN pipeline:', spacy_process.nlp_en.pipe_names)\n",
    "print('DE pipeline:', spacy_process.nlp_de.pipe_names)"
   ],
   "id": "c33f5659375be16",
   "outputs": [],
   "execution_count": null
  },
  {
   "metadata": {},
   "cell_type": "markdown",
   "source": "#### START TOPIC MODELING",
   "id": "a257ac47c62f952d"
  },
  {
   "metadata": {},
   "cell_type": "markdown",
   "source": "##### TRADITIONAL TOPIC MODELLING",
   "id": "6bb8f48a46c3a91"
  },
  {
   "metadata": {},
   "cell_type": "code",
   "source": [
    "n_most_common_words: int = 1000  # max 1000\n",
    "df_most_common_words = pd.read_parquet('/media/rainergo/PROJECTS/UASFRA-MS-Thesis/src/settings/files/1000_most_common_words.parquet')\n",
    "add_stopwords_en = set(df_most_common_words.en.tolist()[:n_most_common_words])\n",
    "add_stopwords_de = set(df_most_common_words.de.tolist()[:n_most_common_words])"
   ],
   "id": "8e26929eff96af40",
   "outputs": [],
   "execution_count": null
  },
  {
   "metadata": {},
   "cell_type": "code",
   "source": [
    "# Note: Prepare and reduce text\n",
    "preparer = TextPreparer(df=df, nlp_en= spacy_process.nlp_en, nlp_de=spacy_process.nlp_de, use_comp_mask=True,  save_vocabulary=True)\n",
    "preparer.add_custom_stopwords(stop_words_de=add_stopwords_de, stop_words_en=add_stopwords_en)\n",
    "df, vocabulary = preparer.prepare(rem_stopwords=True,\n",
    "                                       rem_punctuation=True,\n",
    "                                       rem_non_words=True,\n",
    "                                       rem_non_content_words=True,\n",
    "                                       lemmatize=True,\n",
    "                                       lower_case=True)"
   ],
   "id": "77d243b77721b688",
   "outputs": [],
   "execution_count": null
  },
  {
   "metadata": {},
   "cell_type": "code",
   "source": [
    "n_words = 2000\n",
    "dict(list(vocabulary.items())[:n_words])"
   ],
   "id": "d41bd358005bb182",
   "outputs": [],
   "execution_count": null
  },
  {
   "metadata": {},
   "cell_type": "code",
   "source": [
    "df = df[~df.top_prep_sent.isna()]\n",
    "df"
   ],
   "id": "29ba7ecf30d9db46",
   "outputs": [],
   "execution_count": null
  },
  {
   "metadata": {},
   "cell_type": "code",
   "source": [
    "# Note: Vectorizer\n",
    "vectorizer = Vectorizer(df=df, vocabulary=vocabulary, vectorizer_type=VectorizerType.TFIDF, df_vector_name=ConfigTopic.vector_col_name)\n",
    "df, all_vectors = vectorizer.vectorize()"
   ],
   "id": "6bdcdbe2730f2e76",
   "outputs": [],
   "execution_count": null
  },
  {
   "metadata": {},
   "cell_type": "code",
   "source": "all_vectors.shape",
   "id": "78281ca72d61760f",
   "outputs": [],
   "execution_count": null
  },
  {
   "metadata": {},
   "cell_type": "code",
   "source": [
    "# Note: Dimension Reduction for Cluster\n",
    "cluster_dim_reducer = DimReducer(df=df, training_data=all_vectors, vectorizer_type=vectorizer.vectorizer_type,\n",
    "                              reduction_method=ReductionMethod.KernelPCA, reduced_dim=20,\n",
    "                              df_vector_name=ConfigTopic.vector_col_name, df_red_vector_name=ConfigTopic.reduced_vector_col_name,\n",
    "                            model_name='cluster_dim_reducer')\n",
    "cluster_dim_reducer.fit(save_model=True)\n",
    "df, all_reduced_vectors = cluster_dim_reducer.reduce()"
   ],
   "id": "49b8ba2be8fb159a",
   "outputs": [],
   "execution_count": null
  },
  {
   "metadata": {},
   "cell_type": "code",
   "source": "all_reduced_vectors.shape",
   "id": "937dafd2cba52e1d",
   "outputs": [],
   "execution_count": null
  },
  {
   "metadata": {},
   "cell_type": "code",
   "source": [
    "# Note: Cluster\n",
    "# model_name = f'cluster_model_monthly_{year}_{month}'\n",
    "clusterer = Clusterer(df=df, dim_reduced_training_data=all_reduced_vectors, cluster_method=ClusterMethod.KMEANS, n_clusters=20)\n",
    "clusterer.fit()\n",
    "clusterer.predict()"
   ],
   "id": "a30d76f566eeb8dc",
   "outputs": [],
   "execution_count": null
  },
  {
   "metadata": {},
   "cell_type": "code",
   "source": "set(clusterer.cluster_model.labels_.tolist())",
   "id": "d76286b013595d2f",
   "outputs": [],
   "execution_count": null
  },
  {
   "metadata": {},
   "cell_type": "code",
   "source": [
    "# Note: Dimension Reduction for Visualization\n",
    "viz_dim_reducer = DimReducer(df=df, training_data=all_vectors, vectorizer_type=vectorizer.vectorizer_type,\n",
    "                                            reduction_method=cluster_dim_reducer.reduction_method, reduced_dim=3,\n",
    "                                            df_vector_name=ConfigTopic.vector_col_name, df_red_vector_name=ConfigTopic.viz_reduced_vector_col_name,\n",
    "                            model_name='viz_dim_reducer')\n",
    "viz_dim_reducer.fit()\n",
    "df, all_viz_reduced_vectors = viz_dim_reducer.reduce()"
   ],
   "id": "cd2d0f3deb543e0e",
   "outputs": [],
   "execution_count": null
  },
  {
   "metadata": {},
   "cell_type": "code",
   "source": [
    "# Note: Topic Model\n",
    "top_model = TopicModel(df=df, vocabulary=vocabulary, cluster_vectorizer_type=VectorizerType.TFIDF, most_common_n_words=10)\n",
    "top_model.create_topics()"
   ],
   "id": "3c5e2ca77471ee36",
   "outputs": [],
   "execution_count": null
  },
  {
   "metadata": {},
   "cell_type": "code",
   "source": "top_model.df_data",
   "id": "7a9172272f378ca6",
   "outputs": [],
   "execution_count": null
  },
  {
   "metadata": {},
   "cell_type": "code",
   "source": "top_model.df_data.x.max()",
   "id": "4071f0b3733ae84b",
   "outputs": [],
   "execution_count": null
  },
  {
   "metadata": {},
   "cell_type": "code",
   "source": "top_model.df_cluster",
   "id": "c72443a740cb71d7",
   "outputs": [],
   "execution_count": null
  },
  {
   "metadata": {},
   "cell_type": "code",
   "source": [
    "# Note: Visualize\n",
    "visualizer = Visualizer(df_data=top_model.df_data, df_cluster=top_model.df_cluster, vocabulary=vocabulary,vectorizer_type=vectorizer.vectorizer_type,\n",
    "                             dimension_reduction_method=cluster_dim_reducer.reduction_method, reduced_vector_dimension=cluster_dim_reducer.reduced_dim,\n",
    "                             cluster_method=clusterer.cluster_method, number_of_clusters=clusterer.n_clusters)\n",
    "visualizer.plot(point_size=3, cluster_cross_size=5, template='plotly')"
   ],
   "id": "45660bf881cba6d7",
   "outputs": [],
   "execution_count": null
  }
 ],
 "metadata": {
  "kernelspec": {
   "display_name": "Python 3",
   "language": "python",
   "name": "python3"
  },
  "language_info": {
   "codemirror_mode": {
    "name": "ipython",
    "version": 2
   },
   "file_extension": ".py",
   "mimetype": "text/x-python",
   "name": "python",
   "nbconvert_exporter": "python",
   "pygments_lexer": "ipython2",
   "version": "2.7.6"
  }
 },
 "nbformat": 4,
 "nbformat_minor": 5
}
