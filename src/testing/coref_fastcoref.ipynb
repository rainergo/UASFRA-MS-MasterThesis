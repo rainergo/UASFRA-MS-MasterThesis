{
 "cells": [
  {
   "cell_type": "code",
   "id": "initial_id",
   "metadata": {
    "collapsed": true,
    "ExecuteTime": {
     "end_time": "2024-10-23T09:14:48.827612Z",
     "start_time": "2024-10-23T09:14:45.913684Z"
    }
   },
   "source": [
    "from coref import CorefResolver\n",
    "from src.settings.enums import NaturalLanguage"
   ],
   "outputs": [],
   "execution_count": 1
  },
  {
   "metadata": {
    "ExecuteTime": {
     "end_time": "2024-10-23T09:15:01.107940Z",
     "start_time": "2024-10-23T09:14:52.122431Z"
    }
   },
   "cell_type": "code",
   "source": [
    "nat_lang = NaturalLanguage.EN\n",
    "cr = CorefResolver(natural_language=nat_lang, coref_module='fastcoref')\n",
    "cr.nlp.add_pipe(\"sentencizer\")"
   ],
   "id": "cdbc3a6dd86c1cb3",
   "outputs": [
    {
     "name": "stdout",
     "output_type": "stream",
     "text": [
      "GPU is used: True\n"
     ]
    },
    {
     "name": "stderr",
     "output_type": "stream",
     "text": [
      "/home/rainergo/.local/share/virtualenvs/UASFRA-MS-Thesis-TwKC3Gx9/lib/python3.11/site-packages/spacy_transformers/layers/hf_shim.py:120: FutureWarning: You are using `torch.load` with `weights_only=False` (the current default value), which uses the default pickle module implicitly. It is possible to construct malicious pickle data which will execute arbitrary code during unpickling (See https://github.com/pytorch/pytorch/blob/main/SECURITY.md#untrusted-models for more details). In a future release, the default value for `weights_only` will be flipped to `True`. This limits the functions that could be executed during unpickling. Arbitrary objects will no longer be allowed to be loaded via this mode unless they are explicitly allowlisted by the user via `torch.serialization.add_safe_globals`. We recommend you start setting `weights_only=True` for any use case where you don't have full control of the loaded file. Please open an issue on GitHub for any issues related to this experimental feature.\n",
      "  self._model.load_state_dict(torch.load(filelike, map_location=device))\n",
      "/home/rainergo/.local/share/virtualenvs/UASFRA-MS-Thesis-TwKC3Gx9/lib/python3.11/site-packages/huggingface_hub/file_download.py:797: FutureWarning: `resume_download` is deprecated and will be removed in version 1.0.0. Downloads always resume when possible. If you want to force a new download, use `force_download=True`.\n",
      "  warnings.warn(\n",
      "/home/rainergo/.local/share/virtualenvs/UASFRA-MS-Thesis-TwKC3Gx9/lib/python3.11/site-packages/transformers/modeling_utils.py:463: FutureWarning: You are using `torch.load` with `weights_only=False` (the current default value), which uses the default pickle module implicitly. It is possible to construct malicious pickle data which will execute arbitrary code during unpickling (See https://github.com/pytorch/pytorch/blob/main/SECURITY.md#untrusted-models for more details). In a future release, the default value for `weights_only` will be flipped to `True`. This limits the functions that could be executed during unpickling. Arbitrary objects will no longer be allowed to be loaded via this mode unless they are explicitly allowlisted by the user via `torch.serialization.add_safe_globals`. We recommend you start setting `weights_only=True` for any use case where you don't have full control of the loaded file. Please open an issue on GitHub for any issues related to this experimental feature.\n",
      "  return torch.load(checkpoint_file, map_location=\"cpu\")\n",
      "Some weights of the model checkpoint at biu-nlp/lingmess-coref were not used when initializing LingMessModel: ['longformer.embeddings.position_ids']\n",
      "- This IS expected if you are initializing LingMessModel from the checkpoint of a model trained on another task or with another architecture (e.g. initializing a BertForSequenceClassification model from a BertForPreTraining model).\n",
      "- This IS NOT expected if you are initializing LingMessModel from the checkpoint of a model that you expect to be exactly identical (initializing a BertForSequenceClassification model from a BertForSequenceClassification model).\n",
      "10/23/2024 11:15:01 - INFO - \t missing_keys: []\n",
      "10/23/2024 11:15:01 - INFO - \t unexpected_keys: []\n",
      "10/23/2024 11:15:01 - INFO - \t mismatched_keys: []\n",
      "10/23/2024 11:15:01 - INFO - \t error_msgs: []\n",
      "10/23/2024 11:15:01 - INFO - \t Model Parameters: 590.0M, Transformer: 434.6M, Coref head: 155.4M\n"
     ]
    },
    {
     "data": {
      "text/plain": [
       "<spacy.pipeline.sentencizer.Sentencizer at 0x7580f265b290>"
      ]
     },
     "execution_count": 2,
     "metadata": {},
     "output_type": "execute_result"
    }
   ],
   "execution_count": 2
  },
  {
   "metadata": {
    "ExecuteTime": {
     "end_time": "2024-10-23T09:15:04.359552Z",
     "start_time": "2024-10-23T09:15:04.355164Z"
    }
   },
   "cell_type": "code",
   "source": "cr.nlp.pipe_names",
   "id": "2c3f5fa77d4ea8d0",
   "outputs": [
    {
     "data": {
      "text/plain": [
       "['transformer', 'tagger', 'fastcoref', 'sentencizer']"
      ]
     },
     "execution_count": 3,
     "metadata": {},
     "output_type": "execute_result"
    }
   ],
   "execution_count": 3
  },
  {
   "metadata": {
    "ExecuteTime": {
     "end_time": "2024-10-23T09:15:15.120679Z",
     "start_time": "2024-10-23T09:15:15.118304Z"
    }
   },
   "cell_type": "code",
   "source": "# text = \"John went to the store. He bought some groceries. Mary was at the store as well. She also bought some groceries.\"",
   "id": "53997c7aba7793d4",
   "outputs": [],
   "execution_count": 4
  },
  {
   "metadata": {},
   "cell_type": "code",
   "source": [
    "import pandas as pd\n",
    "df = pd.read_parquet(path='../data/text_samples.parquet')\n",
    "# print(df.head())\n",
    "comp_containing_indexes = 5, 7, 30, 31, 34, 35, 41\n",
    "# ToDo: Improve pattern for 34, 35\n",
    "index = 7\n",
    "text = df.loc[index, 'pp_art_text']\n",
    "text"
   ],
   "id": "995c063156ec584b",
   "outputs": [],
   "execution_count": null
  },
  {
   "metadata": {},
   "cell_type": "code",
   "source": "cr.create_doc(text)",
   "id": "3899d964b9ea5e72",
   "outputs": [],
   "execution_count": null
  },
  {
   "metadata": {},
   "cell_type": "code",
   "source": [
    "for sent in cr.doc.sents:\n",
    "    print(sent.ents)\n",
    "    # print(sent)\n",
    "    print('---------------------------')"
   ],
   "id": "28d6877d06172d89",
   "outputs": [],
   "execution_count": null
  },
  {
   "metadata": {},
   "cell_type": "code",
   "source": [
    "clusters = cr.get_clusters()\n",
    "clusters"
   ],
   "id": "3e58023c1663708f",
   "outputs": [],
   "execution_count": null
  },
  {
   "metadata": {},
   "cell_type": "code",
   "source": [
    "new_text = text\n",
    "for cluster_list in clusters:\n",
    "    cluster_root = cluster_list[0]\n",
    "    root_word = text[cluster_root[0]:cluster_root[1]]\n",
    "    print('root_word:', root_word)\n",
    "    for tup in cluster_list[1:]:\n",
    "        print('coref:', text[tup[0]:tup[1]])\n",
    "    print('---------------------------------')"
   ],
   "id": "373d40b0e0235b8b",
   "outputs": [],
   "execution_count": null
  },
  {
   "metadata": {},
   "cell_type": "code",
   "source": [
    "new_text = text\n",
    "for cluster_list in clusters:\n",
    "    cluster_root = cluster_list[0]\n",
    "    root_word = text[cluster_root[0]:cluster_root[1]]\n",
    "    for tup in cluster_list[1:]:\n",
    "        word_to_replace = text[tup[0]:tup[1]]\n",
    "        new_text = new_text.replace(word_to_replace, root_word)\n",
    "\n",
    "print(new_text)"
   ],
   "id": "cbb027287bd40db0",
   "outputs": [],
   "execution_count": null
  },
  {
   "metadata": {},
   "cell_type": "code",
   "source": "cr.get_resolved_text()",
   "id": "e3f2ae530cd1f3a9",
   "outputs": [],
   "execution_count": null
  },
  {
   "metadata": {},
   "cell_type": "code",
   "source": "cr.doc.spans",
   "id": "3fc6d31ae97d045f",
   "outputs": [],
   "execution_count": null
  },
  {
   "metadata": {},
   "cell_type": "code",
   "source": "cr.clear_gpu()",
   "id": "765a8eeba487815",
   "outputs": [],
   "execution_count": null
  }
 ],
 "metadata": {
  "kernelspec": {
   "display_name": "Python 3",
   "language": "python",
   "name": "python3"
  },
  "language_info": {
   "codemirror_mode": {
    "name": "ipython",
    "version": 2
   },
   "file_extension": ".py",
   "mimetype": "text/x-python",
   "name": "python",
   "nbconvert_exporter": "python",
   "pygments_lexer": "ipython2",
   "version": "2.7.6"
  }
 },
 "nbformat": 4,
 "nbformat_minor": 5
}
