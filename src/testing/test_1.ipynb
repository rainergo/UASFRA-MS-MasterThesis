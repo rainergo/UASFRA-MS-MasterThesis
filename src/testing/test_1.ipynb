{
 "cells": [
  {
   "metadata": {},
   "cell_type": "code",
   "source": [
    "s = 'hello world!   '\n",
    "len(s)"
   ],
   "id": "2878b9a5b5c99e7f",
   "outputs": [],
   "execution_count": null
  },
  {
   "metadata": {},
   "cell_type": "code",
   "source": "len(s) - len(s.rstrip())",
   "id": "e296f52c40e069ad",
   "outputs": [],
   "execution_count": null
  },
  {
   "metadata": {},
   "cell_type": "code",
   "source": [
    "end_new = 15 - len(s) + len(s.rstrip())\n",
    "end_new"
   ],
   "id": "a621dfcebbd33583",
   "outputs": [],
   "execution_count": null
  },
  {
   "metadata": {},
   "cell_type": "code",
   "source": [
    "l = []\n",
    "all(l)"
   ],
   "id": "8a0be7d45c8088dc",
   "outputs": [],
   "execution_count": null
  },
  {
   "metadata": {},
   "cell_type": "code",
   "source": [
    "a = 5\n",
    "b = None\n",
    "\n",
    "if a > 5:\n",
    "    b = '1'\n",
    "elif a > 2:\n",
    "    b = '2'\n",
    "elif a > 3:\n",
    "    b = '3'\n",
    "else:\n",
    "    b = '100'\n",
    "\n",
    "\n",
    "b\n"
   ],
   "id": "7175a23dd870c211",
   "outputs": [],
   "execution_count": null
  },
  {
   "metadata": {},
   "cell_type": "code",
   "source": [
    "term = 'MicroTec12'\n",
    "not term.islower() and not term.isupper() and not term.istitle() and not term.isnumeric()"
   ],
   "id": "5b586a24e2b1771f",
   "outputs": [],
   "execution_count": null
  },
  {
   "metadata": {},
   "cell_type": "code",
   "source": [
    "for ind, letter in enumerate(term):\n",
    "    if ind < len(term) -1:\n",
    "        print(letter)"
   ],
   "id": "52f9de9aa269d475",
   "outputs": [],
   "execution_count": null
  },
  {
   "metadata": {},
   "cell_type": "code",
   "source": [
    "bindings = ['-', '&', '+', 'and', 'und', 'y', '@', '#']\n",
    "for exp in bindings:\n",
    "    print(exp, exp.isidentifier())\n",
    "\n",
    "after_word = [term for term in bindings if not term.isidentifier()]\n",
    "r'(?:[^' + ''.join(after_word) + r'])'"
   ],
   "id": "eb45d3165f9aa5ca",
   "outputs": [],
   "execution_count": null
  },
  {
   "metadata": {},
   "cell_type": "code",
   "source": [
    "import re\n",
    "s = 'hello world!   '\n",
    "res = list(re.finditer(r'\\w+', s))\n",
    "type(res[0])"
   ],
   "id": "c3664f5c312fb1dc",
   "outputs": [],
   "execution_count": null
  },
  {
   "metadata": {},
   "cell_type": "code",
   "source": [
    "s = 'aba'.isascii()\n",
    "func = lambda c: all([c == s[0] for c in [l for l in s]])\n",
    "# print(func(s))\n",
    "\n",
    "def check_letters_are_different(text: str) -> bool:\n",
    "    return not all([letter == text[0] for letter in [text_letter for text_letter in text]])\n",
    "\n",
    "check_letters_are_different('aaa')"
   ],
   "id": "6e87f0b5c135f430",
   "outputs": [],
   "execution_count": null
  },
  {
   "metadata": {},
   "cell_type": "code",
   "source": "'Klarsen'.replace('.', '\\.')",
   "id": "9086453f4086e731",
   "outputs": [],
   "execution_count": null
  },
  {
   "metadata": {},
   "cell_type": "code",
   "source": "'M.P.'.isupper()",
   "id": "ef1e3c11db3af8e1",
   "outputs": [],
   "execution_count": null
  },
  {
   "metadata": {},
   "cell_type": "code",
   "source": "from names_dataset import NameDataset",
   "id": "221fa158efb4ea0e",
   "outputs": [],
   "execution_count": null
  },
  {
   "metadata": {},
   "cell_type": "code",
   "source": [
    "nd = NameDataset()\n",
    "nd.search('Bla')"
   ],
   "id": "9b71649553602580",
   "outputs": [],
   "execution_count": null
  },
  {
   "metadata": {},
   "cell_type": "code",
   "source": [
    "import spacy\n",
    "nlp = spacy.load('en_core_web_lg')\n",
    "name = 'Fuller'\n",
    "doc = nlp(name)\n",
    "[ent.label_ for ent in doc.ents]"
   ],
   "id": "afc2e1308ec03709",
   "outputs": [],
   "execution_count": null
  },
  {
   "metadata": {},
   "cell_type": "code",
   "source": [
    "company_name_bindings: list[str] = ['-', '&', '+', 'and', 'und', 'y', 'et']\n",
    "name_split = [\"ABC\", \"-\", \"JKL\"]\n",
    "binding_index = binding[0] if (binding := [ind for ind, t in enumerate(name_split) if t in company_name_bindings]) else 1\n",
    "print(binding_index)"
   ],
   "id": "53e23825c210f83c",
   "outputs": [],
   "execution_count": null
  },
  {
   "metadata": {},
   "cell_type": "code",
   "source": "[t for t in name_split if t in company_name_bindings]",
   "id": "e31da62d4ef94965",
   "outputs": [],
   "execution_count": null
  },
  {
   "metadata": {},
   "cell_type": "code",
   "source": [
    "term = \"Spatial\"\n",
    "\n",
    "(not term.islower() and not term.isupper() and not term.istitle())"
   ],
   "id": "1b67f5ed1daae5a7",
   "outputs": [],
   "execution_count": null
  },
  {
   "metadata": {},
   "cell_type": "code",
   "source": [
    "term = \"Gg\"\n",
    "is_letter_number_mix = (term.isalnum() and not term.isnumeric() and not term.isalpha())\n",
    "is_letter_number_mix"
   ],
   "id": "bbe8276bcde33d92",
   "outputs": [],
   "execution_count": null
  },
  {
   "metadata": {},
   "cell_type": "code",
   "source": "(not term.islower() and not term.isupper() and not term.istitle() and not term.isnumeric())",
   "id": "ae38f93b18886f67",
   "outputs": [],
   "execution_count": null
  },
  {
   "metadata": {},
   "cell_type": "code",
   "source": [
    "previous_index = 0\n",
    "\n",
    "for ind in range(10):\n",
    "    if ind == (previous_index + 1) or ind == 0:\n",
    "        print(f'value set for {ind}')\n",
    "        print('previous index:', previous_index)\n",
    "        print('-----------------')\n",
    "        if ind >= 1:\n",
    "            previous_index += 1"
   ],
   "id": "241d9090b5c388c0",
   "outputs": [],
   "execution_count": null
  },
  {
   "metadata": {},
   "cell_type": "code",
   "source": [
    "s = \" \"\n",
    "s.isspace()"
   ],
   "id": "2d54a4760a00bb2f",
   "outputs": [],
   "execution_count": null
  }
 ],
 "metadata": {
  "kernelspec": {
   "display_name": "Python 3",
   "language": "python",
   "name": "python3"
  },
  "language_info": {
   "codemirror_mode": {
    "name": "ipython",
    "version": 2
   },
   "file_extension": ".py",
   "mimetype": "text/x-python",
   "name": "python",
   "nbconvert_exporter": "python",
   "pygments_lexer": "ipython2",
   "version": "2.7.6"
  }
 },
 "nbformat": 4,
 "nbformat_minor": 5
}
