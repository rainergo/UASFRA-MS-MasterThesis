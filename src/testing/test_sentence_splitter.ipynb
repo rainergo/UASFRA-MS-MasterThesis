{
 "cells": [
  {
   "metadata": {
    "ExecuteTime": {
     "end_time": "2024-09-17T09:26:38.679048Z",
     "start_time": "2024-09-17T09:26:35.398826Z"
    }
   },
   "cell_type": "code",
   "source": [
    "import pandas as pd\n",
    "\n",
    "from src.spacy_models.spacy_pipe_process import SpacyPipeProcess\n",
    "from src.spacy_models.spacy_utils import SpacyExt, SpacyTask\n",
    "from src.settings.enums import NaturalLanguage\n",
    "from src.data.data_loader import DataLoader"
   ],
   "id": "1152d51c0ba160c7",
   "outputs": [],
   "execution_count": 1
  },
  {
   "metadata": {
    "ExecuteTime": {
     "end_time": "2024-09-17T08:47:00.296341Z",
     "start_time": "2024-09-17T08:47:00.293784Z"
    }
   },
   "cell_type": "code",
   "source": "nat_lang = NaturalLanguage.DE",
   "id": "80caa05691e1f09f",
   "outputs": [],
   "execution_count": 2
  },
  {
   "metadata": {
    "ExecuteTime": {
     "end_time": "2024-09-17T08:47:03.982206Z",
     "start_time": "2024-09-17T08:47:01.636958Z"
    }
   },
   "cell_type": "code",
   "source": "coref = SpacyPipeProcess(natural_language=nat_lang, spacy_task=SpacyTask.COREF, use_gpu=True)",
   "id": "2711627805aa835d",
   "outputs": [
    {
     "name": "stdout",
     "output_type": "stream",
     "text": [
      "GPU is used: True\n",
      "custom extensions \"init_extensions\" initialized\n",
      "regex_entity_pattern for own_regex_search were compiled.\n",
      "Function \"own_regex_search\" initialized\n",
      "Function \"own_coref_resolve\" initialized\n"
     ]
    }
   ],
   "execution_count": 3
  },
  {
   "metadata": {
    "ExecuteTime": {
     "end_time": "2024-09-17T08:47:07.933285Z",
     "start_time": "2024-09-17T08:47:07.927436Z"
    }
   },
   "cell_type": "code",
   "source": "coref.nlp.pipe_names",
   "id": "3884baf65e391df7",
   "outputs": [
    {
     "data": {
      "text/plain": [
       "['tok2vec', 'senter', 'own_regex_search', 'llm_coref_resolve']"
      ]
     },
     "execution_count": 4,
     "metadata": {},
     "output_type": "execute_result"
    }
   ],
   "execution_count": 4
  },
  {
   "metadata": {
    "ExecuteTime": {
     "end_time": "2024-09-17T08:47:12.953356Z",
     "start_time": "2024-09-17T08:47:12.933571Z"
    }
   },
   "cell_type": "code",
   "source": [
    "from src.settings.params import abbrevs_and_company_suffixes_with_dot_at_end\n",
    "sorted(abbrevs_and_company_suffixes_with_dot_at_end)"
   ],
   "id": "bcd8f6f1c2df038d",
   "outputs": [
    {
     "data": {
      "text/plain": [
       "['a.o.',\n",
       " 'a.rh.',\n",
       " 'a.s.',\n",
       " 'ag & co.',\n",
       " 'amtl.',\n",
       " 'anh.',\n",
       " 'ank.',\n",
       " 'anl.',\n",
       " 'anm.',\n",
       " 'anschl.',\n",
       " 'app.',\n",
       " 'art.',\n",
       " 'aufl.',\n",
       " 'ausg.',\n",
       " 'b.a.',\n",
       " 'b.s.',\n",
       " 'b.v.',\n",
       " 'b.w.',\n",
       " 'bd.',\n",
       " 'bde.',\n",
       " 'beil.',\n",
       " 'bes.',\n",
       " 'betr.',\n",
       " 'bev.',\n",
       " 'bez.',\n",
       " 'bhf.',\n",
       " 'brit.',\n",
       " 'bspw.',\n",
       " 'bzgl.',\n",
       " 'bzw.',\n",
       " 'c.p.a.',\n",
       " 'chr.',\n",
       " 'co.',\n",
       " 'corp.',\n",
       " 'd.ae.',\n",
       " 'd.h.',\n",
       " 'd.i.',\n",
       " 'd.j.',\n",
       " 'd.m.',\n",
       " 'd.o.',\n",
       " 'dazw.',\n",
       " 'de.',\n",
       " 'desgl.',\n",
       " 'dgl.',\n",
       " 'dipl.',\n",
       " 'dir.',\n",
       " 'dr.',\n",
       " 'dt.',\n",
       " 'dtzd.',\n",
       " 'e.h.',\n",
       " 'e.v.',\n",
       " 'e.wz.',\n",
       " 'ehem.',\n",
       " 'eigtl.',\n",
       " 'einschl.',\n",
       " 'engl.',\n",
       " 'entspr.',\n",
       " 'erb.',\n",
       " 'erw.',\n",
       " 'ev.',\n",
       " 'evtl.',\n",
       " 'exkl..',\n",
       " 'fa.',\n",
       " 'fam.',\n",
       " 'ffm.',\n",
       " 'fr.',\n",
       " 'frfr.',\n",
       " 'frl.',\n",
       " 'frz.',\n",
       " 'geb.',\n",
       " 'gebr.',\n",
       " 'gedr.',\n",
       " 'gegr.',\n",
       " 'gek.',\n",
       " 'ges.',\n",
       " 'gesch.',\n",
       " 'geschl.',\n",
       " 'geschr.',\n",
       " 'gest.',\n",
       " 'gez.',\n",
       " 'ggf.',\n",
       " 'ggfs.',\n",
       " 'gmbh & co.',\n",
       " 'hpts.',\n",
       " 'hptst.',\n",
       " 'hr.',\n",
       " 'hrn.',\n",
       " 'hrsg.',\n",
       " 'i.a.',\n",
       " 'i.b.',\n",
       " 'i.d.',\n",
       " 'i.h.',\n",
       " 'i.j.',\n",
       " 'i.r.',\n",
       " 'i.v.',\n",
       " 'inc.',\n",
       " 'ing.',\n",
       " 'inh.',\n",
       " 'inkl.',\n",
       " 'inzw.',\n",
       " 'j.d.',\n",
       " 'jew.',\n",
       " 'jh.',\n",
       " 'jhrl.',\n",
       " 'k.a.',\n",
       " 'k.s.',\n",
       " 'kath.',\n",
       " 'kfm.',\n",
       " 'kl.',\n",
       " 'kompl.',\n",
       " 'led.',\n",
       " 'ltd.',\n",
       " 'm.a.',\n",
       " 'm.a.w.',\n",
       " 'm.d.',\n",
       " 'm.e.',\n",
       " 'm.m.',\n",
       " 'm.m.n.',\n",
       " 'm.s.',\n",
       " 'm.ue.m.',\n",
       " 'm.w.',\n",
       " 'mdl.',\n",
       " 'mil.',\n",
       " 'mill.',\n",
       " 'mio.',\n",
       " 'moebl.',\n",
       " 'mrd.',\n",
       " 'msp.',\n",
       " 'mtl.',\n",
       " 'n.j.',\n",
       " 'n.v.',\n",
       " 'naeml.',\n",
       " 'noerdl.',\n",
       " 'norw.',\n",
       " 'nr.',\n",
       " 'o.a.',\n",
       " 'o.ae.',\n",
       " 'o.b.',\n",
       " 'o.g.',\n",
       " 'od.',\n",
       " 'p.l.c.',\n",
       " 'pfd.',\n",
       " 'ph.d.',\n",
       " 'pkt.',\n",
       " 'pl.',\n",
       " 'plc.',\n",
       " 'prof.',\n",
       " 's.a.',\n",
       " 's.a.e.',\n",
       " 's.a.s.',\n",
       " 's.b.',\n",
       " 's.e.',\n",
       " 's.o.',\n",
       " 's.p.a.',\n",
       " 's.r.o.',\n",
       " 's.u.',\n",
       " 'sa.',\n",
       " 'sek.',\n",
       " 'societa per azioni s.b.',\n",
       " 'sog.',\n",
       " 'sp. z o.o.',\n",
       " 'st.',\n",
       " 'std.',\n",
       " 'str.',\n",
       " 'taegl.',\n",
       " 'tel.',\n",
       " 'tsd.',\n",
       " 'u.a.',\n",
       " 'u.a.m.',\n",
       " 'u.ae.',\n",
       " 'u.u.',\n",
       " 'u.v.a.',\n",
       " 'u.zw.',\n",
       " 'uebl.',\n",
       " 'ueblw.',\n",
       " 'usw.',\n",
       " 'v.a.',\n",
       " 'v.h.',\n",
       " 'v.t.',\n",
       " 'vgl.',\n",
       " 'vj.',\n",
       " 'w.o.',\n",
       " 'wstl.',\n",
       " 'z.t.',\n",
       " 'z.z.',\n",
       " 'z.zt.',\n",
       " 'ztr.',\n",
       " 'zus.',\n",
       " 'zzgl.']"
      ]
     },
     "execution_count": 5,
     "metadata": {},
     "output_type": "execute_result"
    }
   ],
   "execution_count": 5
  },
  {
   "metadata": {
    "ExecuteTime": {
     "end_time": "2024-09-17T08:47:14.366602Z",
     "start_time": "2024-09-17T08:47:14.360989Z"
    }
   },
   "cell_type": "code",
   "source": [
    "# coref.add_special_cases_to_tokenizer(special_cases=['ltd.'])\n",
    "coref.set_custom_tokenizer(special_tokens=abbrevs_and_company_suffixes_with_dot_at_end)"
   ],
   "id": "aac33b1542c25a8b",
   "outputs": [],
   "execution_count": 6
  },
  {
   "metadata": {
    "ExecuteTime": {
     "end_time": "2024-09-17T08:47:17.130650Z",
     "start_time": "2024-09-17T08:47:16.726193Z"
    }
   },
   "cell_type": "code",
   "source": [
    "dl = DataLoader()\n",
    "year = 2023\n",
    "month = 5\n",
    "df = dl.load_monthly_df(year=year, month=month)"
   ],
   "id": "2afd77099d0f8a5a",
   "outputs": [],
   "execution_count": 7
  },
  {
   "metadata": {
    "ExecuteTime": {
     "end_time": "2024-09-17T08:47:19.279487Z",
     "start_time": "2024-09-17T08:47:19.271301Z"
    }
   },
   "cell_type": "code",
   "source": [
    "# without findings: 10, 11\n",
    "index = 105\n",
    "isin = df.loc[index, 'art_isin']\n",
    "company = df.loc[index, 'art_company_name']\n",
    "print('ISIN:', isin, '---', 'COMP:', company)\n",
    "print('-----------------------------------')\n",
    "text = df.loc[index, 'pp_art_text']\n",
    "text"
   ],
   "id": "5927650a457788e4",
   "outputs": [
    {
     "name": "stdout",
     "output_type": "stream",
     "text": [
      "ISIN: DE0007571424 --- COMP: GK Software SE\n",
      "-----------------------------------\n"
     ]
    },
    {
     "data": {
      "text/plain": [
       "'GK Software SE: Abschluss eines Delisting-Vertrages mit Fujitsu Delisting-Erwerbsangebot von Fujitsu zu EUR 190,00 je Aktie angekuendigt.  GK Software SE: Abschluss eines Delisting-Vertrages mit Fujitsu  Delisting-Erwerbsangebot von Fujitsu zu EUR 190,00 je Aktie angekuendigt.  Veroeffentlichung einer Insiderinformation nach Artikel 17 der Verordnung  Nr. 596 2014, uebermittelt durch EQS News - ein Service der EQS Group AG.  Die GK Software SE hat heute einen Delisting-Vertrag mit der Fujitsu Ltd. sowie mit deren 100%iger Tochtergesellschaft, der Fujitsu ND Solutions AG, abgeschlossen. Auf Grundlage dieses Vertrages soll die Stellung eines Antrags auf Widerruf der Zulassung der GK-Aktien am regulierten Markt erfolgen; zudem sollen wirtschaftlich angemessene Massnahmen getroffen werden, die erforderlich und fuer die Gesellschaft moeglich sind, um die Einbeziehung der GK-Aktien in den Handel im Freiverkehr zu beenden. Gemaess den Bestimmungen des Delisting-Vertrages wird die Bieterin heute die Entscheidung veroeffentlichen, den Aktionaeren der GK ein oeffentliches Delisting-Erwerbsangebot in Form eines Barangebots zum Erwerb saemtlicher Aktien der GK, die nicht bereits direkt von der Bieterin gehalten werden, gegen Zahlung einer Gegenleistung in bar in Hoehe von EUR 190,00 je GK-Aktie zu unterbreiten. Die Hoehe des Delisting-Erwerbsangebots wird somit der Hoehe der Gegenleistung des freiwilligen oeffentlichen Uebernahmeangebots aufgrund der Angebotsunterlage der Bieterin vom 23. Maerz 2023 entsprechen. Das Uebernahmeangebot wurde gemaess Meldung der Bieterin vom 25. April 2023 bislang fuer insgesamt 1.490.328 GK-Aktien angenommen; dies entspricht einem Anteil von etwa 65,57 % der bestehenden Stimmrechte der GK. Die weitere Annahmefrist zum freiwilligen oeffentlichen Uebernahmeangebot laeuft noch bis zum 9. Mai 2023, 24.00 Uhr. Der Vorstand und der Aufsichtsrat von GK, die beide dem Abschluss des Delisting-Vertrages zugestimmt haben, begruessen und unterstuetzen das angekuendigte Delisting-Erwerbsangebot von Fujitsu. Vorbehaltlich der sorgfaeltigen Pruefung der Angebotsunterlage zum oeffentlichen Delisting-Erwerbsangebot und der Wahrnehmung ihrer gesetzlichen Verpflichtungen beabsichtigen der Vorstand und der Aufsichtsrat von GK, in ihrer gemaess § 27 des Wertpapiererwerbs- und Uebernahmegesetz zu veroeffentlichenden gemeinsamen begruendeten Stellungnahme den Aktionaeren des Unternehmens zu empfehlen, das Angebot anzunehmen. Der weitere Prozess wird im Delisting-Vertrag konkretisiert. Dieser enthaelt zudem Bestimmungen zur Sicherung der Finanzierung der Gesellschaft nach Beendigung der Boersennotierung und damit auch Schutzmassnahmen zugunsten der GK-Gruppe nach Widerruf der Boersenzulassung. Nach Wirksamwerden des Widerrufs der Boersenzulassung werden die Aktien der GK nicht mehr an einem inlaendischen regulierten Markt oder einem vergleichbaren Markt im Ausland zum Handel zugelassen sein und gehandelt werden. GK Software SE.  Waldstrasse 7.  08261 Schoeneck.    WKN 757142.  ISIN DE0007571424.'"
      ]
     },
     "execution_count": 8,
     "metadata": {},
     "output_type": "execute_result"
    }
   ],
   "execution_count": 8
  },
  {
   "metadata": {
    "ExecuteTime": {
     "end_time": "2024-09-17T08:47:25.306250Z",
     "start_time": "2024-09-17T08:47:22.622730Z"
    }
   },
   "cell_type": "code",
   "source": [
    "%%time\n",
    "doc = coref.nlp(text=text)"
   ],
   "id": "3e378e0632518701",
   "outputs": [
    {
     "name": "stdout",
     "output_type": "stream",
     "text": [
      "##### ->>>>>>>>>> COREF: PipeFunc.CUST_EXT_VAL_WAS_SET: True\n",
      "ents_with_cust_exts: [{'start_char': 0, 'end_char': 11, 'ent_text': 'GK Software', 'comp_name': 'GK Software SE', 'comp_symbol': 'GKS.HM', 'set_in': 'own_regex_search'}, {'start_char': 139, 'end_char': 150, 'ent_text': 'GK Software', 'comp_name': 'GK Software SE', 'comp_symbol': 'GKS.HM', 'set_in': 'own_regex_search'}, {'start_char': 433, 'end_char': 447, 'ent_text': 'GK Software SE', 'comp_name': 'GK Software SE', 'comp_symbol': 'GKS.HM', 'set_in': 'own_regex_search'}, {'start_char': 2962, 'end_char': 2973, 'ent_text': 'GK Software', 'comp_name': 'GK Software SE', 'comp_symbol': 'GKS.HM', 'set_in': 'own_regex_search'}]\n",
      "CPU times: user 2.53 s, sys: 147 ms, total: 2.68 s\n",
      "Wall time: 2.68 s\n"
     ]
    }
   ],
   "execution_count": 9
  },
  {
   "metadata": {},
   "cell_type": "code",
   "source": [
    "for sent in doc.sents:\n",
    "    print(sent)\n",
    "    print('----------------')"
   ],
   "id": "267bfa9328985247",
   "outputs": [],
   "execution_count": null
  },
  {
   "metadata": {},
   "cell_type": "code",
   "source": "coref.get_sentences_with_custom_extensions(processed_doc=doc)",
   "id": "5e17ce7b2776c5ac",
   "outputs": [],
   "execution_count": null
  },
  {
   "metadata": {},
   "cell_type": "code",
   "source": "SpacyPipeProcess.get_ents_with_custom_extension(ents=doc.ents)",
   "id": "861a2768a89393b4",
   "outputs": [],
   "execution_count": null
  },
  {
   "metadata": {},
   "cell_type": "code",
   "source": "# coref.nlp.tokenizer.explain('Die GK Software SE hat heute einen Delisting-Vertrag mit der Fujitsu Ltd. sowie mit deren 100%iger Tochtergesellschaft, der Fujitsu ND Solutions AG, abgeschlossen.')",
   "id": "da7f0cba4c3529f9",
   "outputs": [],
   "execution_count": null
  },
  {
   "metadata": {},
   "cell_type": "code",
   "source": [
    "from src.settings.params import abbrevs_and_company_suffixes_with_dot_at_end\n",
    "# coref.add_special_cases_to_tokenizer(special_cases=['Ltd.'])"
   ],
   "id": "ffeeec335e3807b2",
   "outputs": [],
   "execution_count": null
  },
  {
   "metadata": {},
   "cell_type": "code",
   "source": "# coref.nlp.tokenizer.explain('Ltd.')",
   "id": "3567af6d23dcdadd",
   "outputs": [],
   "execution_count": null
  },
  {
   "metadata": {},
   "cell_type": "code",
   "source": [
    "# for sent in doc.sents:\n",
    "#     if sent.ents:\n",
    "#         ents_with_cust_ext = [{'start_char':e.start_char, 'end_char':e.end_char, 'ent_text':e.text, 'comp_name':getattr(e._, SpacyExt.COMP_NAME.ext_name), 'comp_symbol':getattr(e._, SpacyExt.COMP_SYMBOL.ext_name), 'set_in': getattr(e._, SpacyExt.SET_IN.ext_name)} for e in sent.ents if getattr(e._, SpacyExt.COMP_NAME.ext_name) != '']\n",
    "#         s = {'sentence': sent.text, 'entities': ents_with_cust_ext} \n",
    "#         print(s)\n",
    "#         print('----------------')\n",
    "#     else:\n",
    "#         continue\n",
    "#     print('###############  SENTENCE END ####################')"
   ],
   "id": "8bca6339b0f9b1da",
   "outputs": [],
   "execution_count": null
  },
  {
   "metadata": {},
   "cell_type": "code",
   "source": "doc.text[2811:2817]",
   "id": "1bd3c4878872b20a",
   "outputs": [],
   "execution_count": null
  }
 ],
 "metadata": {
  "kernelspec": {
   "display_name": "Python 3",
   "language": "python",
   "name": "python3"
  },
  "language_info": {
   "codemirror_mode": {
    "name": "ipython",
    "version": 2
   },
   "file_extension": ".py",
   "mimetype": "text/x-python",
   "name": "python",
   "nbconvert_exporter": "python",
   "pygments_lexer": "ipython2",
   "version": "2.7.6"
  }
 },
 "nbformat": 4,
 "nbformat_minor": 5
}
