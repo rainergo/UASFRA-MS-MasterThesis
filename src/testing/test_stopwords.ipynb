{
 "cells": [
  {
   "cell_type": "code",
   "id": "initial_id",
   "metadata": {
    "collapsed": true
   },
   "source": [
    "import spacy\n",
    "from spacy.tokens import DocBin\n",
    "from spacy.lang.en.stop_words import STOP_WORDS as stop_words_en\n",
    "from spacy.lang.de.stop_words import STOP_WORDS as stop_words_de\n",
    "\n",
    "from src.settings.params import company_suffixes_industry_hints, company_suffixes_corporate_structure"
   ],
   "outputs": [],
   "execution_count": null
  },
  {
   "cell_type": "code",
   "source": [
    "print(sorted(stop_words_de))"
   ],
   "metadata": {
    "collapsed": false
   },
   "id": "436a2ec13c1d5e01",
   "outputs": [],
   "execution_count": null
  },
  {
   "cell_type": "code",
   "source": [
    "print(sorted(stop_words_en))"
   ],
   "metadata": {
    "collapsed": false
   },
   "id": "bd67bd25732911ba",
   "outputs": [],
   "execution_count": null
  },
  {
   "metadata": {},
   "cell_type": "code",
   "source": "\"don't\" in stop_words_en",
   "id": "809d3f3f8cc80173",
   "outputs": [],
   "execution_count": null
  },
  {
   "cell_type": "code",
   "source": [
    "for term in (company_suffixes_corporate_structure + company_suffixes_industry_hints):\n",
    "    if term.lower() in stop_words_de or term in stop_words_en:\n",
    "        print(term)\n",
    "        print('--------')     "
   ],
   "metadata": {
    "collapsed": false
   },
   "id": "77f635a61b8536e1",
   "outputs": [],
   "execution_count": null
  },
  {
   "cell_type": "code",
   "source": "'mission' in stop_words_en",
   "metadata": {
    "collapsed": false
   },
   "id": "3de59452ea3de9df",
   "outputs": [],
   "execution_count": null
  },
  {
   "metadata": {},
   "cell_type": "code",
   "source": [
    "nlp_english = spacy.load(\"en_core_web_lg\")\n",
    "nlp_german =spacy.load(\"de_core_news_lg\")"
   ],
   "id": "848c3ecff7868bba",
   "outputs": [],
   "execution_count": null
  },
  {
   "metadata": {},
   "cell_type": "code",
   "source": "nlp_english.vocab.strings['NNS']",
   "id": "bb26908a9aee23a7",
   "outputs": [],
   "execution_count": null
  },
  {
   "metadata": {},
   "cell_type": "code",
   "source": [
    "doc_bin = DocBin(attrs=[\"POS\"])\n",
    "doc_bin.add(nlp_english(\"Hello world\"))\n",
    "doc_bin.span_groups"
   ],
   "id": "2bfcc9b737f4faad",
   "outputs": [],
   "execution_count": null
  },
  {
   "metadata": {},
   "cell_type": "code",
   "source": [
    "str_part = 'mission'\n",
    "terms = sorted(set([word.lower() for word in list(nlp_english.vocab.strings) if (word.isidentifier() and word.isalpha())]), reverse=False)\n",
    "print(len(terms))\n",
    "terms[360000:]"
   ],
   "id": "f956c53fac18ebfd",
   "outputs": [],
   "execution_count": null
  },
  {
   "metadata": {},
   "cell_type": "code",
   "source": "'a300b4'.isalpha()",
   "id": "95cd7a2d2203dfd7",
   "outputs": [],
   "execution_count": null
  },
  {
   "metadata": {},
   "cell_type": "code",
   "source": "text = ' '.join(list(nlp_english.vocab.strings))",
   "id": "23112a89acd5d459",
   "outputs": [],
   "execution_count": null
  },
  {
   "metadata": {},
   "cell_type": "code",
   "source": "doc = nlp_english(text)",
   "id": "baf226ca06bd5393",
   "outputs": [],
   "execution_count": null
  }
 ],
 "metadata": {
  "kernelspec": {
   "display_name": "Python 3",
   "language": "python",
   "name": "python3"
  },
  "language_info": {
   "codemirror_mode": {
    "name": "ipython",
    "version": 2
   },
   "file_extension": ".py",
   "mimetype": "text/x-python",
   "name": "python",
   "nbconvert_exporter": "python",
   "pygments_lexer": "ipython2",
   "version": "2.7.6"
  }
 },
 "nbformat": 4,
 "nbformat_minor": 5
}
