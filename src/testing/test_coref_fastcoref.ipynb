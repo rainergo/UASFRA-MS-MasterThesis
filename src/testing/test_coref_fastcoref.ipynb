{
 "cells": [
  {
   "cell_type": "code",
   "id": "initial_id",
   "metadata": {
    "collapsed": true
   },
   "source": "# https://github.com/shon-otmazgin/fastcoref",
   "outputs": [],
   "execution_count": null
  },
  {
   "metadata": {},
   "cell_type": "code",
   "source": [
    "import pandas as pd\n",
    "import spacy\n",
    "from fastcoref import FCoref\n",
    "\n",
    "from src.spacy_models.spacy_pipe import SpacyPipeBuild\n",
    "from src.spacy_models.spacy_utils import SpacyExt, SpacyTask\n",
    "from src.settings.enums import NaturalLanguage"
   ],
   "id": "33139b0c3f79b6e0",
   "outputs": [],
   "execution_count": null
  },
  {
   "metadata": {},
   "cell_type": "code",
   "source": "model = FCoref(device='cuda:0')",
   "id": "9164ddb1f9163159",
   "outputs": [],
   "execution_count": null
  },
  {
   "metadata": {},
   "cell_type": "code",
   "source": [
    "df = pd.read_parquet(path='../data/text_samples.parquet')\n",
    "# print(df.head())\n",
    "comp_containing_indexes = 5, 7, 30, 31, 34, 35, 41\n",
    "# ToDo: Improve pattern for 34, 35\n",
    "index = 7\n",
    "text = df.loc[index, 'pp_art_text']\n",
    "text"
   ],
   "id": "9413d0c3898b324d",
   "outputs": [],
   "execution_count": null
  },
  {
   "metadata": {},
   "cell_type": "code",
   "source": "text = 'Die DZ Bank hat Lanxess nach einer Gewinnwarnung des Chemiekonzerns von Kaufen auf Halten abgestuft und den fairen Wert von 43 auf 28 Euro gesenkt. Ein Aufschwung beim Unternehmen sei nicht in Sicht, im europaeischen Chemiesektor duerfte es zu weiteren Gewinnrevisionen kommen.'",
   "id": "b6ad2e48ab3aa089",
   "outputs": [],
   "execution_count": null
  },
  {
   "metadata": {},
   "cell_type": "code",
   "source": [
    "preds = model.predict(texts=[text], max_tokens_in_batch=100)\n",
    "preds"
   ],
   "id": "3ae839ae4ab287d7",
   "outputs": [],
   "execution_count": null
  },
  {
   "metadata": {},
   "cell_type": "code",
   "source": "preds[0].get_clusters(as_strings=False)",
   "id": "47355a7df001314e",
   "outputs": [],
   "execution_count": null
  },
  {
   "metadata": {},
   "cell_type": "code",
   "source": "preds[0].get_clusters()",
   "id": "e69e55484656e5d2",
   "outputs": [],
   "execution_count": null
  },
  {
   "metadata": {},
   "cell_type": "code",
   "source": "# preds[0].get_logit(span_i=(33, 50), span_j=(52, 64))",
   "id": "88c12468994ccb22",
   "outputs": [],
   "execution_count": null
  },
  {
   "metadata": {},
   "cell_type": "code",
   "source": [
    "from fastcoref import spacy_component\n",
    "nlp = spacy.load(\"en_core_web_lg\")\n",
    "nlp.add_pipe(\"fastcoref\")"
   ],
   "id": "2006fd51c484fcd3",
   "outputs": [],
   "execution_count": null
  },
  {
   "metadata": {},
   "cell_type": "code",
   "source": "doc = nlp(text, component_cfg={\"fastcoref\": {'resolve_text': True}})",
   "id": "c655f28e1d2b9044",
   "outputs": [],
   "execution_count": null
  },
  {
   "metadata": {},
   "cell_type": "code",
   "source": "doc._.coref_clusters",
   "id": "e6df2b85de48d74f",
   "outputs": [],
   "execution_count": null
  },
  {
   "metadata": {},
   "cell_type": "code",
   "source": "doc._.resolved_text",
   "id": "967ddebe42291df4",
   "outputs": [],
   "execution_count": null
  }
 ],
 "metadata": {
  "kernelspec": {
   "display_name": "Python 3",
   "language": "python",
   "name": "python3"
  },
  "language_info": {
   "codemirror_mode": {
    "name": "ipython",
    "version": 2
   },
   "file_extension": ".py",
   "mimetype": "text/x-python",
   "name": "python",
   "nbconvert_exporter": "python",
   "pygments_lexer": "ipython2",
   "version": "2.7.6"
  }
 },
 "nbformat": 4,
 "nbformat_minor": 5
}
