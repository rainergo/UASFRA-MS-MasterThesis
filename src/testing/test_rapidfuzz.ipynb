{
 "cells": [
  {
   "cell_type": "code",
   "id": "initial_id",
   "metadata": {
    "collapsed": true
   },
   "source": [
    "from rapidfuzz import fuzz, process, utils"
   ],
   "outputs": [],
   "execution_count": null
  },
  {
   "metadata": {},
   "cell_type": "code",
   "source": [
    "text = \"Suess Microtec\""
   ],
   "id": "660075e6ce1576fd",
   "outputs": [],
   "execution_count": null
  },
  {
   "metadata": {},
   "cell_type": "code",
   "source": [
    "from src.data.company_data import comp_name_symbol_list, comp_name_list_without_legal"
   ],
   "id": "8f445d0801852fc0",
   "outputs": [],
   "execution_count": null
  },
  {
   "metadata": {},
   "cell_type": "code",
   "source": [
    "from src.utils.funcs import fuzzy_search_one, fuzzy_ratio"
   ],
   "id": "f46f906afd6f8770",
   "outputs": [],
   "execution_count": null
  },
  {
   "metadata": {},
   "cell_type": "code",
   "source": [
    "# text1 = 'SÜSS MicroTec'\n",
    "# text2 = 'Suess Microtec'\n",
    "text1 = 'distribution'\n",
    "text2 = 'distributions'"
   ],
   "id": "aab7eb7ecef49aee",
   "outputs": [],
   "execution_count": null
  },
  {
   "metadata": {},
   "cell_type": "code",
   "source": "fuzzy_ratio(text1=text1, text2=text2, use_partial=False)",
   "id": "6436178cb0060247",
   "outputs": [],
   "execution_count": null
  },
  {
   "metadata": {},
   "cell_type": "code",
   "source": [
    "match, similarity, index = fuzzy_search_one(text=text, choices=comp_name_list_without_legal, use_partial=False, case_sensitive=False)\n",
    "print(f'RESULT: match: {match} - similarity: {similarity:.2f} - index: {index}')"
   ],
   "id": "d648e557739eab33",
   "outputs": [],
   "execution_count": null
  },
  {
   "metadata": {},
   "cell_type": "code",
   "source": [
    "match, similarity, index = fuzzy_search_one(text=text, choices=comp_name_list_without_legal, use_partial=True, case_sensitive=False)\n",
    "print(f'RESULT: match: {match} - similarity: {similarity:.2f} - index: {index}')"
   ],
   "id": "e046825fb5facd1",
   "outputs": [],
   "execution_count": null
  },
  {
   "metadata": {},
   "cell_type": "code",
   "source": [
    "comp_name_symbol_list[index]"
   ],
   "id": "9347e57b48797164",
   "outputs": [],
   "execution_count": null
  }
 ],
 "metadata": {
  "kernelspec": {
   "display_name": "Python 3",
   "language": "python",
   "name": "python3"
  },
  "language_info": {
   "codemirror_mode": {
    "name": "ipython",
    "version": 2
   },
   "file_extension": ".py",
   "mimetype": "text/x-python",
   "name": "python",
   "nbconvert_exporter": "python",
   "pygments_lexer": "ipython2",
   "version": "2.7.6"
  }
 },
 "nbformat": 4,
 "nbformat_minor": 5
}
