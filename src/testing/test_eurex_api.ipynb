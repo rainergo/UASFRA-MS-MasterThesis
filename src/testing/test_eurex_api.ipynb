{
 "cells": [
  {
   "cell_type": "code",
   "id": "initial_id",
   "metadata": {
    "collapsed": true
   },
   "source": "import requests",
   "outputs": [],
   "execution_count": null
  },
  {
   "metadata": {},
   "cell_type": "code",
   "source": "query = \"\"\"{Contracts(filter:{Product:{eq:\"FDAX\"}}){date,data{ISIN,Contract,ExpirationDate}}}\"\"\"",
   "id": "f4d61be05405980d",
   "outputs": [],
   "execution_count": null
  },
  {
   "metadata": {},
   "cell_type": "code",
   "source": [
    "url = 'https://api.developer.deutsche-boerse.com/accesstot7-referencedata-1-1-0/'\n",
    "header: dict = {\"X-DBP-APIKEY\": \"632eff11-9f3e-4b09-959f-c07855155780\"}\n",
    "response = requests.post(url=url, headers=header)"
   ],
   "id": "bf32461a9ad56f0d",
   "outputs": [],
   "execution_count": null
  },
  {
   "metadata": {},
   "cell_type": "code",
   "source": "response.status_code",
   "id": "9c7dc0e132dc5a3d",
   "outputs": [],
   "execution_count": null
  },
  {
   "metadata": {},
   "cell_type": "code",
   "source": [
    "s = 'curl https://api.developer.deutsche-boerse.com/accesstot7-referencedata-1-1-0 -H X-DBP-APIKEY:632eff11-9f3e-4b09-959f-c07855155780'\n",
    "l = s.split()\n",
    "l"
   ],
   "id": "3c64e74887b9757f",
   "outputs": [],
   "execution_count": null
  },
  {
   "metadata": {},
   "cell_type": "code",
   "source": [
    "import subprocess\n",
    "res = subprocess.run(l)\n",
    "print(res)"
   ],
   "id": "903ee2f77f2f8c27",
   "outputs": [],
   "execution_count": null
  }
 ],
 "metadata": {
  "kernelspec": {
   "display_name": "Python 3",
   "language": "python",
   "name": "python3"
  },
  "language_info": {
   "codemirror_mode": {
    "name": "ipython",
    "version": 2
   },
   "file_extension": ".py",
   "mimetype": "text/x-python",
   "name": "python",
   "nbconvert_exporter": "python",
   "pygments_lexer": "ipython2",
   "version": "2.7.6"
  }
 },
 "nbformat": 4,
 "nbformat_minor": 5
}
