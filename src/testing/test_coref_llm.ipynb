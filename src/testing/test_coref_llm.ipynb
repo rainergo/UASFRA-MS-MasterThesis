{
 "cells": [
  {
   "metadata": {},
   "cell_type": "code",
   "source": [
    "import pandas as pd\n",
    "\n",
    "from src.spacy_models.spacy_pipe_process import SpacyPipeProcess\n",
    "from src.spacy_models.spacy_utils import SpacyExt, SpacyTask, ExtractionType\n",
    "from src.settings.enums import NaturalLanguage\n",
    "from src.data.data_loader import DataLoader"
   ],
   "id": "1152d51c0ba160c7",
   "outputs": [],
   "execution_count": null
  },
  {
   "metadata": {},
   "cell_type": "code",
   "source": "nat_lang = NaturalLanguage.DE",
   "id": "80caa05691e1f09f",
   "outputs": [],
   "execution_count": null
  },
  {
   "metadata": {},
   "cell_type": "code",
   "source": "coref = SpacyPipeProcess(natural_language=nat_lang, spacy_task=SpacyTask.COREF, use_gpu=True, extraction_type=ExtractionType.GENERATIVE_LLM)",
   "id": "2711627805aa835d",
   "outputs": [],
   "execution_count": null
  },
  {
   "metadata": {},
   "cell_type": "code",
   "source": "coref.nlp.pipe_names",
   "id": "3884baf65e391df7",
   "outputs": [],
   "execution_count": null
  },
  {
   "metadata": {},
   "cell_type": "code",
   "source": [
    "dl = DataLoader()\n",
    "year = 2023\n",
    "month = 5\n",
    "df = dl.load_monthly_df(year=year, month=month)"
   ],
   "id": "2afd77099d0f8a5a",
   "outputs": [],
   "execution_count": null
  },
  {
   "metadata": {},
   "cell_type": "code",
   "source": [
    "# without findings: 10, 11\n",
    "index = 44\n",
    "isin = df.loc[index, 'art_isin']\n",
    "company = df.loc[index, 'art_company_name']\n",
    "print('ISIN:', isin, '---', 'COMP:', company)\n",
    "print('-----------------------------------')\n",
    "text = df.loc[index, 'pp_art_text']\n",
    "text"
   ],
   "id": "5927650a457788e4",
   "outputs": [],
   "execution_count": null
  },
  {
   "metadata": {},
   "cell_type": "code",
   "source": [
    "%%time\n",
    "doc = coref.nlp(text=text)"
   ],
   "id": "3e378e0632518701",
   "outputs": [],
   "execution_count": null
  },
  {
   "metadata": {},
   "cell_type": "code",
   "source": [
    "for ent in doc.ents:\n",
    "    # if ent.has_extension(SpacyExt.COMP_NAME.ext_name):\n",
    "    print('ent.text:', ent.text)\n",
    "    print('COMP_NAME:', getattr(ent._, SpacyExt.COMP_NAME.value))\n",
    "    print('COMP_SYMBOL:', getattr(ent._, SpacyExt.COMP_SYMBOL.value))\n",
    "    print('ent.label_:', ent.label_)\n",
    "    print('SET_IN:', getattr(ent._, SpacyExt.SET_IN.value))\n",
    "    print('------------------------------------')"
   ],
   "id": "8ad3f8d90fde8304",
   "outputs": [],
   "execution_count": null
  },
  {
   "metadata": {},
   "cell_type": "code",
   "source": [
    "from spacy import displacy\n",
    "options = { \"colors\": {\"ORG\": \"red\",\"ENT-RULER\":\"green\", \"OWN-REGEX\":\"orange\", \"ORG-PART\":\"blue\", \"LLM-COREF\":\"blue\",\"FUZZY\":\"pink\", \"PER\":\"grey\", \"LOC\":\"gray\"}}\n",
    "displacy.render(doc, style='ent', options=options)"
   ],
   "id": "1bd3c4878872b20a",
   "outputs": [],
   "execution_count": null
  }
 ],
 "metadata": {
  "kernelspec": {
   "display_name": "Python 3",
   "language": "python",
   "name": "python3"
  },
  "language_info": {
   "codemirror_mode": {
    "name": "ipython",
    "version": 2
   },
   "file_extension": ".py",
   "mimetype": "text/x-python",
   "name": "python",
   "nbconvert_exporter": "python",
   "pygments_lexer": "ipython2",
   "version": "2.7.6"
  }
 },
 "nbformat": 4,
 "nbformat_minor": 5
}
