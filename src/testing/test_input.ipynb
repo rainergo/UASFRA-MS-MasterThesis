{
 "cells": [
  {
   "metadata": {},
   "cell_type": "code",
   "source": [
    "import re\n",
    "import pandas as pd"
   ],
   "id": "b7f6680cf81d987d",
   "outputs": [],
   "execution_count": null
  },
  {
   "metadata": {},
   "cell_type": "code",
   "source": [
    "df_text = pd.read_parquet(path='../data/text_samples.parquet')\n",
    "df_text"
   ],
   "id": "2e8ecbf38e692573",
   "outputs": [],
   "execution_count": null
  },
  {
   "metadata": {},
   "cell_type": "code",
   "source": [
    "df_companies = pd.read_parquet(path='../data/companies.parquet')\n",
    "df_companies"
   ],
   "id": "e530f54212aab4ae",
   "outputs": [],
   "execution_count": null
  },
  {
   "metadata": {},
   "cell_type": "code",
   "source": [
    "index = 5\n",
    "text = df_text.loc[index, 'pp_art_text']\n",
    "text"
   ],
   "id": "890278644e041c5a",
   "outputs": [],
   "execution_count": null
  },
  {
   "metadata": {},
   "cell_type": "code",
   "source": [
    "df_companies = pd.read_parquet(path='../data/companies.parquet')\n",
    "contains = 'süss'\n",
    "condition = df_companies.name.str.contains(contains, regex=True, flags=re.IGNORECASE)\n",
    "df_companies[condition]"
   ],
   "id": "d3d6c575e7725975",
   "outputs": [],
   "execution_count": null
  },
  {
   "metadata": {},
   "cell_type": "code",
   "source": [
    "company_names = df_companies['name'].unique()\n",
    "len(company_names)"
   ],
   "id": "4442a53b13266a0",
   "outputs": [],
   "execution_count": null
  },
  {
   "metadata": {},
   "cell_type": "code",
   "source": [
    "company_names = sorted(df_companies['name'].tolist())[:5]"
   ],
   "id": "934997df7749c2d5",
   "outputs": [],
   "execution_count": null
  },
  {
   "metadata": {},
   "cell_type": "code",
   "source": [
    "for comp in company_names:\n",
    "    print(comp)"
   ],
   "id": "81718023a668d283",
   "outputs": [],
   "execution_count": null
  },
  {
   "cell_type": "code",
   "source": [
    "from src.utils.re_patterns import company_name_bindings_pattern\n",
    "from src.A_data.company_data import comp_name_list_split\n",
    "from src.settings.params import company_suffixes_legal_form, company_name_bindings, company_suffixes_corporate_structure, \\\n",
    "    company_suffixes_hollow_phrases, geographic_locations, geographic_derivations"
   ],
   "metadata": {
    "collapsed": false
   },
   "id": "62ea9749d7f65424",
   "outputs": [],
   "execution_count": null
  },
  {
   "metadata": {},
   "cell_type": "code",
   "source": [
    "\n",
    "def ent_pattern_maker(comp_name_list: list[str]) -> list[dict]:\n",
    "    \"\"\" Individual entity pattern for each company. Change pattern structure here if desired. \"\"\"\n",
    "    company_name_pattern = list()\n",
    "    \n",
    "    meaningless_suffixes = set(company_suffixes_legal_form + company_suffixes_corporate_structure + company_suffixes_hollow_phrases)\n",
    "    geographic_terms = set(geographic_locations + geographic_derivations)\n",
    "    word_1 = None\n",
    "    for ind, term in enumerate(comp_name_list):\n",
    "        if ind == 0:\n",
    "            if term.isupper():\n",
    "                pattern = {'ORTH': term, 'TEXT':'IS_UPPER'}\n",
    "            elif term.islower():\n",
    "                pattern = {'ORTH': term, 'TEXT': 'IS_LOWER'}\n",
    "            else:\n",
    "                pattern = {'ORTH': term}\n",
    "            word_1 = term\n",
    "        if ind == 1:\n",
    "            # print(f'word_1: \"{word_1}\" is numeric: {word_1.isnumeric()}')\n",
    "            if term.lower() in company_name_bindings:\n",
    "                pattern = {'LOWER':{\"REGEX\": company_name_bindings_pattern}}\n",
    "            elif term.lower() in meaningless_suffixes:\n",
    "                pattern = {'LOWER': term, 'OP': '?'}\n",
    "            elif word_1.lower() in geographic_terms or word_1.isnumeric():\n",
    "                pattern = {'ORTH': term}\n",
    "            else:\n",
    "                pattern = {'LOWER': term}\n",
    "        if ind > 1:\n",
    "            if term.isnumeric():\n",
    "                pattern = {'ORTH': term}\n",
    "            elif term in company_name_bindings:\n",
    "                pattern = {'LOWER':{\"REGEX\": company_name_bindings_pattern}}\n",
    "            else:\n",
    "                pattern = {'LOWER': term, \"OP\": \"?\"}\n",
    "        company_name_pattern.append(pattern)\n",
    "    return company_name_pattern"
   ],
   "id": "ca5a58efb18fe7fa",
   "outputs": [],
   "execution_count": null
  },
  {
   "metadata": {},
   "cell_type": "code",
   "source": [
    "for comp_name_list in comp_name_list_split:\n",
    "    print(f'{\"_\".join(comp_name_list)}: {ent_pattern_maker(comp_name_list=comp_name_list)}')"
   ],
   "id": "cf2248cc37f32ae3",
   "outputs": [],
   "execution_count": null
  },
  {
   "metadata": {},
   "cell_type": "code",
   "source": [
    "w1 = 'BLA'\n",
    "w2 = 'Bla'\n",
    "w3 = 'bla'\n",
    "\n",
    "print(f'w1.istitle(): {w1.istitle()} - w2.istitle(): {w2.istitle()} - w3.istitle(): {w3.istitle()}')\n",
    "print(f'w1.istitle(): {w1.istitle()} - w2.istitle(): {w2.istitle()} - w3.istitle(): {w3.istitle()}')"
   ],
   "id": "e9a123537486482a",
   "outputs": [],
   "execution_count": null
  },
  {
   "cell_type": "code",
   "source": [
    "'450'.isnumeric()\n",
    "\n"
   ],
   "metadata": {
    "collapsed": false
   },
   "id": "d60daf7e2a64ed97",
   "outputs": [],
   "execution_count": null
  }
 ],
 "metadata": {
  "kernelspec": {
   "display_name": "Python 3",
   "language": "python",
   "name": "python3"
  },
  "language_info": {
   "codemirror_mode": {
    "name": "ipython",
    "version": 2
   },
   "file_extension": ".py",
   "mimetype": "text/x-python",
   "name": "python",
   "nbconvert_exporter": "python",
   "pygments_lexer": "ipython2",
   "version": "2.7.6"
  }
 },
 "nbformat": 4,
 "nbformat_minor": 5
}
