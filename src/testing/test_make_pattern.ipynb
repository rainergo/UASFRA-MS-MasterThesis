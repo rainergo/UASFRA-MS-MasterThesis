{
 "cells": [
  {
   "cell_type": "code",
   "id": "initial_id",
   "metadata": {
    "collapsed": true
   },
   "source": [
    "ESC_CHARS_REPL_MAP = {\" \": \"[ ]\", \".\": r\"\\.\", \"^\": r\"\\^\", \"$\": r\"\\$\", \"*\": r\"\\*\", \"+\": r\"\\+\", \"-\": r\"\\-\", \"?\": r\"\\?\",\n",
    "                      \"(\": r\"\\(\", \")\": r\"\\)\", \"[\": r\"\\[\", \"]\": r\"\\]\", \"{\": r\"\\{\", \"}\": r\"\\}\", \"|\": r\"\\|\", \"\\\\\": \"\\\\\\\\\"}\n",
    "\n",
    "\n",
    "def make_pattern_from_raw_str_iterable(raw_str_iterable: list[str] | str | tuple[str] | str | dict[str, any],\n",
    "                                       must_contain_either: list[str] = None, as_group: bool = False, as_words: bool = False, in_list: bool = False) -> str:\n",
    "    if raw_str_iterable is None or len(raw_str_iterable) == 0:\n",
    "        return ''\n",
    "    raw_str_list_new = []\n",
    "    if must_contain_either is not None:\n",
    "        for character in must_contain_either:\n",
    "            for raw_str in raw_str_iterable:\n",
    "                if character in raw_str:\n",
    "                    raw_str_list_new.append(raw_str)\n",
    "    else:\n",
    "        raw_str_list_new = raw_str_iterable\n",
    "    escaped_str_list: list = [ele.translate(str.maketrans(ESC_CHARS_REPL_MAP)) for ele in raw_str_list_new]\n",
    "    if in_list:\n",
    "        pattern_string = '[' + ''.join(escaped_str_list) + ']'\n",
    "    else:\n",
    "        pattern_string: str = '|'.join(escaped_str_list)\n",
    "    if as_words:\n",
    "        pattern_string = r'\\b(?:' + pattern_string + r')\\b'\n",
    "    if as_group:\n",
    "        pattern_string = '(?:' + pattern_string + ')'\n",
    "    return pattern_string"
   ],
   "outputs": [],
   "execution_count": null
  },
  {
   "metadata": {},
   "cell_type": "code",
   "source": [
    "non_word_replacements = {r'-': '',';': '', ',': ''}\n",
    "# non_word_replacements = {}\n",
    "word_replacements = {'I': '', 'had': 'have', 'a': '', 'in': '', 'Berlin': ''}\n",
    "\n",
    "print(make_pattern_from_raw_str_iterable(raw_str_iterable=non_word_replacements, in_list=True))\n",
    "print(make_pattern_from_raw_str_iterable(raw_str_iterable=word_replacements, as_group=True))"
   ],
   "id": "228578cb6aa78e3f",
   "outputs": [],
   "execution_count": null
  },
  {
   "metadata": {},
   "cell_type": "code",
   "source": "# ToDo: Adjust this function here and in re_patterns.py",
   "id": "57802a1cfcf0f1a4",
   "outputs": [],
   "execution_count": null
  }
 ],
 "metadata": {
  "kernelspec": {
   "display_name": "Python 3",
   "language": "python",
   "name": "python3"
  },
  "language_info": {
   "codemirror_mode": {
    "name": "ipython",
    "version": 2
   },
   "file_extension": ".py",
   "mimetype": "text/x-python",
   "name": "python",
   "nbconvert_exporter": "python",
   "pygments_lexer": "ipython2",
   "version": "2.7.6"
  }
 },
 "nbformat": 4,
 "nbformat_minor": 5
}
