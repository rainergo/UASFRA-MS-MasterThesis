{
 "cells": [
  {
   "metadata": {
    "ExecuteTime": {
     "end_time": "2024-10-27T11:09:36.402519Z",
     "start_time": "2024-10-27T11:09:34.251081Z"
    }
   },
   "cell_type": "code",
   "source": [
    "import pandas as pd\n",
    "import spacy\n",
    "import coreferee\n",
    "import coreferee_model_de\n",
    "import coreferee_model_en\n",
    "# from spacy_pipeline import SpacyNER\n",
    "# from src.settings.enums import NaturalLanguage, SpacyExt"
   ],
   "id": "1152d51c0ba160c7",
   "outputs": [
    {
     "ename": "ModuleNotFoundError",
     "evalue": "No module named 'coreferee'",
     "output_type": "error",
     "traceback": [
      "\u001B[0;31m---------------------------------------------------------------------------\u001B[0m",
      "\u001B[0;31mModuleNotFoundError\u001B[0m                       Traceback (most recent call last)",
      "Cell \u001B[0;32mIn[1], line 3\u001B[0m\n\u001B[1;32m      1\u001B[0m \u001B[38;5;28;01mimport\u001B[39;00m \u001B[38;5;21;01mpandas\u001B[39;00m \u001B[38;5;28;01mas\u001B[39;00m \u001B[38;5;21;01mpd\u001B[39;00m\n\u001B[1;32m      2\u001B[0m \u001B[38;5;28;01mimport\u001B[39;00m \u001B[38;5;21;01mspacy\u001B[39;00m\n\u001B[0;32m----> 3\u001B[0m \u001B[38;5;28;01mimport\u001B[39;00m \u001B[38;5;21;01mcoreferee\u001B[39;00m\n\u001B[1;32m      4\u001B[0m \u001B[38;5;28;01mimport\u001B[39;00m \u001B[38;5;21;01mcoreferee_model_de\u001B[39;00m\n\u001B[1;32m      5\u001B[0m \u001B[38;5;28;01mimport\u001B[39;00m \u001B[38;5;21;01mcoreferee_model_en\u001B[39;00m\n",
      "\u001B[0;31mModuleNotFoundError\u001B[0m: No module named 'coreferee'"
     ]
    }
   ],
   "execution_count": 1
  },
  {
   "metadata": {},
   "cell_type": "code",
   "source": [
    "nlp = spacy.load('de_core_news_lg')\n",
    "nlp.add_pipe('coreferee')"
   ],
   "id": "29693155e0ad8b0a",
   "outputs": [],
   "execution_count": null
  },
  {
   "metadata": {},
   "cell_type": "code",
   "source": [
    "df = pd.read_parquet(path='../data/text_samples.parquet')\n",
    "# print(df.head())\n",
    "comp_containing_indexes = 5, 7, 30, 31, 34, 35, 41\n",
    "# ToDo: Improve pattern for 34, 35\n",
    "index = 7\n",
    "text = df.loc[index, 'pp_art_text']\n",
    "text"
   ],
   "id": "a0a3c2ab46997a6b",
   "outputs": [],
   "execution_count": null
  },
  {
   "metadata": {},
   "cell_type": "code",
   "source": "text = 'Die DZ Bank hat Lanxess nach einer Gewinnwarnung des Chemiekonzerns von Kaufen auf Halten abgestuft und den fairen Wert von 43 auf 28 Euro gesenkt. Analyst Peter Spengler zeigte sich in einer am Dienstag vorliegenden Studie ueberrascht vom Ausmass der Senkung des operativen Gewinnziels fuer dieses Jahr. Ein Aufschwung beim Unternehmen sei nicht in Sicht, im europaeischen Chemiesektor duerfte es zu weiteren Gewinnrevisionen kommen.'",
   "id": "a1e486dc0cf44f12",
   "outputs": [],
   "execution_count": null
  },
  {
   "metadata": {},
   "cell_type": "code",
   "source": "doc = nlp(text=text)",
   "id": "ddcd36c8a4a699c6",
   "outputs": [],
   "execution_count": null
  },
  {
   "metadata": {},
   "cell_type": "code",
   "source": "dir(doc._.coref_chains)",
   "id": "2e0f268c592175c6",
   "outputs": [],
   "execution_count": null
  },
  {
   "metadata": {},
   "cell_type": "code",
   "source": [
    "chains = doc._.coref_chains.__dict__['chains']\n",
    "chains"
   ],
   "id": "d011e940140ee99",
   "outputs": [],
   "execution_count": null
  },
  {
   "metadata": {},
   "cell_type": "code",
   "source": [
    "for chain in chains:\n",
    "    for term_index in chain:\n",
    "        print(term_index)\n",
    "        print(doc[term_index[0]].text)\n",
    "        print('----------------------')\n",
    "    "
   ],
   "id": "40bc95d4e8b8a5d2",
   "outputs": [],
   "execution_count": null
  },
  {
   "metadata": {},
   "cell_type": "code",
   "source": [
    "l0 = chains[0].__dict__\n",
    "l0"
   ],
   "id": "dceb03d909993b8e",
   "outputs": [],
   "execution_count": null
  },
  {
   "metadata": {},
   "cell_type": "code",
   "source": [
    "for i in l0['mentions']:\n",
    "    print(doc[i[0]])"
   ],
   "id": "5247ec364f964be3",
   "outputs": [],
   "execution_count": null
  },
  {
   "metadata": {},
   "cell_type": "code",
   "source": [
    "l1 = chains[1].__dict__\n",
    "l1"
   ],
   "id": "43915dbc56f98701",
   "outputs": [],
   "execution_count": null
  },
  {
   "metadata": {},
   "cell_type": "code",
   "source": [
    "print(doc[l1['index']])\n",
    "for i in l1['mentions']:\n",
    "    print(doc[i[0]])"
   ],
   "id": "c09f9a6ea96213b5",
   "outputs": [],
   "execution_count": null
  },
  {
   "metadata": {},
   "cell_type": "code",
   "source": [
    "l2 = chains[2].__dict__\n",
    "l2"
   ],
   "id": "3d82ac40f913e597",
   "outputs": [],
   "execution_count": null
  },
  {
   "metadata": {},
   "cell_type": "code",
   "source": [
    "for i in l2['mentions']:\n",
    "    print(doc[i[0]])"
   ],
   "id": "91767df069755d9a",
   "outputs": [],
   "execution_count": null
  },
  {
   "metadata": {},
   "cell_type": "code",
   "source": "print(doc[14],'-',doc[17],'-',doc[22],'-',doc[29],'-',doc[36])",
   "id": "1fbfe764097199f8",
   "outputs": [],
   "execution_count": null
  },
  {
   "metadata": {},
   "cell_type": "code",
   "source": [
    "l3 = chains[3].__dict__\n",
    "l3"
   ],
   "id": "ad2f25d3dc249a56",
   "outputs": [],
   "execution_count": null
  },
  {
   "metadata": {},
   "cell_type": "code",
   "source": "print(doc[32],'-',doc[38])",
   "id": "3ae98c97e789d3c",
   "outputs": [],
   "execution_count": null
  }
 ],
 "metadata": {
  "kernelspec": {
   "display_name": "Python 3",
   "language": "python",
   "name": "python3"
  },
  "language_info": {
   "codemirror_mode": {
    "name": "ipython",
    "version": 2
   },
   "file_extension": ".py",
   "mimetype": "text/x-python",
   "name": "python",
   "nbconvert_exporter": "python",
   "pygments_lexer": "ipython2",
   "version": "2.7.6"
  }
 },
 "nbformat": 4,
 "nbformat_minor": 5
}
