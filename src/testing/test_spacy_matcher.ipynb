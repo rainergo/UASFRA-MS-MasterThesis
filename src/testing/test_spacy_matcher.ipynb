{
 "cells": [
  {
   "cell_type": "code",
   "id": "initial_id",
   "metadata": {
    "collapsed": true
   },
   "source": [
    "import spacy\n",
    "from spacy.matcher import PhraseMatcher"
   ],
   "outputs": [],
   "execution_count": null
  },
  {
   "metadata": {},
   "cell_type": "code",
   "source": [
    "nlp = spacy.load(\"en_core_web_lg\")\n",
    "ruler = nlp.add_pipe(\"entity_ruler\")"
   ],
   "id": "28081dcf9cbd134c",
   "outputs": [],
   "execution_count": null
  },
  {
   "metadata": {},
   "cell_type": "code",
   "source": [
    "patterns = [{\"label\": \"ORG\", \"pattern\": [{'ORTH': '1'}, {'LOWER': {'REGEX': '(?:\\\\-|&|\\\\+|and|und|y)'}}, {'ORTH': '1'}, {'LOWER': 'AG', 'OP': '?'}]}]\n",
    "ruler.add_patterns(patterns)"
   ],
   "id": "c7e920557da8096e",
   "outputs": [],
   "execution_count": null
  },
  {
   "metadata": {},
   "cell_type": "code",
   "source": "doc = nlp(\"The company 1&1 was founded in 1999\")",
   "id": "ed69ced6355e21ed",
   "outputs": [],
   "execution_count": null
  },
  {
   "metadata": {},
   "cell_type": "code",
   "source": "print([(ent.text, ent.label_) for ent in doc.ents])",
   "id": "d77cfdd772090b5b",
   "outputs": [],
   "execution_count": null
  },
  {
   "metadata": {},
   "cell_type": "code",
   "source": [
    "for t in doc:\n",
    "    print(t.text)"
   ],
   "id": "799f1513015da962",
   "outputs": [],
   "execution_count": null
  }
 ],
 "metadata": {
  "kernelspec": {
   "display_name": "Python 3",
   "language": "python",
   "name": "python3"
  },
  "language_info": {
   "codemirror_mode": {
    "name": "ipython",
    "version": 2
   },
   "file_extension": ".py",
   "mimetype": "text/x-python",
   "name": "python",
   "nbconvert_exporter": "python",
   "pygments_lexer": "ipython2",
   "version": "2.7.6"
  }
 },
 "nbformat": 4,
 "nbformat_minor": 5
}
