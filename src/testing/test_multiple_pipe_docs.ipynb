{
 "cells": [
  {
   "metadata": {},
   "cell_type": "code",
   "source": [
    "import pandas as pd\n",
    "from spacy.tokens.span_group import SpanGroup\n",
    "import torch\n",
    "import random\n",
    "import multiprocessing as mp\n",
    "\n",
    "from src.spacy_models.spacy_pipe_build import SpacyPipeBuild\n",
    "from src.spacy_models.spacy_pipe_funcs import PipeFunc\n",
    "from src.spacy_models.data_models import EntsWithCustExts\n",
    "from src.spacy_models.spacy_utils import SpacyExt, SpacyTask, ExtractionType\n",
    "from src.settings.enums import NaturalLanguage\n",
    "from src.data.data_loader import DataLoader\n",
    "\n",
    "from src.spacy_models.data_models import EntsWithCustExts"
   ],
   "id": "1152d51c0ba160c7",
   "outputs": [],
   "execution_count": null
  },
  {
   "metadata": {},
   "cell_type": "code",
   "source": "torch.cuda.empty_cache()",
   "id": "153daf2be7c7c6e4",
   "outputs": [],
   "execution_count": null
  },
  {
   "metadata": {},
   "cell_type": "code",
   "source": "nat_lang = NaturalLanguage.EN",
   "id": "80caa05691e1f09f",
   "outputs": [],
   "execution_count": null
  },
  {
   "metadata": {},
   "cell_type": "code",
   "source": "ner = SpacyPipeBuild(natural_language=nat_lang, spacy_task=SpacyTask.NER, use_gpu=True, extraction_type=ExtractionType.GENERATIVE_LLM)",
   "id": "2711627805aa835d",
   "outputs": [],
   "execution_count": null
  },
  {
   "metadata": {},
   "cell_type": "code",
   "source": [
    "ner.nlp.pipe_names"
   ],
   "id": "3884baf65e391df7",
   "outputs": [],
   "execution_count": null
  },
  {
   "metadata": {},
   "cell_type": "code",
   "source": [
    "dl = DataLoader()\n",
    "year = 2023\n",
    "month = 5\n",
    "df = dl.load_monthly_df(year=year, month=month)"
   ],
   "id": "2afd77099d0f8a5a",
   "outputs": [],
   "execution_count": null
  },
  {
   "metadata": {},
   "cell_type": "code",
   "source": [
    "n_samples = 5\n",
    "indexes = random.sample(population=range(len(df.index)), k=n_samples)\n",
    "indexes"
   ],
   "id": "6a10a54a7cfe0f87",
   "outputs": [],
   "execution_count": null
  },
  {
   "metadata": {},
   "cell_type": "code",
   "source": [
    "texts: list[str] = df.loc[indexes, 'pp_art_text'].tolist()\n",
    "texts"
   ],
   "id": "b74910ee9a6b6e9d",
   "outputs": [],
   "execution_count": null
  },
  {
   "metadata": {},
   "cell_type": "code",
   "source": [
    "%%time\n",
    "# docs = ner.nlp.pipe(texts=texts, batch_size=5)"
   ],
   "id": "3e378e0632518701",
   "outputs": [],
   "execution_count": null
  },
  {
   "metadata": {},
   "cell_type": "code",
   "source": [
    "# for ind, doc in enumerate(ner.nlp.pipe(texts=texts, batch_size=5)):\n",
    "#     res = PipeFunc.get_sentences_with_custom_extensions(processed_doc=doc)\n",
    "#     print('type(res):', type(res))\n",
    "#     print(res)\n",
    "#     print('--------------------------------------------------------------------------------------------------')"
   ],
   "id": "bd7624b8b8529dc2",
   "outputs": [],
   "execution_count": null
  },
  {
   "metadata": {},
   "cell_type": "markdown",
   "source": "### Alternative: APPLY",
   "id": "a6e2a369816469f7"
  },
  {
   "metadata": {},
   "cell_type": "code",
   "source": [
    "df_reduced = df.loc[indexes]\n",
    "df_reduced"
   ],
   "id": "bd0c9b66a935baa3",
   "outputs": [],
   "execution_count": null
  },
  {
   "metadata": {},
   "cell_type": "code",
   "source": "# df_reduced['spacy_test'] = df_reduced.apply(lambda x: PipeFunc.get_sentences_with_custom_extensions(processed_doc=ner.nlp(x.pp_art_text)), axis=1)",
   "id": "a214a88542ee0c28",
   "outputs": [],
   "execution_count": null
  },
  {
   "metadata": {},
   "cell_type": "code",
   "source": "# df_reduced",
   "id": "c0323648d6140e0a",
   "outputs": [],
   "execution_count": null
  },
  {
   "metadata": {},
   "cell_type": "code",
   "source": "# df_reduced.spacy_test.info()",
   "id": "6b44ea4adf59929c",
   "outputs": [],
   "execution_count": null
  },
  {
   "metadata": {},
   "cell_type": "code",
   "source": "# df_reduced['spacy_test'].tolist()",
   "id": "8eb6e727f0c42670",
   "outputs": [],
   "execution_count": null
  },
  {
   "metadata": {},
   "cell_type": "markdown",
   "source": "#### spaCy PIPE",
   "id": "75509daa74ce9c26"
  },
  {
   "metadata": {},
   "cell_type": "code",
   "source": "df_reduced['test_spacy_3'] = [PipeFunc.get_sentences_with_custom_extensions(processed_doc=doc) for doc in ner.nlp.pipe(df_reduced['pp_art_text'])]",
   "id": "6b7d3378882cfe4c",
   "outputs": [],
   "execution_count": null
  },
  {
   "metadata": {},
   "cell_type": "code",
   "source": "df_reduced",
   "id": "360b7b95710e2a46",
   "outputs": [],
   "execution_count": null
  },
  {
   "metadata": {},
   "cell_type": "code",
   "source": "df_reduced.test_spacy_3.tolist()",
   "id": "be25493bbb758ef1",
   "outputs": [],
   "execution_count": null
  },
  {
   "metadata": {},
   "cell_type": "code",
   "source": [
    "\n",
    "text_dict = {'sentence': 'Trotz der hinter den Erwartungen liegenden Ergebnisentwicklung verbleibe der Ausblick auf das uebrige Geschaeftsjahr positiv, teilte das SDax -Unternehmen am Freitagabend in Dortmund mit.', 'entities': [EntsWithCustExts(start_char=248, end_char=269, ent_text='das SDax -Unternehmen', comp_name='adesso SE', comp_symbol='ADN1.DE', set_in='xx_coref_resolve', df_index=None)]}"
   ],
   "id": "7ec0eace7c5b3d07",
   "outputs": [],
   "execution_count": null
  },
  {
   "metadata": {},
   "cell_type": "code",
   "source": [
    "from functools import reduce\n",
    "def mask_company_name(text_dict: dict, replace_str: str = \"Comp@Name@Placeholder\") -> str:\n",
    "    text: str = text_dict['sentence']\n",
    "    replacements: dict = {ent.ent_text: replace_str for ent in text_dict['entities']}\n",
    "    return reduce(lambda x, kv: x.replace(*kv), replacements.items(), text)"
   ],
   "id": "c52882d27ed2a2ea",
   "outputs": [],
   "execution_count": null
  },
  {
   "metadata": {},
   "cell_type": "code",
   "source": "mask_company_name(text_dict)",
   "id": "e73caeb3026449bd",
   "outputs": [],
   "execution_count": null
  },
  {
   "metadata": {},
   "cell_type": "code",
   "source": [
    "text_sentences = []\n",
    "for row in df_reduced.test_spacy_3.tolist():\n",
    "    sentence = []\n",
    "    for sent_dict in row:\n",
    "        if sent_dict:\n",
    "            sent = mask_company_name(text_dict=sent_dict)\n",
    "            sentence.append(sent)\n",
    "            # sentence.append('- - - - - - - - - - - - - - - - - - - - -')\n",
    "    if sentence:\n",
    "        text_sentences.append(sentence)\n",
    "        # text_sentences.append('#########################################')\n",
    "        \n",
    "from pprint import pprint\n",
    "pprint(text_sentences)"
   ],
   "id": "f9fe6c59e2a38ccd",
   "outputs": [],
   "execution_count": null
  },
  {
   "metadata": {},
   "cell_type": "code",
   "source": [
    "sentences_flattened = [item for row in text_sentences for item in row]\n",
    "sentences_flattened"
   ],
   "id": "25606a8668e528ec",
   "outputs": [],
   "execution_count": null
  },
  {
   "metadata": {},
   "cell_type": "code",
   "source": [
    "df = pd.DataFrame(sentences_flattened, columns=[\"sents\"])\n",
    "df.to_parquet('../../src/data/comp_sentences.parquet')"
   ],
   "id": "24b231841c673bc9",
   "outputs": [],
   "execution_count": null
  },
  {
   "metadata": {},
   "cell_type": "code",
   "source": [
    "# from spacy import displacy\n",
    "# options = { \"colors\": {\"ORG\": \"red\",\"ENT-RULER\":\"green\", \"OWN-REGEX\":\"orange\", \"ORG-PART\":\"blue\", \"FUZZY\":\"pink\", \"PER\":\"grey\", \"LOC\":\"gray\"}}\n",
    "# displacy.render(doc, style='ent', options=options)"
   ],
   "id": "d9889259c3bc6e62",
   "outputs": [],
   "execution_count": null
  }
 ],
 "metadata": {
  "kernelspec": {
   "display_name": "Python 3",
   "language": "python",
   "name": "python3"
  },
  "language_info": {
   "codemirror_mode": {
    "name": "ipython",
    "version": 2
   },
   "file_extension": ".py",
   "mimetype": "text/x-python",
   "name": "python",
   "nbconvert_exporter": "python",
   "pygments_lexer": "ipython2",
   "version": "2.7.6"
  }
 },
 "nbformat": 4,
 "nbformat_minor": 5
}
