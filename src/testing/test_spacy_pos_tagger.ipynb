{
 "cells": [
  {
   "metadata": {},
   "cell_type": "code",
   "source": [
    "import pandas as pd\n",
    "from src.spacy_models.spacy_pipe import SpacyPipeBuild\n",
    "from src.settings.spacy_enums import SpacyExt, SpacyTask\n",
    "from src.settings.enums import NaturalLanguage"
   ],
   "id": "e0554df7ab0a5c1",
   "outputs": [],
   "execution_count": null
  },
  {
   "metadata": {},
   "cell_type": "code",
   "source": "nat_lang = NaturalLanguage.DE",
   "id": "4e30b33c8d0d8901",
   "outputs": [],
   "execution_count": null
  },
  {
   "metadata": {},
   "cell_type": "code",
   "source": "pos = SpacyPipeBuild(natural_language=nat_lang, spacy_task=SpacyTask.POS)",
   "id": "1453d0eb08628735",
   "outputs": [],
   "execution_count": null
  },
  {
   "metadata": {},
   "cell_type": "code",
   "source": "# pos.nlp.analyze_pipes()",
   "id": "87d56de38e2e1888",
   "outputs": [],
   "execution_count": null
  },
  {
   "metadata": {},
   "cell_type": "code",
   "source": "pos.nlp.pipe_names",
   "id": "c417492c7d1053ad",
   "outputs": [],
   "execution_count": null
  },
  {
   "metadata": {},
   "cell_type": "code",
   "source": [
    "df = pd.read_parquet(path='../data/text_samples.parquet')\n",
    "print(df.head())"
   ],
   "id": "ed919a4ae00ef7a4",
   "outputs": [],
   "execution_count": null
  },
  {
   "metadata": {},
   "cell_type": "code",
   "source": [
    "comp_containing_indexes = 5, 30, 31, 34, 35, 41\n",
    "\n",
    "index = 30\n",
    "text = df.loc[index, 'pp_art_text']\n",
    "text"
   ],
   "id": "d5941523cae7c340",
   "outputs": [],
   "execution_count": null
  },
  {
   "metadata": {},
   "cell_type": "code",
   "source": "text = \"\"\" Heute hat 1&1 AG und 3U Holding AG und Grifal-Vorstand und A.G. BARR und 4GLOBAL plc und 11880 solutions und ACTIAGroup und Adidas-Aktie seine Zahlen bekannt gegeben. \"\"\"",
   "id": "ed64167d9e500752",
   "outputs": [],
   "execution_count": null
  },
  {
   "metadata": {},
   "cell_type": "code",
   "source": "doc = pos.nlp(text)",
   "id": "c0761fa091a50a5",
   "outputs": [],
   "execution_count": null
  },
  {
   "metadata": {},
   "cell_type": "code",
   "source": [
    "for tok in doc:\n",
    "    print('TEXT:', tok.text, '--- DEP:',tok.dep_, '--- POS:', tok.pos_)"
   ],
   "id": "c41fe170cff0c909",
   "outputs": [],
   "execution_count": null
  }
 ],
 "metadata": {
  "kernelspec": {
   "display_name": "Python 3",
   "language": "python",
   "name": "python3"
  },
  "language_info": {
   "codemirror_mode": {
    "name": "ipython",
    "version": 2
   },
   "file_extension": ".py",
   "mimetype": "text/x-python",
   "name": "python",
   "nbconvert_exporter": "python",
   "pygments_lexer": "ipython2",
   "version": "2.7.6"
  }
 },
 "nbformat": 4,
 "nbformat_minor": 5
}
