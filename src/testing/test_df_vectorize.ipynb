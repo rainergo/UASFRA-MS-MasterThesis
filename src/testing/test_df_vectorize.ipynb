{
 "cells": [
  {
   "metadata": {
    "ExecuteTime": {
     "end_time": "2024-10-04T12:37:30.434065Z",
     "start_time": "2024-10-04T12:37:30.429770Z"
    }
   },
   "cell_type": "code",
   "source": [
    "import pandas as pd\n",
    "import torch\n",
    "import random\n",
    "import concurrent.futures\n",
    "from collections.abc import Callable, Generator\n",
    "\n",
    "from src.spacy_models.spacy_pipe_build import SpacyPipeBuild\n",
    "from src.spacy_models.spacy_pipe_funcs import PipeFunc\n",
    "from src.settings.enums import NaturalLanguage, SpacyTask, ExtractionType\n",
    "from src.data.data_loader import DataLoader"
   ],
   "id": "1152d51c0ba160c7",
   "outputs": [],
   "execution_count": 12
  },
  {
   "metadata": {
    "ExecuteTime": {
     "end_time": "2024-10-04T12:37:30.479312Z",
     "start_time": "2024-10-04T12:37:30.477237Z"
    }
   },
   "cell_type": "code",
   "source": "torch.cuda.empty_cache()",
   "id": "c0c1d0ecb545ade5",
   "outputs": [],
   "execution_count": 13
  },
  {
   "metadata": {
    "ExecuteTime": {
     "end_time": "2024-10-04T12:37:30.732716Z",
     "start_time": "2024-10-04T12:37:30.526013Z"
    }
   },
   "cell_type": "code",
   "source": [
    "dl = DataLoader()\n",
    "year = 2023\n",
    "month = 10\n",
    "df_all = dl.load_monthly_df(year=year, month=month)"
   ],
   "id": "9105f1918a93a6fd",
   "outputs": [],
   "execution_count": 14
  },
  {
   "metadata": {
    "ExecuteTime": {
     "end_time": "2024-10-04T12:37:30.752019Z",
     "start_time": "2024-10-04T12:37:30.748943Z"
    }
   },
   "cell_type": "code",
   "source": [
    "n_samples = 5\n",
    "indexes = random.sample(population=range(len(df_all.index)), k=n_samples)\n",
    "# indexes = [172, 2054, 553, 3152] # 448, 580, 3887, 796] # 57, 121, 3653, 64, 4065, 2057, 1499, 4166, 188, 4033]\n",
    "indexes"
   ],
   "id": "7ef44343c5b38d0f",
   "outputs": [
    {
     "data": {
      "text/plain": [
       "[741, 202, 952, 856, 960]"
      ]
     },
     "execution_count": 15,
     "metadata": {},
     "output_type": "execute_result"
    }
   ],
   "execution_count": 15
  },
  {
   "metadata": {
    "ExecuteTime": {
     "end_time": "2024-10-04T12:37:30.822308Z",
     "start_time": "2024-10-04T12:37:30.806766Z"
    }
   },
   "cell_type": "code",
   "source": [
    "df = df_all.loc[indexes]\n",
    "df"
   ],
   "id": "ee1b4d6a0c35add2",
   "outputs": [
    {
     "data": {
      "text/plain": [
       "          art_source                                            art_url  \\\n",
       "741  dpa-afx-compact  https://mobile.traderfox.com/news/dpa-compact/...   \n",
       "202  dpa-afx-compact  https://mobile.traderfox.com/news/dpa-compact/...   \n",
       "952  dpa-afx-compact  https://mobile.traderfox.com/news/dpa-compact/...   \n",
       "856  dpa-afx-compact  https://mobile.traderfox.com/news/dpa-compact/...   \n",
       "960  dpa-afx-compact  https://mobile.traderfox.com/news/dpa-compact/...   \n",
       "\n",
       "    art_author art_type              art_datetime art_language      art_isin  \\\n",
       "741       <NA>      unt 2023-10-11 12:55:00+02:00           DE  DE0005557508   \n",
       "202       <NA>      unt 2023-10-04 15:14:00+02:00           DE  DE0005800601   \n",
       "952       <NA>      unt 2023-10-13 09:50:00+02:00           DE  DE000A0D6554   \n",
       "856       <NA>      unt 2023-10-12 12:15:00+02:00           DE  CA3719571018   \n",
       "960       <NA>      unt 2023-10-13 20:56:00+02:00           DE  EU0009652759   \n",
       "\n",
       "        art_company_name                                          art_title  \\\n",
       "741  Deutsche Telekom AG  Streit um Werbebriefe: 1N verbucht Erfolg gege...   \n",
       "202  GFT Technologies SE              EQS-DD: GFT Technologies SE (deutsch)   \n",
       "952            Nordex SE               EQS-Stimmrechte: Nordex SE (deutsch)   \n",
       "856     Genesis AI Corp.  IRW-News: Genesis AI Corp: Genesis AI mit Unte...   \n",
       "960         LS - EUR/USD  Devisen: Eurokurs stabilisiert sich bei 1,05 U...   \n",
       "\n",
       "    art_abstract                                           art_text  \\\n",
       "741         <NA>  DÜSSELDORF (dpa-AFX) - Im Streit um Werbebrief...   \n",
       "202         <NA>  EQS-DD: GFT Technologies SE: Dr. Jochen Ruetz,...   \n",
       "952         <NA>  Nordex SE: Veröffentlichung gemäß § 40 Abs. 1 ...   \n",
       "856         <NA>  IRW-PRESS: Genesis AI Corp: Genesis AI mit Unt...   \n",
       "960         <NA>  NEW YORK (dpa-AFX) - Der Euro\n",
       "hat sich am Frei...   \n",
       "\n",
       "    art_video_url                                        pp_art_text  \n",
       "741          <NA>  Im Streit um Werbebriefe eines Konkurrenten ha...  \n",
       "202          <NA>  EQS-DD: GFT Technologies SE: Dr. Jochen Ruetz,...  \n",
       "952          <NA>  EQS Stimmrechtsmitteilung: Nordex SE.  Stimmre...  \n",
       "856          <NA>  Genesis AI Corp: Genesis AI mit Unternehmensvo...  \n",
       "960          <NA>  Der Euro hat sich am Freitag im spaeten US-Dev...  "
      ],
      "text/html": [
       "<div>\n",
       "<style scoped>\n",
       "    .dataframe tbody tr th:only-of-type {\n",
       "        vertical-align: middle;\n",
       "    }\n",
       "\n",
       "    .dataframe tbody tr th {\n",
       "        vertical-align: top;\n",
       "    }\n",
       "\n",
       "    .dataframe thead th {\n",
       "        text-align: right;\n",
       "    }\n",
       "</style>\n",
       "<table border=\"1\" class=\"dataframe\">\n",
       "  <thead>\n",
       "    <tr style=\"text-align: right;\">\n",
       "      <th></th>\n",
       "      <th>art_source</th>\n",
       "      <th>art_url</th>\n",
       "      <th>art_author</th>\n",
       "      <th>art_type</th>\n",
       "      <th>art_datetime</th>\n",
       "      <th>art_language</th>\n",
       "      <th>art_isin</th>\n",
       "      <th>art_company_name</th>\n",
       "      <th>art_title</th>\n",
       "      <th>art_abstract</th>\n",
       "      <th>art_text</th>\n",
       "      <th>art_video_url</th>\n",
       "      <th>pp_art_text</th>\n",
       "    </tr>\n",
       "  </thead>\n",
       "  <tbody>\n",
       "    <tr>\n",
       "      <th>741</th>\n",
       "      <td>dpa-afx-compact</td>\n",
       "      <td>https://mobile.traderfox.com/news/dpa-compact/...</td>\n",
       "      <td>&lt;NA&gt;</td>\n",
       "      <td>unt</td>\n",
       "      <td>2023-10-11 12:55:00+02:00</td>\n",
       "      <td>DE</td>\n",
       "      <td>DE0005557508</td>\n",
       "      <td>Deutsche Telekom AG</td>\n",
       "      <td>Streit um Werbebriefe: 1N verbucht Erfolg gege...</td>\n",
       "      <td>&lt;NA&gt;</td>\n",
       "      <td>DÜSSELDORF (dpa-AFX) - Im Streit um Werbebrief...</td>\n",
       "      <td>&lt;NA&gt;</td>\n",
       "      <td>Im Streit um Werbebriefe eines Konkurrenten ha...</td>\n",
       "    </tr>\n",
       "    <tr>\n",
       "      <th>202</th>\n",
       "      <td>dpa-afx-compact</td>\n",
       "      <td>https://mobile.traderfox.com/news/dpa-compact/...</td>\n",
       "      <td>&lt;NA&gt;</td>\n",
       "      <td>unt</td>\n",
       "      <td>2023-10-04 15:14:00+02:00</td>\n",
       "      <td>DE</td>\n",
       "      <td>DE0005800601</td>\n",
       "      <td>GFT Technologies SE</td>\n",
       "      <td>EQS-DD: GFT Technologies SE (deutsch)</td>\n",
       "      <td>&lt;NA&gt;</td>\n",
       "      <td>EQS-DD: GFT Technologies SE: Dr. Jochen Ruetz,...</td>\n",
       "      <td>&lt;NA&gt;</td>\n",
       "      <td>EQS-DD: GFT Technologies SE: Dr. Jochen Ruetz,...</td>\n",
       "    </tr>\n",
       "    <tr>\n",
       "      <th>952</th>\n",
       "      <td>dpa-afx-compact</td>\n",
       "      <td>https://mobile.traderfox.com/news/dpa-compact/...</td>\n",
       "      <td>&lt;NA&gt;</td>\n",
       "      <td>unt</td>\n",
       "      <td>2023-10-13 09:50:00+02:00</td>\n",
       "      <td>DE</td>\n",
       "      <td>DE000A0D6554</td>\n",
       "      <td>Nordex SE</td>\n",
       "      <td>EQS-Stimmrechte: Nordex SE (deutsch)</td>\n",
       "      <td>&lt;NA&gt;</td>\n",
       "      <td>Nordex SE: Veröffentlichung gemäß § 40 Abs. 1 ...</td>\n",
       "      <td>&lt;NA&gt;</td>\n",
       "      <td>EQS Stimmrechtsmitteilung: Nordex SE.  Stimmre...</td>\n",
       "    </tr>\n",
       "    <tr>\n",
       "      <th>856</th>\n",
       "      <td>dpa-afx-compact</td>\n",
       "      <td>https://mobile.traderfox.com/news/dpa-compact/...</td>\n",
       "      <td>&lt;NA&gt;</td>\n",
       "      <td>unt</td>\n",
       "      <td>2023-10-12 12:15:00+02:00</td>\n",
       "      <td>DE</td>\n",
       "      <td>CA3719571018</td>\n",
       "      <td>Genesis AI Corp.</td>\n",
       "      <td>IRW-News: Genesis AI Corp: Genesis AI mit Unte...</td>\n",
       "      <td>&lt;NA&gt;</td>\n",
       "      <td>IRW-PRESS: Genesis AI Corp: Genesis AI mit Unt...</td>\n",
       "      <td>&lt;NA&gt;</td>\n",
       "      <td>Genesis AI Corp: Genesis AI mit Unternehmensvo...</td>\n",
       "    </tr>\n",
       "    <tr>\n",
       "      <th>960</th>\n",
       "      <td>dpa-afx-compact</td>\n",
       "      <td>https://mobile.traderfox.com/news/dpa-compact/...</td>\n",
       "      <td>&lt;NA&gt;</td>\n",
       "      <td>unt</td>\n",
       "      <td>2023-10-13 20:56:00+02:00</td>\n",
       "      <td>DE</td>\n",
       "      <td>EU0009652759</td>\n",
       "      <td>LS - EUR/USD</td>\n",
       "      <td>Devisen: Eurokurs stabilisiert sich bei 1,05 U...</td>\n",
       "      <td>&lt;NA&gt;</td>\n",
       "      <td>NEW YORK (dpa-AFX) - Der Euro\n",
       "hat sich am Frei...</td>\n",
       "      <td>&lt;NA&gt;</td>\n",
       "      <td>Der Euro hat sich am Freitag im spaeten US-Dev...</td>\n",
       "    </tr>\n",
       "  </tbody>\n",
       "</table>\n",
       "</div>"
      ]
     },
     "execution_count": 16,
     "metadata": {},
     "output_type": "execute_result"
    }
   ],
   "execution_count": 16
  },
  {
   "metadata": {
    "ExecuteTime": {
     "end_time": "2024-10-04T12:37:34.631189Z",
     "start_time": "2024-10-04T12:37:30.896933Z"
    }
   },
   "cell_type": "code",
   "source": [
    "class Process:\n",
    "    def __init__(self):\n",
    "        # Note: GPU does not work, use CPU:\n",
    "        use_gpu = False\n",
    "        self.nlp_en = SpacyPipeBuild(natural_language=NaturalLanguage.EN, spacy_task=SpacyTask.NER, use_gpu=use_gpu, extraction_type=ExtractionType.TRADITIONAL).nlp\n",
    "        self.nlp_de = SpacyPipeBuild(natural_language=NaturalLanguage.DE, spacy_task=SpacyTask.NER, use_gpu=use_gpu, extraction_type=ExtractionType.TRADITIONAL).nlp\n",
    "\n",
    "    def process(self, text: str, lang: NaturalLanguage) -> list[dict]:\n",
    "        if lang == NaturalLanguage.EN:\n",
    "            doc = self.nlp_en(text)\n",
    "            return PipeFunc.get_sentences_with_custom_extensions(processed_doc=doc)\n",
    "        elif lang == NaturalLanguage.DE:\n",
    "            doc = self.nlp_de(text)\n",
    "            return PipeFunc.get_sentences_with_custom_extensions(processed_doc=doc)\n",
    "        else:\n",
    "            raise ValueError(f'Language {lang} is not supported')\n",
    "        # print('pipe_names:', nlp.pipe_names)\n",
    "\n",
    "p_inst = Process()"
   ],
   "id": "189b63af762e8334",
   "outputs": [
    {
     "name": "stdout",
     "output_type": "stream",
     "text": [
      "CPU is used!\n",
      "custom extensions \"init_extensions\" initialized\n",
      "custom extensions \"own_sentencizer\" initialized\n",
      "INFO: TRANSFORMER pipelines need the parser for sentence-related tasks. Thus, the parser component will be set now.\n",
      "regex_entity_pattern for own_regex_search were compiled.\n",
      "Function \"own_regex_search\" initialized\n",
      "Function \"own_coref_resolve\" initialized\n",
      "CPU is used!\n",
      "custom extensions \"init_extensions\" initialized\n",
      "custom extensions \"own_sentencizer\" initialized\n",
      "regex_entity_pattern for own_regex_search were compiled.\n",
      "Function \"own_regex_search\" initialized\n",
      "Function \"own_coref_resolve\" initialized\n"
     ]
    }
   ],
   "execution_count": 17
  },
  {
   "metadata": {
    "ExecuteTime": {
     "end_time": "2024-10-04T12:37:34.672514Z",
     "start_time": "2024-10-04T12:37:34.669909Z"
    }
   },
   "cell_type": "code",
   "source": "# Note: Check this out: https://stackoverflow.com/questions/67189283/how-to-keep-the-original-order-of-input-when-using-threadpoolexecutor",
   "id": "a7f7c9f3b0b01278",
   "outputs": [],
   "execution_count": 18
  },
  {
   "metadata": {
    "ExecuteTime": {
     "end_time": "2024-10-04T12:37:34.716628Z",
     "start_time": "2024-10-04T12:37:34.713383Z"
    }
   },
   "cell_type": "code",
   "source": [
    "def concurrent_df_apply(df: pd.DataFrame, function: Callable, df_col_name_1: str, df_col_name_2: str, name_new_col: str):\n",
    "    with concurrent.futures.ThreadPoolExecutor(max_workers=len(df.index)) as executor:\n",
    "        generator: Generator = executor.map(function, df[df_col_name_1], df[df_col_name_2])\n",
    "        try:\n",
    "            df[name_new_col] = list(generator)\n",
    "        except (Exception, TimeoutError):\n",
    "                print(f'Fetching concurrent.future failed.')\n",
    "        return df"
   ],
   "id": "e00f991bc35b7449",
   "outputs": [],
   "execution_count": 19
  },
  {
   "metadata": {
    "ExecuteTime": {
     "end_time": "2024-10-04T12:37:41.890158Z",
     "start_time": "2024-10-04T12:37:34.758499Z"
    }
   },
   "cell_type": "code",
   "source": "df = concurrent_df_apply(df=df, function=p_inst.process, df_col_name_1='pp_art_text', df_col_name_2='art_language', name_new_col='new')",
   "id": "703f4ab97cb421a2",
   "outputs": [],
   "execution_count": 20
  },
  {
   "metadata": {
    "ExecuteTime": {
     "end_time": "2024-10-04T12:37:41.913269Z",
     "start_time": "2024-10-04T12:37:41.909641Z"
    }
   },
   "cell_type": "code",
   "source": "df.columns",
   "id": "63227959c5afb5a0",
   "outputs": [
    {
     "data": {
      "text/plain": [
       "Index(['art_source', 'art_url', 'art_author', 'art_type', 'art_datetime',\n",
       "       'art_language', 'art_isin', 'art_company_name', 'art_title',\n",
       "       'art_abstract', 'art_text', 'art_video_url', 'pp_art_text', 'new'],\n",
       "      dtype='object')"
      ]
     },
     "execution_count": 21,
     "metadata": {},
     "output_type": "execute_result"
    }
   ],
   "execution_count": 21
  },
  {
   "metadata": {
    "ExecuteTime": {
     "end_time": "2024-10-04T12:37:42.019199Z",
     "start_time": "2024-10-04T12:37:42.014922Z"
    }
   },
   "cell_type": "code",
   "source": "# df.to_parquet('../../src/data/df_ner_coref.parquet')",
   "id": "cac6a61d469dd5cf",
   "outputs": [],
   "execution_count": 22
  }
 ],
 "metadata": {
  "kernelspec": {
   "display_name": "Python 3",
   "language": "python",
   "name": "python3"
  },
  "language_info": {
   "codemirror_mode": {
    "name": "ipython",
    "version": 2
   },
   "file_extension": ".py",
   "mimetype": "text/x-python",
   "name": "python",
   "nbconvert_exporter": "python",
   "pygments_lexer": "ipython2",
   "version": "2.7.6"
  }
 },
 "nbformat": 4,
 "nbformat_minor": 5
}
