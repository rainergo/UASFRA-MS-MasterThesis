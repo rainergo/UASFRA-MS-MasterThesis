{
 "cells": [
  {
   "metadata": {},
   "cell_type": "code",
   "source": "import spacy",
   "id": "92bfe118eae10097",
   "outputs": [],
   "execution_count": null
  },
  {
   "metadata": {},
   "cell_type": "code",
   "source": "spacy.require_gpu()",
   "id": "e6493ef3cde8a08b",
   "outputs": [],
   "execution_count": null
  },
  {
   "metadata": {},
   "cell_type": "code",
   "source": [
    "nlp_en_trf = spacy.load('en_core_web_trf')\n",
    "nlp_en_trf.select_pipes(enable=['transformer'])"
   ],
   "id": "62a9eb4ca74dfcf3",
   "outputs": [],
   "execution_count": null
  },
  {
   "metadata": {},
   "cell_type": "code",
   "source": "nlp_en_trf.pipe_names",
   "id": "ee5f1a179d3f355c",
   "outputs": [],
   "execution_count": null
  },
  {
   "metadata": {},
   "cell_type": "code",
   "source": [
    "nlp_de = spacy.load('de_core_news_lg')\n",
    "nlp_de.select_pipes(enable=['tok2vec'])"
   ],
   "id": "720e6bac5cc62ee4",
   "outputs": [],
   "execution_count": null
  },
  {
   "metadata": {},
   "cell_type": "code",
   "source": "nlp_de.pipe_names",
   "id": "8aa9bfa0cff2abca",
   "outputs": [],
   "execution_count": null
  },
  {
   "metadata": {},
   "cell_type": "code",
   "source": "nlp_de.enable_pipe('senter')",
   "id": "bb6b7cd22a4d775e",
   "outputs": [],
   "execution_count": null
  },
  {
   "metadata": {},
   "cell_type": "code",
   "source": "nlp.Defaults.infixes[0]",
   "id": "75515c16c05a5d3e",
   "outputs": [],
   "execution_count": null
  },
  {
   "metadata": {},
   "cell_type": "code",
   "source": "nlp.pipe_names",
   "id": "5470b85764cb99e0",
   "outputs": [],
   "execution_count": null
  },
  {
   "metadata": {},
   "cell_type": "code",
   "source": "text = \"The quick brown fox jumps over the lazy dog\"",
   "id": "e287dc3651813a0f",
   "outputs": [],
   "execution_count": null
  },
  {
   "metadata": {},
   "cell_type": "code",
   "source": "doc = nlp(text)",
   "id": "53d73a0764a0677d",
   "outputs": [],
   "execution_count": null
  },
  {
   "metadata": {},
   "cell_type": "code",
   "source": "dir(doc._.trf_data)",
   "id": "af83eebb62fc3bec",
   "outputs": [],
   "execution_count": null
  },
  {
   "metadata": {},
   "cell_type": "code",
   "source": [
    "d = doc._.trf_data.to_dict()\n",
    "o = d['all_outputs'][0][0]\n",
    "\n",
    "print(len(o))\n",
    "print(type(o))"
   ],
   "id": "b381680a62e846e6",
   "outputs": [],
   "execution_count": null
  },
  {
   "metadata": {},
   "cell_type": "code",
   "source": [
    "import torch\n",
    "tens = torch.from_dlpack(o)\n",
    "tens.shape"
   ],
   "id": "b095450c1dacac9c",
   "outputs": [],
   "execution_count": null
  },
  {
   "metadata": {},
   "cell_type": "code",
   "source": "len(doc._.trf_data.all_outputs[0].shape)",
   "id": "94b4a249005e9be8",
   "outputs": [],
   "execution_count": null
  },
  {
   "metadata": {},
   "cell_type": "markdown",
   "source": [
    "['all_hidden_layer_states',\n",
    " 'all_outputs',\n",
    " 'embedding_layer',\n",
    " 'from_dict',\n",
    " 'last_hidden_layer_state',\n",
    " 'last_layer_only',\n",
    " 'num_outputs',\n",
    " 'to_dict']"
   ],
   "id": "c95a7734cf61e6cd"
  },
  {
   "metadata": {},
   "cell_type": "code",
   "source": [
    "for token in doc:\n",
    "    print(getattr(token, 'tag_'))"
   ],
   "id": "a2eda7466da74c8a",
   "outputs": [],
   "execution_count": null
  },
  {
   "metadata": {},
   "cell_type": "code",
   "source": [
    "s = set()\n",
    "s.add(1)\n",
    "i = None\n",
    "s.add(i) if i is not None else None\n",
    "s"
   ],
   "id": "f8ff67b3faa5388c",
   "outputs": [],
   "execution_count": null
  },
  {
   "metadata": {},
   "cell_type": "code",
   "source": [
    "token_attributes = {'index': 'i', 'text': 'text', 'lemma':'lemma_','tag': 'tag_', 'pos_tag': 'pos_', 'is_stop': 'is_stop', 'is_punct': 'is_punct', 'is_alpha': 'is_alpha', 'is_digit': 'is_digit'}\n",
    "test = [tuple(getattr(token, attr) for attr in token_attributes.values()) +(len(token),) for token in doc]\n",
    "test"
   ],
   "id": "e5a5e88e2148843",
   "outputs": [],
   "execution_count": null
  },
  {
   "metadata": {},
   "cell_type": "code",
   "source": [
    "attr_key_index = {key:id for id, key in enumerate(token_attributes.keys())}\n",
    "\n",
    "test[0][attr_key_index['lemma']]"
   ],
   "id": "346b7295d768539f",
   "outputs": [],
   "execution_count": null
  },
  {
   "metadata": {},
   "cell_type": "code",
   "source": [
    "l = [(t.i, t.text, t.tag_, t.pos_, t.is_stop, t.idx, (t.idx + len(t))) for t in doc]\n",
    "l"
   ],
   "id": "58db47dcc323d9e2",
   "outputs": [],
   "execution_count": null
  }
 ],
 "metadata": {
  "kernelspec": {
   "display_name": "Python 3",
   "language": "python",
   "name": "python3"
  },
  "language_info": {
   "codemirror_mode": {
    "name": "ipython",
    "version": 2
   },
   "file_extension": ".py",
   "mimetype": "text/x-python",
   "name": "python",
   "nbconvert_exporter": "python",
   "pygments_lexer": "ipython2",
   "version": "2.7.6"
  }
 },
 "nbformat": 4,
 "nbformat_minor": 5
}
