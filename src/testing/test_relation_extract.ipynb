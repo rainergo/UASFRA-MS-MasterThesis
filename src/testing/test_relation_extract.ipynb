{
 "cells": [
  {
   "metadata": {
    "ExecuteTime": {
     "end_time": "2024-09-12T12:58:29.353337Z",
     "start_time": "2024-09-12T12:58:26.380956Z"
    }
   },
   "cell_type": "code",
   "source": [
    "import pandas as pd\n",
    "\n",
    "from src.spacy_models.spacy_pipe import SpacyPipeBuild, SpacyPipeProcess\n",
    "from src.spacy_models.spacy_utils import SpacyExt, SpacyTask\n",
    "from src.settings.enums import NaturalLanguage\n",
    "from src.data.data_loader import DataLoader"
   ],
   "id": "1152d51c0ba160c7",
   "outputs": [],
   "execution_count": 1
  },
  {
   "metadata": {
    "ExecuteTime": {
     "end_time": "2024-09-12T12:58:29.359853Z",
     "start_time": "2024-09-12T12:58:29.357486Z"
    }
   },
   "cell_type": "code",
   "source": "nat_lang = NaturalLanguage.DE",
   "id": "80caa05691e1f09f",
   "outputs": [],
   "execution_count": 2
  },
  {
   "metadata": {
    "ExecuteTime": {
     "end_time": "2024-09-12T12:58:31.551433Z",
     "start_time": "2024-09-12T12:58:29.428783Z"
    }
   },
   "cell_type": "code",
   "source": "coref = SpacyPipeProcess(natural_language=nat_lang, spacy_task=SpacyTask.COREF, use_gpu=True)",
   "id": "2711627805aa835d",
   "outputs": [
    {
     "name": "stdout",
     "output_type": "stream",
     "text": [
      "GPU is used: True\n",
      "custom extensions \"init_extensions\" initialized\n",
      "regex_entity_pattern for own_regex_search were compiled.\n",
      "Function \"own_regex_search\" initialized\n",
      "Function \"own_coref_resolve\" initialized\n"
     ]
    }
   ],
   "execution_count": 3
  },
  {
   "metadata": {
    "ExecuteTime": {
     "end_time": "2024-09-12T12:58:31.562030Z",
     "start_time": "2024-09-12T12:58:31.557706Z"
    }
   },
   "cell_type": "code",
   "source": "coref.nlp.pipe_names",
   "id": "3884baf65e391df7",
   "outputs": [
    {
     "data": {
      "text/plain": [
       "['tok2vec', 'senter', 'own_regex_search', 'own_coref_resolve']"
      ]
     },
     "execution_count": 4,
     "metadata": {},
     "output_type": "execute_result"
    }
   ],
   "execution_count": 4
  },
  {
   "metadata": {
    "ExecuteTime": {
     "end_time": "2024-09-12T12:58:31.752899Z",
     "start_time": "2024-09-12T12:58:31.734229Z"
    }
   },
   "cell_type": "code",
   "source": [
    "from src.settings.params import abbrevs_and_company_suffixes_with_dot_at_end\n",
    "coref.set_custom_tokenizer(special_tokens=abbrevs_and_company_suffixes_with_dot_at_end)"
   ],
   "id": "aac33b1542c25a8b",
   "outputs": [],
   "execution_count": 6
  },
  {
   "metadata": {
    "ExecuteTime": {
     "end_time": "2024-09-12T12:58:32.046048Z",
     "start_time": "2024-09-12T12:58:31.800460Z"
    }
   },
   "cell_type": "code",
   "source": [
    "dl = DataLoader()\n",
    "year = 2023\n",
    "month = 5\n",
    "df = dl.load_monthly_df(year=year, month=month)"
   ],
   "id": "2afd77099d0f8a5a",
   "outputs": [],
   "execution_count": 7
  },
  {
   "metadata": {
    "ExecuteTime": {
     "end_time": "2024-09-12T12:58:32.061113Z",
     "start_time": "2024-09-12T12:58:32.057252Z"
    }
   },
   "cell_type": "code",
   "source": [
    "# without findings: 10, 11\n",
    "index = 105\n",
    "isin = df.loc[index, 'art_isin']\n",
    "company = df.loc[index, 'art_company_name']\n",
    "print('ISIN:', isin, '---', 'COMP:', company)\n",
    "print('-----------------------------------')\n",
    "text = df.loc[index, 'pp_art_text']\n",
    "text"
   ],
   "id": "5927650a457788e4",
   "outputs": [
    {
     "name": "stdout",
     "output_type": "stream",
     "text": [
      "ISIN: DE0007571424 --- COMP: GK Software SE\n",
      "-----------------------------------\n"
     ]
    },
    {
     "data": {
      "text/plain": [
       "'GK Software SE: Abschluss eines Delisting-Vertrages mit Fujitsu Delisting-Erwerbsangebot von Fujitsu zu EUR 190,00 je Aktie angekuendigt.  GK Software SE: Abschluss eines Delisting-Vertrages mit Fujitsu  Delisting-Erwerbsangebot von Fujitsu zu EUR 190,00 je Aktie angekuendigt.  Veroeffentlichung einer Insiderinformation nach Artikel 17 der Verordnung  Nr. 596 2014, uebermittelt durch EQS News - ein Service der EQS Group AG.  Die GK Software SE hat heute einen Delisting-Vertrag mit der Fujitsu Ltd. sowie mit deren 100%iger Tochtergesellschaft, der Fujitsu ND Solutions AG, abgeschlossen. Auf Grundlage dieses Vertrages soll die Stellung eines Antrags auf Widerruf der Zulassung der GK-Aktien am regulierten Markt erfolgen; zudem sollen wirtschaftlich angemessene Massnahmen getroffen werden, die erforderlich und fuer die Gesellschaft moeglich sind, um die Einbeziehung der GK-Aktien in den Handel im Freiverkehr zu beenden. Gemaess den Bestimmungen des Delisting-Vertrages wird die Bieterin heute die Entscheidung veroeffentlichen, den Aktionaeren der GK ein oeffentliches Delisting-Erwerbsangebot in Form eines Barangebots zum Erwerb saemtlicher Aktien der GK, die nicht bereits direkt von der Bieterin gehalten werden, gegen Zahlung einer Gegenleistung in bar in Hoehe von EUR 190,00 je GK-Aktie zu unterbreiten. Die Hoehe des Delisting-Erwerbsangebots wird somit der Hoehe der Gegenleistung des freiwilligen oeffentlichen Uebernahmeangebots aufgrund der Angebotsunterlage der Bieterin vom 23. Maerz 2023 entsprechen. Das Uebernahmeangebot wurde gemaess Meldung der Bieterin vom 25. April 2023 bislang fuer insgesamt 1.490.328 GK-Aktien angenommen; dies entspricht einem Anteil von etwa 65,57 % der bestehenden Stimmrechte der GK. Die weitere Annahmefrist zum freiwilligen oeffentlichen Uebernahmeangebot laeuft noch bis zum 9. Mai 2023, 24.00 Uhr. Der Vorstand und der Aufsichtsrat von GK, die beide dem Abschluss des Delisting-Vertrages zugestimmt haben, begruessen und unterstuetzen das angekuendigte Delisting-Erwerbsangebot von Fujitsu. Vorbehaltlich der sorgfaeltigen Pruefung der Angebotsunterlage zum oeffentlichen Delisting-Erwerbsangebot und der Wahrnehmung ihrer gesetzlichen Verpflichtungen beabsichtigen der Vorstand und der Aufsichtsrat von GK, in ihrer gemaess § 27 des Wertpapiererwerbs- und Uebernahmegesetz zu veroeffentlichenden gemeinsamen begruendeten Stellungnahme den Aktionaeren des Unternehmens zu empfehlen, das Angebot anzunehmen. Der weitere Prozess wird im Delisting-Vertrag konkretisiert. Dieser enthaelt zudem Bestimmungen zur Sicherung der Finanzierung der Gesellschaft nach Beendigung der Boersennotierung und damit auch Schutzmassnahmen zugunsten der GK-Gruppe nach Widerruf der Boersenzulassung. Nach Wirksamwerden des Widerrufs der Boersenzulassung werden die Aktien der GK nicht mehr an einem inlaendischen regulierten Markt oder einem vergleichbaren Markt im Ausland zum Handel zugelassen sein und gehandelt werden. GK Software SE.  Waldstrasse 7.  08261 Schoeneck.    WKN 757142.  ISIN DE0007571424.'"
      ]
     },
     "execution_count": 8,
     "metadata": {},
     "output_type": "execute_result"
    }
   ],
   "execution_count": 8
  },
  {
   "metadata": {
    "ExecuteTime": {
     "end_time": "2024-09-12T12:58:37.186476Z",
     "start_time": "2024-09-12T12:58:32.260906Z"
    }
   },
   "cell_type": "code",
   "source": [
    "%%time\n",
    "doc = coref.nlp(text=text)"
   ],
   "id": "3e378e0632518701",
   "outputs": [
    {
     "name": "stdout",
     "output_type": "stream",
     "text": [
      "##### ->>>>>>>>>> COREF: PipeFunc.CUST_EXT_VAL_WAS_SET: True\n",
      "cluster_dict: {'head': (0, 14, 'GK Software SE'), 1: (429, 447, 'Die GK Software SE'), 2: (823, 839, 'die Gesellschaft'), 3: (1054, 1060, 'der GK'), 4: (1160, 1166, 'der GK'), 5: (1731, 1737, 'der GK'), 6: (1895, 1897, 'GK'), 7: (2263, 2265, 'GK'), 8: (2411, 2427, 'des Unternehmens')}\n",
      "cluster_dict: {'head': (0, 14, 'GK Software SE'), 1: (429, 447, 'Die GK Software SE'), 2: (823, 839, 'die Gesellschaft'), 3: (1054, 1060, 'der GK'), 4: (1160, 1166, 'der GK'), 5: (1731, 1737, 'der GK'), 6: (1895, 1897, 'GK'), 7: (2263, 2265, 'GK'), 8: (2411, 2427, 'des Unternehmens'), 9: (2415, 2427, 'Unternehmens'), 10: (2593, 2609, 'der Gesellschaft'), 11: (2811, 2817, 'der GK')}\n",
      "cluster_dict: {'head': (26, 63, 'eines Delisting-Vertrages mit Fujitsu'), 1: (165, 202, 'eines Delisting-Vertrages mit Fujitsu')}\n",
      "cluster_dict: {'head': (56, 63, 'Fujitsu'), 1: (93, 100, 'Fujitsu'), 2: (195, 202, 'Fujitsu'), 3: (233, 240, 'Fujitsu'), 4: (486, 502, 'der Fujitsu Ltd.'), 5: (513, 518, 'deren')}\n",
      "cluster_dict: {'head': (452, 457, 'heute'), 1: (997, 1002, 'heute')}\n",
      "cluster_dict: {'head': (607, 623, 'dieses Vertrages'), 1: (955, 978, 'des Delisting-Vertrages')}\n",
      "cluster_dict: {'head': (683, 696, 'der GK-Aktien'), 1: (875, 888, 'der GK-Aktien')}\n",
      "cluster_dict: {'head': (984, 996, 'die Bieterin'), 1: (1197, 1209, 'der Bieterin'), 2: (1481, 1493, 'der Bieterin'), 3: (1570, 1582, 'der Bieterin')}\n",
      "cluster_dict: {'head': (1857, 1897, 'Der Vorstand und der Aufsichtsrat von GK'), 1: (2176, 2181, 'ihrer'), 2: (2225, 2265, 'der Vorstand und der Aufsichtsrat von GK'), 3: (2270, 2275, 'ihrer')}\n",
      "cluster_dict: {'head': (1874, 1897, 'der Aufsichtsrat von GK'), 1: (2242, 2265, 'der Aufsichtsrat von GK')}\n",
      "cluster_dict: {'head': (2176, 2181, 'ihrer'), 1: (2225, 2265, 'der Vorstand und der Aufsichtsrat von GK'), 2: (2270, 2275, 'ihrer')}\n",
      "cluster_dict: {'head': (2466, 2485, 'Der weitere Prozess'), 1: (2527, 2533, 'Dieser')}\n",
      "CPU times: user 2.67 s, sys: 126 ms, total: 2.8 s\n",
      "Wall time: 4.92 s\n"
     ]
    }
   ],
   "execution_count": 9
  },
  {
   "metadata": {
    "ExecuteTime": {
     "end_time": "2024-09-12T12:58:37.359982Z",
     "start_time": "2024-09-12T12:58:37.330359Z"
    }
   },
   "cell_type": "code",
   "source": "coref.get_sentences_with_custom_extensions(processed_doc=doc)",
   "id": "5e17ce7b2776c5ac",
   "outputs": [
    {
     "data": {
      "text/plain": [
       "[{'sentence': 'GK Software SE: Abschluss eines Delisting-Vertrages mit Fujitsu Delisting-Erwerbsangebot von Fujitsu zu EUR 190,00 je Aktie angekuendigt.  GK Software SE: Abschluss eines Delisting-Vertrages mit Fujitsu  Delisting-Erwerbsangebot von Fujitsu zu EUR 190,00 je Aktie angekuendigt.  ',\n",
       "  'entities': [{'start_char': 0,\n",
       "    'end_char': 11,\n",
       "    'ent_text': 'GK Software',\n",
       "    'comp_name': 'GK Software SE',\n",
       "    'comp_symbol': 'GKS.HM',\n",
       "    'set_in': 'own_regex_search'},\n",
       "   {'start_char': 139,\n",
       "    'end_char': 150,\n",
       "    'ent_text': 'GK Software',\n",
       "    'comp_name': 'GK Software SE',\n",
       "    'comp_symbol': 'GKS.HM',\n",
       "    'set_in': 'own_regex_search'}]},\n",
       " {'sentence': 'Die GK Software SE hat heute einen Delisting-Vertrag mit der Fujitsu Ltd. sowie mit deren 100%iger Tochtergesellschaft, der Fujitsu ND Solutions AG, abgeschlossen.',\n",
       "  'entities': [{'start_char': 433,\n",
       "    'end_char': 447,\n",
       "    'ent_text': 'GK Software SE',\n",
       "    'comp_name': 'GK Software SE',\n",
       "    'comp_symbol': 'GKS.HM',\n",
       "    'set_in': 'own_regex_search'}]},\n",
       " {'sentence': 'zudem sollen wirtschaftlich angemessene Massnahmen getroffen werden, die erforderlich und fuer die Gesellschaft moeglich sind, um die Einbeziehung der GK-Aktien in den Handel im Freiverkehr zu beenden.',\n",
       "  'entities': [{'start_char': 823,\n",
       "    'end_char': 839,\n",
       "    'ent_text': 'die Gesellschaft',\n",
       "    'comp_name': 'GK Software SE',\n",
       "    'comp_symbol': 'GKS.HM',\n",
       "    'set_in': 'own_coref_resolve'}]},\n",
       " {'sentence': 'Gemaess den Bestimmungen des Delisting-Vertrages wird die Bieterin heute die Entscheidung veroeffentlichen, den Aktionaeren der GK ein oeffentliches Delisting-Erwerbsangebot in Form eines Barangebots zum Erwerb saemtlicher Aktien der GK, die nicht bereits direkt von der Bieterin gehalten werden, gegen Zahlung einer Gegenleistung in bar in Hoehe von EUR 190,00 je GK-Aktie zu unterbreiten.',\n",
       "  'entities': [{'start_char': 1054,\n",
       "    'end_char': 1060,\n",
       "    'ent_text': 'der GK',\n",
       "    'comp_name': 'GK Software SE',\n",
       "    'comp_symbol': 'GKS.HM',\n",
       "    'set_in': 'own_coref_resolve'},\n",
       "   {'start_char': 1160,\n",
       "    'end_char': 1166,\n",
       "    'ent_text': 'der GK',\n",
       "    'comp_name': 'GK Software SE',\n",
       "    'comp_symbol': 'GKS.HM',\n",
       "    'set_in': 'own_coref_resolve'}]},\n",
       " {'sentence': 'dies entspricht einem Anteil von etwa 65,57 % der bestehenden Stimmrechte der GK.',\n",
       "  'entities': [{'start_char': 1731,\n",
       "    'end_char': 1737,\n",
       "    'ent_text': 'der GK',\n",
       "    'comp_name': 'GK Software SE',\n",
       "    'comp_symbol': 'GKS.HM',\n",
       "    'set_in': 'own_coref_resolve'}]},\n",
       " {'sentence': 'Der Vorstand und der Aufsichtsrat von GK, die beide dem Abschluss des Delisting-Vertrages zugestimmt haben, begruessen und unterstuetzen das angekuendigte Delisting-Erwerbsangebot von Fujitsu.',\n",
       "  'entities': [{'start_char': 1895,\n",
       "    'end_char': 1897,\n",
       "    'ent_text': 'GK',\n",
       "    'comp_name': 'GK Software SE',\n",
       "    'comp_symbol': 'GKS.HM',\n",
       "    'set_in': 'own_coref_resolve'}]},\n",
       " {'sentence': 'Vorbehaltlich der sorgfaeltigen Pruefung der Angebotsunterlage zum oeffentlichen Delisting-Erwerbsangebot und der Wahrnehmung ihrer gesetzlichen Verpflichtungen beabsichtigen der Vorstand und der Aufsichtsrat von GK, in ihrer gemaess § 27 des Wertpapiererwerbs- und Uebernahmegesetz zu veroeffentlichenden gemeinsamen begruendeten Stellungnahme den Aktionaeren des Unternehmens zu empfehlen, das Angebot anzunehmen.',\n",
       "  'entities': [{'start_char': 2263,\n",
       "    'end_char': 2265,\n",
       "    'ent_text': 'GK',\n",
       "    'comp_name': 'GK Software SE',\n",
       "    'comp_symbol': 'GKS.HM',\n",
       "    'set_in': 'own_coref_resolve'},\n",
       "   {'start_char': 2411,\n",
       "    'end_char': 2427,\n",
       "    'ent_text': 'des Unternehmens',\n",
       "    'comp_name': 'GK Software SE',\n",
       "    'comp_symbol': 'GKS.HM',\n",
       "    'set_in': 'own_coref_resolve'}]},\n",
       " {'sentence': 'Dieser enthaelt zudem Bestimmungen zur Sicherung der Finanzierung der Gesellschaft nach Beendigung der Boersennotierung und damit auch Schutzmassnahmen zugunsten der GK-Gruppe nach Widerruf der Boersenzulassung.',\n",
       "  'entities': [{'start_char': 2593,\n",
       "    'end_char': 2609,\n",
       "    'ent_text': 'der Gesellschaft',\n",
       "    'comp_name': 'GK Software SE',\n",
       "    'comp_symbol': 'GKS.HM',\n",
       "    'set_in': 'own_coref_resolve'}]},\n",
       " {'sentence': 'Nach Wirksamwerden des Widerrufs der Boersenzulassung werden die Aktien der GK nicht mehr an einem inlaendischen regulierten Markt oder einem vergleichbaren Markt im Ausland zum Handel zugelassen sein und gehandelt werden.',\n",
       "  'entities': [{'start_char': 2811,\n",
       "    'end_char': 2817,\n",
       "    'ent_text': 'der GK',\n",
       "    'comp_name': 'GK Software SE',\n",
       "    'comp_symbol': 'GKS.HM',\n",
       "    'set_in': 'own_coref_resolve'}]}]"
      ]
     },
     "execution_count": 11,
     "metadata": {},
     "output_type": "execute_result"
    }
   ],
   "execution_count": 11
  }
 ],
 "metadata": {
  "kernelspec": {
   "display_name": "Python 3",
   "language": "python",
   "name": "python3"
  },
  "language_info": {
   "codemirror_mode": {
    "name": "ipython",
    "version": 2
   },
   "file_extension": ".py",
   "mimetype": "text/x-python",
   "name": "python",
   "nbconvert_exporter": "python",
   "pygments_lexer": "ipython2",
   "version": "2.7.6"
  }
 },
 "nbformat": 4,
 "nbformat_minor": 5
}
