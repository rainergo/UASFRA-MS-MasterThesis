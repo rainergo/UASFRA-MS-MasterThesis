{
 "cells": [
  {
   "cell_type": "code",
   "id": "initial_id",
   "metadata": {
    "collapsed": true
   },
   "source": [
    "import pandas as pd\n",
    "import dataframe_image as dfi\n",
    "from pathlib import Path\n",
    "import seaborn as sns"
   ],
   "outputs": [],
   "execution_count": null
  },
  {
   "metadata": {},
   "cell_type": "code",
   "source": [
    "def df_to_imgf(df: pd.DataFrame, img_name: str,\n",
    "              base_path: Path = Path('/media/rainergo/PROJECTS/UASFRA-MS-Thesis/doc/Assets'),\n",
    "              background_color: str = \"green\"):\n",
    "    path_and_name: Path = Path('../imgs/test.png')\n",
    "    cm = sns.light_palette(background_color, as_cmap=True)\n",
    "    df = df.style.background_gradient(cmap=cm).format(\"{:.1f}\")\n",
    "    dfi.export(\n",
    "        obj=df,\n",
    "        filename=path_and_name,\n",
    "        fontsize=12,\n",
    "        max_rows=None,\n",
    "        max_cols=None,\n",
    "        table_conversion=\"chrome\",\n",
    "        chrome_path=None,\n",
    "        dpi=1200,  # enlarge your image，default is 100，set it larger will get a larger image\n",
    "        use_mathjax=False,  # enable mathjax support， which means you can use latex in your dataframe\n",
    "    )\n",
    "    \n",
    "    \n",
    "df = pd.DataFrame({'a': [1, 2, 3], 'b': [4, 5, 6]})\n"
   ],
   "id": "adc7afe57b76ff97",
   "outputs": [],
   "execution_count": null
  },
  {
   "metadata": {},
   "cell_type": "code",
   "source": [
    "from utils.funcs import df_to_img\n",
    "df_to_img(df, 'test_img.png')"
   ],
   "id": "bd18d03d83195eb2",
   "outputs": [],
   "execution_count": null
  }
 ],
 "metadata": {
  "kernelspec": {
   "display_name": "Python 3",
   "language": "python",
   "name": "python3"
  },
  "language_info": {
   "codemirror_mode": {
    "name": "ipython",
    "version": 2
   },
   "file_extension": ".py",
   "mimetype": "text/x-python",
   "name": "python",
   "nbconvert_exporter": "python",
   "pygments_lexer": "ipython2",
   "version": "2.7.6"
  }
 },
 "nbformat": 4,
 "nbformat_minor": 5
}
