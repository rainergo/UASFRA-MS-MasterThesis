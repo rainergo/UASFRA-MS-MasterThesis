{
 "cells": [
  {
   "cell_type": "code",
   "id": "initial_id",
   "metadata": {
    "collapsed": true
   },
   "source": [
    "import pandas as pd\n",
    "import pathlib"
   ],
   "outputs": [],
   "execution_count": null
  },
  {
   "cell_type": "code",
   "source": [
    "file_name = \"dpa-afx-compact_2024-06-01\"\n",
    "# file_name = \"reuters_2024-05-10\""
   ],
   "metadata": {
    "collapsed": false
   },
   "id": "ebbd3a89289f4e54",
   "outputs": [],
   "execution_count": null
  },
  {
   "cell_type": "code",
   "source": [
    "folder_path = \"/mnt/nas/SEC_ANA_DATA/News_Articles/\"\n",
    "year = file_name[-10: -6]\n",
    "month = str(int(file_name.split(\"-\")[-2]))\n",
    "print('year:', year)\n",
    "print('month:', month)\n",
    "path = pathlib.Path(folder_path, year, month, file_name)\n",
    "print('path:', path)"
   ],
   "metadata": {
    "collapsed": false
   },
   "id": "7ba2a5bde02b632b",
   "outputs": [],
   "execution_count": null
  },
  {
   "cell_type": "code",
   "source": [
    "df = pd.read_parquet(path=path)\n",
    "df"
   ],
   "metadata": {
    "collapsed": false
   },
   "id": "23bf8085ee73e25e",
   "outputs": [],
   "execution_count": null
  },
  {
   "cell_type": "code",
   "source": [
    "index = 0\n",
    "print('COMPANY:\\n', df.art_company_name[index])\n",
    "print('#################################')\n",
    "print('TITLE:\\n', df.art_title[index])\n",
    "print('#################################')\n",
    "print('TEXT:\\n', df.art_text[index])"
   ],
   "metadata": {
    "collapsed": false
   },
   "id": "97062969f41f27c5",
   "outputs": [],
   "execution_count": null
  }
 ],
 "metadata": {
  "kernelspec": {
   "display_name": "Python 3",
   "language": "python",
   "name": "python3"
  },
  "language_info": {
   "codemirror_mode": {
    "name": "ipython",
    "version": 2
   },
   "file_extension": ".py",
   "mimetype": "text/x-python",
   "name": "python",
   "nbconvert_exporter": "python",
   "pygments_lexer": "ipython2",
   "version": "2.7.6"
  }
 },
 "nbformat": 4,
 "nbformat_minor": 5
}
