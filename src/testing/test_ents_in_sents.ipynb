{
 "cells": [
  {
   "metadata": {},
   "cell_type": "code",
   "source": [
    "import pandas as pd\n",
    "from spacy.tokens.span_group import SpanGroup\n",
    "\n",
    "from src.spacy_models.spacy_pipe_build import SpacyPipeBuild\n",
    "from src.spacy_models.spacy_pipe_funcs import PipeFunc\n",
    "from src.spacy_models.spacy_utils import SpacyExt, SpacyTask\n",
    "from src.settings.enums import NaturalLanguage\n",
    "from src.data.data_loader import DataLoader"
   ],
   "id": "1152d51c0ba160c7",
   "outputs": [],
   "execution_count": null
  },
  {
   "metadata": {},
   "cell_type": "code",
   "source": "nat_lang = NaturalLanguage.DE",
   "id": "80caa05691e1f09f",
   "outputs": [],
   "execution_count": null
  },
  {
   "metadata": {},
   "cell_type": "code",
   "source": "ner = SpacyPipeBuild(natural_language=nat_lang, spacy_task=SpacyTask.NER, use_gpu=True)",
   "id": "2711627805aa835d",
   "outputs": [],
   "execution_count": null
  },
  {
   "metadata": {},
   "cell_type": "code",
   "source": [
    "ner.nlp.pipe_names"
   ],
   "id": "3884baf65e391df7",
   "outputs": [],
   "execution_count": null
  },
  {
   "metadata": {},
   "cell_type": "code",
   "source": [
    "dl = DataLoader()\n",
    "year = 2023\n",
    "month = 5\n",
    "df = dl.load_monthly_df(year=year, month=month)"
   ],
   "id": "2afd77099d0f8a5a",
   "outputs": [],
   "execution_count": null
  },
  {
   "metadata": {},
   "cell_type": "code",
   "source": [
    "comp_containing_indexes = 5, 7, 30, 31, 34, 35, 41\n",
    "# ToDo: Improve pattern for 34, 35\n",
    "index = 6\n",
    "text = df.loc[index, 'pp_art_text']\n",
    "text"
   ],
   "id": "5927650a457788e4",
   "outputs": [],
   "execution_count": null
  },
  {
   "metadata": {},
   "cell_type": "code",
   "source": "# text = \"\"\" Heute hat 1&1 AG und 3U Holding AG und Grifal-Vorstand und A.G. BARR und 4GLOBAL plc und 11880 solutions und ACTIA-Vorstand und Adidas-Aktie und ABIONYX Pharma seine Zahlen bekannt gegeben. \"\"\"",
   "id": "1ef141adfd6b65db",
   "outputs": [],
   "execution_count": null
  },
  {
   "metadata": {},
   "cell_type": "code",
   "source": [
    "%%time\n",
    "doc = ner.nlp(text=text)"
   ],
   "id": "3e378e0632518701",
   "outputs": [],
   "execution_count": null
  },
  {
   "metadata": {},
   "cell_type": "code",
   "source": "PipeFunc.get_sentences_with_custom_extensions(processed_doc=doc)",
   "id": "bd7624b8b8529dc2",
   "outputs": [],
   "execution_count": null
  },
  {
   "metadata": {},
   "cell_type": "code",
   "source": [
    "from spacy import displacy\n",
    "options = { \"colors\": {\"ORG\": \"red\",\"ENT-RULER\":\"green\", \"OWN-REGEX\":\"orange\", \"ORG-PART\":\"blue\", \"FUZZY\":\"pink\", \"PER\":\"grey\", \"LOC\":\"gray\"}}\n",
    "displacy.render(doc, style='ent', options=options)"
   ],
   "id": "d9889259c3bc6e62",
   "outputs": [],
   "execution_count": null
  }
 ],
 "metadata": {
  "kernelspec": {
   "display_name": "Python 3",
   "language": "python",
   "name": "python3"
  },
  "language_info": {
   "codemirror_mode": {
    "name": "ipython",
    "version": 2
   },
   "file_extension": ".py",
   "mimetype": "text/x-python",
   "name": "python",
   "nbconvert_exporter": "python",
   "pygments_lexer": "ipython2",
   "version": "2.7.6"
  }
 },
 "nbformat": 4,
 "nbformat_minor": 5
}
