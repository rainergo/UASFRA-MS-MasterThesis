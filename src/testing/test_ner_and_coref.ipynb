{
 "cells": [
  {
   "metadata": {},
   "cell_type": "code",
   "source": [
    "import pandas as pd\n",
    "from spacy.tokens.span_group import SpanGroup\n",
    "\n",
    "from src.spacy_models.spacy_pipe_build import SpacyPipeBuild\n",
    "from src.spacy_models.spacy_utils import SpacyExt, SpacyTask\n",
    "from src.settings.enums import NaturalLanguage\n",
    "from src.data.data_loader import DataLoader"
   ],
   "id": "1152d51c0ba160c7",
   "outputs": [],
   "execution_count": null
  },
  {
   "metadata": {},
   "cell_type": "code",
   "source": "nat_lang = NaturalLanguage.DE",
   "id": "80caa05691e1f09f",
   "outputs": [],
   "execution_count": null
  },
  {
   "metadata": {},
   "cell_type": "code",
   "source": "ner = SpacyPipeBuild(natural_language=nat_lang, spacy_task=SpacyTask.NER, use_gpu=True)",
   "id": "2711627805aa835d",
   "outputs": [],
   "execution_count": null
  },
  {
   "metadata": {},
   "cell_type": "code",
   "source": [
    "ner.nlp.pipe_names"
   ],
   "id": "3884baf65e391df7",
   "outputs": [],
   "execution_count": null
  },
  {
   "metadata": {},
   "cell_type": "code",
   "source": [
    "dl = DataLoader()\n",
    "year = 2023\n",
    "month = 5\n",
    "df = dl.load_monthly_df(year=year, month=month)"
   ],
   "id": "2afd77099d0f8a5a",
   "outputs": [],
   "execution_count": null
  },
  {
   "metadata": {},
   "cell_type": "code",
   "source": [
    "comp_containing_indexes = 5, 7, 30, 31, 34, 35, 41\n",
    "# ToDo: Improve pattern for 34, 35\n",
    "index = 41\n",
    "text = df.loc[index, 'pp_art_text']\n",
    "text"
   ],
   "id": "5927650a457788e4",
   "outputs": [],
   "execution_count": null
  },
  {
   "metadata": {},
   "cell_type": "code",
   "source": "# text = \"\"\" Heute hat 1&1 AG und 3U Holding AG und Grifal-Vorstand und A.G. BARR und 4GLOBAL plc und 11880 solutions und ACTIA-Vorstand und Adidas-Aktie und ABIONYX Pharma seine Zahlen bekannt gegeben. \"\"\"",
   "id": "1ef141adfd6b65db",
   "outputs": [],
   "execution_count": null
  },
  {
   "metadata": {},
   "cell_type": "code",
   "source": [
    "%%time\n",
    "doc = ner.nlp(text=text)"
   ],
   "id": "3e378e0632518701",
   "outputs": [],
   "execution_count": null
  },
  {
   "metadata": {},
   "cell_type": "code",
   "source": [
    "for t in doc:\n",
    "    print(t.pos_)"
   ],
   "id": "5bb9e15f2cd1034a",
   "outputs": [],
   "execution_count": null
  },
  {
   "metadata": {},
   "cell_type": "code",
   "source": [
    "for ent in doc.ents:\n",
    "    print(ent.start_char, ent.end_char, getattr(ent._, SpacyExt.COMP_SYMBOL.value))"
   ],
   "id": "b4c471d6d8aca06a",
   "outputs": [],
   "execution_count": null
  },
  {
   "metadata": {},
   "cell_type": "code",
   "source": [
    "from spacy.tokens import Span\n",
    "for i in range(10):\n",
    "    t = doc[i]\n",
    "    # print('token.ent_type:', t.ent_type_)\n",
    "    span = Span(doc, start=i, end=i + 3)\n",
    "    print('span', type(span), (span.start, span.end, span.text), 'ext:', getattr(span._, SpacyExt.COMP_NAME.value), 'span.ent:', span.ents)"
   ],
   "id": "5ee270d7f409f852",
   "outputs": [],
   "execution_count": null
  },
  {
   "metadata": {},
   "cell_type": "code",
   "source": [
    "for span in doc.ents:\n",
    "    print(span)"
   ],
   "id": "e211f0eb3313d261",
   "outputs": [],
   "execution_count": null
  },
  {
   "metadata": {},
   "cell_type": "code",
   "source": [
    "# for t in doc:\n",
    "#     print(t.i, t.idx, t.text)"
   ],
   "id": "5cf2f6ff42142f8",
   "outputs": [],
   "execution_count": null
  },
  {
   "metadata": {},
   "cell_type": "code",
   "source": [
    "for ent in doc.ents:\n",
    "    print(ent.text, ent.start, ent.end, ent.label_, getattr(ent._, SpacyExt.COMP_NAME.value) == \"\")"
   ],
   "id": "72ab05045ff22369",
   "outputs": [],
   "execution_count": null
  },
  {
   "metadata": {},
   "cell_type": "code",
   "source": [
    "for ent in doc.ents:\n",
    "    # if getattr(ent._, SpacyExt.DOMAIN.ext_name) != '':\n",
    "    # if ent.has_extension(SpacyExt.COMP_NAME.ext_name):\n",
    "    print('ENT_TEXT:', ent.text)\n",
    "    print('SET_IN:', getattr(ent._, SpacyExt.SET_IN.value))\n",
    "    print('COMP_NAME:', getattr(ent._, SpacyExt.COMP_NAME.value))\n",
    "    print('COMP_SYMBOL:', getattr(ent._, SpacyExt.COMP_SYMBOL.value))\n",
    "    print('ent.label_:', ent.label_)\n",
    "    print('------------------------------------')"
   ],
   "id": "3c98d6fbcfd233b7",
   "outputs": [],
   "execution_count": null
  },
  {
   "metadata": {},
   "cell_type": "code",
   "source": [
    "if \"parser\" in ner.nlp.pipe_names:\n",
    "    for ind, sent in enumerate(doc.sents):\n",
    "        if [getattr(ent._, SpacyExt.COMP_NAME.value) for ent in sent.ents if getattr(ent._, SpacyExt.COMP_NAME.value) != \"\"]:\n",
    "            print(ind,'-', [getattr(ent._, SpacyExt.COMP_NAME.value) for ent in sent.ents if getattr(ent._, SpacyExt.COMP_NAME.value) != \"\"], '-', sent.text)"
   ],
   "id": "ae3eb55d573afdf0",
   "outputs": [],
   "execution_count": null
  },
  {
   "metadata": {},
   "cell_type": "code",
   "source": [
    "from spacy import displacy\n",
    "options = { \"colors\": {\"ORG\": \"red\",\"ENT-RULER\":\"green\", \"OWN-REGEX\":\"orange\", \"ORG-PART\":\"blue\", \"FUZZY\":\"pink\", \"PER\":\"grey\", \"LOC\":\"gray\"}}\n",
    "displacy.render(doc, style='ent', options=options)"
   ],
   "id": "d9889259c3bc6e62",
   "outputs": [],
   "execution_count": null
  },
  {
   "metadata": {},
   "cell_type": "code",
   "source": "coref = SpacyPipeBuild(natural_language=nat_lang, spacy_task=SpacyTask.COREF)",
   "id": "f3d7b19c395c1676",
   "outputs": [],
   "execution_count": null
  },
  {
   "metadata": {},
   "cell_type": "code",
   "source": "coref.nlp.pipe_names",
   "id": "7c0d430abc82abb",
   "outputs": [],
   "execution_count": null
  },
  {
   "metadata": {},
   "cell_type": "code",
   "source": [
    "text = \"Weil er mit seiner Arbeit sehr beschäftigt war, hatte Peter davon genug. Er und seine Frau haben entschieden, dass ihnen ein Urlaub gut tun würde. Sie sind nach Spanien gefahren, weil ihnen das Land sehr gefiel.\"\n",
    "doc_new = coref.nlp(text)"
   ],
   "id": "a60a6ea5b666a3b8",
   "outputs": [],
   "execution_count": null
  },
  {
   "metadata": {},
   "cell_type": "code",
   "source": [
    "for ent in doc_new.ents:\n",
    "    # if ent.has_extension(SpacyExt.COMP_NAME.ext_name):\n",
    "    print('SET_IN:', getattr(ent._, SpacyExt.SET_IN.value))\n",
    "    print('COMP_NAME:', getattr(ent._, SpacyExt.COMP_NAME.value))\n",
    "    print('COMP_LABEL:', getattr(ent._, SpacyExt.COMP_SYMBOL.value))\n",
    "    print('ent.label_:', ent.label_)\n",
    "    print('------------------------------------')"
   ],
   "id": "f2a23edc43a0195e",
   "outputs": [],
   "execution_count": null
  },
  {
   "metadata": {},
   "cell_type": "code",
   "source": "# coref.nlp.pipe_names",
   "id": "29ba0ab87dcd857a",
   "outputs": [],
   "execution_count": null
  },
  {
   "metadata": {},
   "cell_type": "code",
   "source": "# doc_new._.coref_chains",
   "id": "de19dbb73bab4872",
   "outputs": [],
   "execution_count": null
  },
  {
   "metadata": {},
   "cell_type": "code",
   "source": [
    "# for t in doc_new:\n",
    "#     print(t.text)"
   ],
   "id": "68d40b1d08436327",
   "outputs": [],
   "execution_count": null
  },
  {
   "metadata": {},
   "cell_type": "code",
   "source": "# coref.show_ents(doc=doc)",
   "id": "2ae5fd4ccad7bb94",
   "outputs": [],
   "execution_count": null
  }
 ],
 "metadata": {
  "kernelspec": {
   "display_name": "Python 3",
   "language": "python",
   "name": "python3"
  },
  "language_info": {
   "codemirror_mode": {
    "name": "ipython",
    "version": 2
   },
   "file_extension": ".py",
   "mimetype": "text/x-python",
   "name": "python",
   "nbconvert_exporter": "python",
   "pygments_lexer": "ipython2",
   "version": "2.7.6"
  }
 },
 "nbformat": 4,
 "nbformat_minor": 5
}
