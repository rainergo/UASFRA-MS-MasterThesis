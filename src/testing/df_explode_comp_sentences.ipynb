{
 "cells": [
  {
   "metadata": {},
   "cell_type": "code",
   "source": [
    "import pandas as pd\n",
    "from src.topic_modelling.topic_model import TopicModel"
   ],
   "id": "90abda02d44de138",
   "outputs": [],
   "execution_count": null
  },
  {
   "metadata": {},
   "cell_type": "code",
   "source": [
    "df = pd.read_parquet('../data/df_ner_coref.parquet')\n",
    "size_df = len(df.index)\n",
    "print(size_df)\n",
    "df.head()"
   ],
   "id": "6c383d68edd1d4a2",
   "outputs": [],
   "execution_count": null
  },
  {
   "metadata": {},
   "cell_type": "markdown",
   "source": "#### CONVERT CELL FORMAT",
   "id": "c0ec233276e9de57"
  },
  {
   "metadata": {},
   "cell_type": "code",
   "source": [
    "df = df.explode('new').reset_index(drop=False)\n",
    "df"
   ],
   "id": "613dc39233a9bd85",
   "outputs": [],
   "execution_count": null
  },
  {
   "metadata": {},
   "cell_type": "code",
   "source": "df.loc[0, 'new']",
   "id": "e43618b15eaf82b6",
   "outputs": [],
   "execution_count": null
  },
  {
   "metadata": {},
   "cell_type": "code",
   "source": [
    "import numpy as np\n",
    "df['top_sent'] = df['new'].str['sentence'].astype(object).replace(pd.NA, None)\n",
    "df"
   ],
   "id": "ed8426d7ca4e6dd5",
   "outputs": [],
   "execution_count": null
  },
  {
   "metadata": {},
   "cell_type": "code",
   "source": [
    "from functools import reduce\n",
    "\n",
    "def mask_sent(comp_dict, mask: str = \"Comp@Name@Placeholder\") -> str:\n",
    "    sent = pd.NA\n",
    "    if isinstance(comp_dict, dict):\n",
    "        replacements: dict = {ent['ent_text']: mask for ent in comp_dict['entities']}\n",
    "        sent: str = comp_dict['sentence']\n",
    "        sent = reduce(lambda x, kv: x.replace(*kv), replacements.items(), sent)\n",
    "    return sent"
   ],
   "id": "96100bab759e80d1",
   "outputs": [],
   "execution_count": null
  },
  {
   "metadata": {},
   "cell_type": "code",
   "source": [
    "df['top_sent_masked'] = df['new'].apply(mask_sent).replace(pd.NA, None)\n",
    "df"
   ],
   "id": "64ce0f1f0ddb0bcd",
   "outputs": [],
   "execution_count": null
  },
  {
   "metadata": {},
   "cell_type": "code",
   "source": [
    "df_new = df[['index', 'art_language', 'top_sent', 'top_sent_masked']]\n",
    "df_new.to_parquet('df_new.parquet')"
   ],
   "id": "a2782b710158bc65",
   "outputs": [],
   "execution_count": null
  },
  {
   "metadata": {},
   "cell_type": "code",
   "source": [
    "use_mask = False\n",
    "if use_mask:\n",
    "    lang_text_list = list(zip(df.index.tolist(), df.art_language.tolist(), df.sents_masked.tolist()))\n",
    "else:\n",
    "    lang_text_list = list(zip(df.index.tolist(), df.art_language.tolist(), df.sents.tolist()))\n",
    "lang_text_list[:5]"
   ],
   "id": "8e0c5bd27dacd7c8",
   "outputs": [],
   "execution_count": null
  },
  {
   "metadata": {},
   "cell_type": "code",
   "source": [
    "print(type(lang_text_list))\n",
    "print(type(lang_text_list[0]))\n",
    "print(type(lang_text_list[0][0]))\n",
    "print(type(lang_text_list[0][1]))"
   ],
   "id": "8e1cd660ab024174",
   "outputs": [],
   "execution_count": null
  },
  {
   "metadata": {},
   "cell_type": "markdown",
   "source": "#### START TOPIC MODELING",
   "id": "78cf737b9833efe9"
  },
  {
   "metadata": {},
   "cell_type": "code",
   "source": "# top = TopicModel(language_text_list=lang_text_list)",
   "id": "3a3ceef0bfacb510",
   "outputs": [],
   "execution_count": null
  },
  {
   "metadata": {},
   "cell_type": "code",
   "source": "# top.run()",
   "id": "6a0408c5b0812445",
   "outputs": [],
   "execution_count": null
  },
  {
   "metadata": {},
   "cell_type": "code",
   "source": "# top.preparer.lang_text_list",
   "id": "33b1ba3ecdcf7e44",
   "outputs": [],
   "execution_count": null
  },
  {
   "metadata": {},
   "cell_type": "code",
   "source": "# top.df_data",
   "id": "c5dd64522453044d",
   "outputs": [],
   "execution_count": null
  },
  {
   "metadata": {},
   "cell_type": "code",
   "source": "# top.df_cluster",
   "id": "daf123b3fc299459",
   "outputs": [],
   "execution_count": null
  },
  {
   "metadata": {},
   "cell_type": "code",
   "source": "# top.df_cluster_doc_term_matrix",
   "id": "61525ea056d9eebf",
   "outputs": [],
   "execution_count": null
  }
 ],
 "metadata": {
  "kernelspec": {
   "display_name": "Python 3",
   "language": "python",
   "name": "python3"
  },
  "language_info": {
   "codemirror_mode": {
    "name": "ipython",
    "version": 2
   },
   "file_extension": ".py",
   "mimetype": "text/x-python",
   "name": "python",
   "nbconvert_exporter": "python",
   "pygments_lexer": "ipython2",
   "version": "2.7.6"
  }
 },
 "nbformat": 4,
 "nbformat_minor": 5
}
