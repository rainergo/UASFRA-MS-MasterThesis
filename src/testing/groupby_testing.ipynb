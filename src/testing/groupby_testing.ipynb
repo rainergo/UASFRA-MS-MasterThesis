{
 "cells": [
  {
   "metadata": {
    "ExecuteTime": {
     "end_time": "2024-10-01T05:04:41.568245Z",
     "start_time": "2024-10-01T05:04:34.723371Z"
    }
   },
   "cell_type": "code",
   "source": [
    "import pandas as pd\n",
    "from src.topic_modelling.topic_model import TopicModel"
   ],
   "id": "90abda02d44de138",
   "outputs": [
    {
     "name": "stderr",
     "output_type": "stream",
     "text": [
      "/home/rainergo/.local/share/virtualenvs/RELATION-EXTRACTION-Yry67amm/lib/python3.11/site-packages/sentence_transformers/cross_encoder/CrossEncoder.py:13: TqdmWarning: IProgress not found. Please update jupyter and ipywidgets. See https://ipywidgets.readthedocs.io/en/stable/user_install.html\n",
      "  from tqdm.autonotebook import tqdm, trange\n"
     ]
    }
   ],
   "execution_count": 1
  },
  {
   "metadata": {
    "ExecuteTime": {
     "end_time": "2024-10-01T05:04:41.601892Z",
     "start_time": "2024-10-01T05:04:41.572445Z"
    }
   },
   "cell_type": "code",
   "source": [
    "df = pd.read_parquet('../data/df_ner_coref.parquet')\n",
    "size_df = len(df.index)\n",
    "print(size_df)"
   ],
   "id": "6c383d68edd1d4a2",
   "outputs": [
    {
     "name": "stdout",
     "output_type": "stream",
     "text": [
      "100\n"
     ]
    }
   ],
   "execution_count": 2
  },
  {
   "metadata": {},
   "cell_type": "markdown",
   "source": "#### CONVERT CELL FORMAT",
   "id": "c0ec233276e9de57"
  },
  {
   "metadata": {
    "ExecuteTime": {
     "end_time": "2024-10-01T05:04:41.732676Z",
     "start_time": "2024-10-01T05:04:41.722121Z"
    }
   },
   "cell_type": "code",
   "source": "df = df.explode('new').reset_index(drop=False)",
   "id": "613dc39233a9bd85",
   "outputs": [],
   "execution_count": 3
  },
  {
   "metadata": {
    "ExecuteTime": {
     "end_time": "2024-10-01T05:04:41.794290Z",
     "start_time": "2024-10-01T05:04:41.790526Z"
    }
   },
   "cell_type": "code",
   "source": [
    "import numpy as np\n",
    "df['top_sent'] = df['new'].str['sentence'].astype(object).replace(np.nan, pd.NA)"
   ],
   "id": "ed8426d7ca4e6dd5",
   "outputs": [],
   "execution_count": 4
  },
  {
   "metadata": {
    "ExecuteTime": {
     "end_time": "2024-10-01T05:04:41.851878Z",
     "start_time": "2024-10-01T05:04:41.848922Z"
    }
   },
   "cell_type": "code",
   "source": [
    "from functools import reduce\n",
    "\n",
    "def mask_sent(comp_dict, mask: str = \"Comp@Name@Placeholder\") -> str:\n",
    "    sent = pd.NA\n",
    "    if isinstance(comp_dict, dict):\n",
    "        replacements: dict = {ent['ent_text']: mask for ent in comp_dict['entities']}\n",
    "        sent: str = comp_dict['sentence']\n",
    "        sent = reduce(lambda x, kv: x.replace(*kv), replacements.items(), sent)\n",
    "    return sent"
   ],
   "id": "96100bab759e80d1",
   "outputs": [],
   "execution_count": 5
  },
  {
   "metadata": {
    "ExecuteTime": {
     "end_time": "2024-10-01T05:04:41.911463Z",
     "start_time": "2024-10-01T05:04:41.908415Z"
    }
   },
   "cell_type": "code",
   "source": "df['top_sent_masked'] = df['new'].apply(mask_sent)",
   "id": "64ce0f1f0ddb0bcd",
   "outputs": [],
   "execution_count": 6
  },
  {
   "metadata": {
    "ExecuteTime": {
     "end_time": "2024-10-01T05:04:41.978074Z",
     "start_time": "2024-10-01T05:04:41.966427Z"
    }
   },
   "cell_type": "code",
   "source": [
    "# df.to_parquet('df.parquet')\n",
    "df.head(5)"
   ],
   "id": "a2782b710158bc65",
   "outputs": [
    {
     "data": {
      "text/plain": [
       "   index       art_source                                            art_url   art_type              art_datetime art_language      art_isin art_company_name                                          art_title                                           art_text art_author art_abstract art_video_url                                        pp_art_text                                                new                                           top_sent                                    top_sent_masked\n",
       "0    646  dpa-afx-compact  https://mobile.traderfox.com/news/dpa-compact/...        unt 2023-05-05 15:01:00+02:00           DE  CH0013841017   Lonza Group AG  EQS-News: Lonza gibt Ergebnisse der Generalver...  Lonza gibt Ergebnisse der Generalversammlung 2...       <NA>         <NA>          <NA>  Lonza gibt Ergebnisse der Generalversammlung 2...                                                NaN                                               <NA>                                               <NA>\n",
       "1    225  dpa-afx-compact  https://mobile.traderfox.com/news/dpa-compact/...        unt 2023-05-03 19:31:00+02:00           DE  DE000A14KEB5        home24 SE               EQS-Stimmrechte: home24 SE (deutsch)  home24 SE: Veröffentlichung gemäß § 40 Abs. 1 ...       <NA>         <NA>          <NA>  EQS Stimmrechtsmitteilung: home24 SE.  Stimmre...                                                NaN                                               <NA>                                               <NA>\n",
       "2   3232         eqs-news  https://www.eqs-news.com/de/news/corporate/hyp...  Corporate 2023-05-08 07:05:00+02:00           DE  DE0005493365      Hypoport SE  Hypoport SE\n",
       "Hypoport SE: Hypoport startet mit ...  Konzernergebnis Q1 /23\n",
       "Hypoport startet mit le...       <NA>         <NA>          <NA>  Konzernergebnis Q1 23.  Hypoport startet mit l...  {'entities': [{'comp_name': 'Hypoport SE', 'co...  Konzernergebnis Q1 23.  Hypoport startet mit l...  Konzernergebnis Q1 23.  Comp@Name@Placeholder ...\n",
       "3   3232         eqs-news  https://www.eqs-news.com/de/news/corporate/hyp...  Corporate 2023-05-08 07:05:00+02:00           DE  DE0005493365      Hypoport SE  Hypoport SE\n",
       "Hypoport SE: Hypoport startet mit ...  Konzernergebnis Q1 /23\n",
       "Hypoport startet mit le...       <NA>         <NA>          <NA>  Konzernergebnis Q1 23.  Hypoport startet mit l...  {'entities': [{'comp_name': 'Hypoport SE', 'co...  Ronald Slabke, Vorstandsvorsitzender der Hypop...  Ronald Slabke, Vorstandsvorsitzender der Comp@...\n",
       "4   3232         eqs-news  https://www.eqs-news.com/de/news/corporate/hyp...  Corporate 2023-05-08 07:05:00+02:00           DE  DE0005493365      Hypoport SE  Hypoport SE\n",
       "Hypoport SE: Hypoport startet mit ...  Konzernergebnis Q1 /23\n",
       "Hypoport startet mit le...       <NA>         <NA>          <NA>  Konzernergebnis Q1 23.  Hypoport startet mit l...  {'entities': [{'comp_name': 'Hypoport SE', 'co...  Unter den gegebenen Rahmenbedingungen ist Hypo...  Unter den gegebenen Rahmenbedingungen ist Comp..."
      ],
      "text/html": [
       "<div>\n",
       "<style scoped>\n",
       "    .dataframe tbody tr th:only-of-type {\n",
       "        vertical-align: middle;\n",
       "    }\n",
       "\n",
       "    .dataframe tbody tr th {\n",
       "        vertical-align: top;\n",
       "    }\n",
       "\n",
       "    .dataframe thead th {\n",
       "        text-align: right;\n",
       "    }\n",
       "</style>\n",
       "<table border=\"1\" class=\"dataframe\">\n",
       "  <thead>\n",
       "    <tr style=\"text-align: right;\">\n",
       "      <th></th>\n",
       "      <th>index</th>\n",
       "      <th>art_source</th>\n",
       "      <th>art_url</th>\n",
       "      <th>art_type</th>\n",
       "      <th>art_datetime</th>\n",
       "      <th>art_language</th>\n",
       "      <th>art_isin</th>\n",
       "      <th>art_company_name</th>\n",
       "      <th>art_title</th>\n",
       "      <th>art_text</th>\n",
       "      <th>art_author</th>\n",
       "      <th>art_abstract</th>\n",
       "      <th>art_video_url</th>\n",
       "      <th>pp_art_text</th>\n",
       "      <th>new</th>\n",
       "      <th>top_sent</th>\n",
       "      <th>top_sent_masked</th>\n",
       "    </tr>\n",
       "  </thead>\n",
       "  <tbody>\n",
       "    <tr>\n",
       "      <th>0</th>\n",
       "      <td>646</td>\n",
       "      <td>dpa-afx-compact</td>\n",
       "      <td>https://mobile.traderfox.com/news/dpa-compact/...</td>\n",
       "      <td>unt</td>\n",
       "      <td>2023-05-05 15:01:00+02:00</td>\n",
       "      <td>DE</td>\n",
       "      <td>CH0013841017</td>\n",
       "      <td>Lonza Group AG</td>\n",
       "      <td>EQS-News: Lonza gibt Ergebnisse der Generalver...</td>\n",
       "      <td>Lonza gibt Ergebnisse der Generalversammlung 2...</td>\n",
       "      <td>&lt;NA&gt;</td>\n",
       "      <td>&lt;NA&gt;</td>\n",
       "      <td>&lt;NA&gt;</td>\n",
       "      <td>Lonza gibt Ergebnisse der Generalversammlung 2...</td>\n",
       "      <td>NaN</td>\n",
       "      <td>&lt;NA&gt;</td>\n",
       "      <td>&lt;NA&gt;</td>\n",
       "    </tr>\n",
       "    <tr>\n",
       "      <th>1</th>\n",
       "      <td>225</td>\n",
       "      <td>dpa-afx-compact</td>\n",
       "      <td>https://mobile.traderfox.com/news/dpa-compact/...</td>\n",
       "      <td>unt</td>\n",
       "      <td>2023-05-03 19:31:00+02:00</td>\n",
       "      <td>DE</td>\n",
       "      <td>DE000A14KEB5</td>\n",
       "      <td>home24 SE</td>\n",
       "      <td>EQS-Stimmrechte: home24 SE (deutsch)</td>\n",
       "      <td>home24 SE: Veröffentlichung gemäß § 40 Abs. 1 ...</td>\n",
       "      <td>&lt;NA&gt;</td>\n",
       "      <td>&lt;NA&gt;</td>\n",
       "      <td>&lt;NA&gt;</td>\n",
       "      <td>EQS Stimmrechtsmitteilung: home24 SE.  Stimmre...</td>\n",
       "      <td>NaN</td>\n",
       "      <td>&lt;NA&gt;</td>\n",
       "      <td>&lt;NA&gt;</td>\n",
       "    </tr>\n",
       "    <tr>\n",
       "      <th>2</th>\n",
       "      <td>3232</td>\n",
       "      <td>eqs-news</td>\n",
       "      <td>https://www.eqs-news.com/de/news/corporate/hyp...</td>\n",
       "      <td>Corporate</td>\n",
       "      <td>2023-05-08 07:05:00+02:00</td>\n",
       "      <td>DE</td>\n",
       "      <td>DE0005493365</td>\n",
       "      <td>Hypoport SE</td>\n",
       "      <td>Hypoport SE\n",
       "Hypoport SE: Hypoport startet mit ...</td>\n",
       "      <td>Konzernergebnis Q1 /23\n",
       "Hypoport startet mit le...</td>\n",
       "      <td>&lt;NA&gt;</td>\n",
       "      <td>&lt;NA&gt;</td>\n",
       "      <td>&lt;NA&gt;</td>\n",
       "      <td>Konzernergebnis Q1 23.  Hypoport startet mit l...</td>\n",
       "      <td>{'entities': [{'comp_name': 'Hypoport SE', 'co...</td>\n",
       "      <td>Konzernergebnis Q1 23.  Hypoport startet mit l...</td>\n",
       "      <td>Konzernergebnis Q1 23.  Comp@Name@Placeholder ...</td>\n",
       "    </tr>\n",
       "    <tr>\n",
       "      <th>3</th>\n",
       "      <td>3232</td>\n",
       "      <td>eqs-news</td>\n",
       "      <td>https://www.eqs-news.com/de/news/corporate/hyp...</td>\n",
       "      <td>Corporate</td>\n",
       "      <td>2023-05-08 07:05:00+02:00</td>\n",
       "      <td>DE</td>\n",
       "      <td>DE0005493365</td>\n",
       "      <td>Hypoport SE</td>\n",
       "      <td>Hypoport SE\n",
       "Hypoport SE: Hypoport startet mit ...</td>\n",
       "      <td>Konzernergebnis Q1 /23\n",
       "Hypoport startet mit le...</td>\n",
       "      <td>&lt;NA&gt;</td>\n",
       "      <td>&lt;NA&gt;</td>\n",
       "      <td>&lt;NA&gt;</td>\n",
       "      <td>Konzernergebnis Q1 23.  Hypoport startet mit l...</td>\n",
       "      <td>{'entities': [{'comp_name': 'Hypoport SE', 'co...</td>\n",
       "      <td>Ronald Slabke, Vorstandsvorsitzender der Hypop...</td>\n",
       "      <td>Ronald Slabke, Vorstandsvorsitzender der Comp@...</td>\n",
       "    </tr>\n",
       "    <tr>\n",
       "      <th>4</th>\n",
       "      <td>3232</td>\n",
       "      <td>eqs-news</td>\n",
       "      <td>https://www.eqs-news.com/de/news/corporate/hyp...</td>\n",
       "      <td>Corporate</td>\n",
       "      <td>2023-05-08 07:05:00+02:00</td>\n",
       "      <td>DE</td>\n",
       "      <td>DE0005493365</td>\n",
       "      <td>Hypoport SE</td>\n",
       "      <td>Hypoport SE\n",
       "Hypoport SE: Hypoport startet mit ...</td>\n",
       "      <td>Konzernergebnis Q1 /23\n",
       "Hypoport startet mit le...</td>\n",
       "      <td>&lt;NA&gt;</td>\n",
       "      <td>&lt;NA&gt;</td>\n",
       "      <td>&lt;NA&gt;</td>\n",
       "      <td>Konzernergebnis Q1 23.  Hypoport startet mit l...</td>\n",
       "      <td>{'entities': [{'comp_name': 'Hypoport SE', 'co...</td>\n",
       "      <td>Unter den gegebenen Rahmenbedingungen ist Hypo...</td>\n",
       "      <td>Unter den gegebenen Rahmenbedingungen ist Comp...</td>\n",
       "    </tr>\n",
       "  </tbody>\n",
       "</table>\n",
       "</div>"
      ]
     },
     "execution_count": 7,
     "metadata": {},
     "output_type": "execute_result"
    }
   ],
   "execution_count": 7
  },
  {
   "metadata": {},
   "cell_type": "markdown",
   "source": "#### START TOPIC MODELING",
   "id": "78cf737b9833efe9"
  },
  {
   "metadata": {
    "ExecuteTime": {
     "end_time": "2024-10-01T05:04:42.069014Z",
     "start_time": "2024-10-01T05:04:42.066815Z"
    }
   },
   "cell_type": "code",
   "source": "top = TopicModel(df=df)",
   "id": "3a3ceef0bfacb510",
   "outputs": [],
   "execution_count": 8
  },
  {
   "metadata": {
    "ExecuteTime": {
     "end_time": "2024-10-01T05:04:49.578394Z",
     "start_time": "2024-10-01T05:04:42.085235Z"
    }
   },
   "cell_type": "code",
   "source": "top.run()",
   "id": "6a0408c5b0812445",
   "outputs": [
    {
     "name": "stdout",
     "output_type": "stream",
     "text": [
      "GPU is used: True\n",
      "Vectorizer.vectorize() was run.\n",
      "DimReducer.reduce() was run!\n",
      "Clusterer.cluster() was run!\n",
      "DimReducer.reduce() was run!\n",
      "Vectorizer.vectorize() was run.\n",
      "Dimension of all_cluster_vectors: (10, 948)\n"
     ]
    }
   ],
   "execution_count": 9
  },
  {
   "metadata": {
    "ExecuteTime": {
     "end_time": "2024-10-01T05:05:04.859683Z",
     "start_time": "2024-10-01T05:05:04.854745Z"
    }
   },
   "cell_type": "code",
   "source": "top.df.cluster_label.value_counts()",
   "id": "fcf3a3a6ed9275bc",
   "outputs": [
    {
     "data": {
      "text/plain": [
       "cluster_label\n",
       "0    87\n",
       "6    23\n",
       "3    22\n",
       "5    20\n",
       "9    19\n",
       "1     9\n",
       "7     8\n",
       "4     8\n",
       "8     7\n",
       "2     6\n",
       "Name: count, dtype: int64"
      ]
     },
     "execution_count": 11,
     "metadata": {},
     "output_type": "execute_result"
    }
   ],
   "execution_count": 11
  },
  {
   "metadata": {
    "ExecuteTime": {
     "end_time": "2024-10-01T05:05:05.019768Z",
     "start_time": "2024-10-01T05:05:05.009846Z"
    }
   },
   "cell_type": "code",
   "source": "top.df_data.head()",
   "id": "3cb29f2c9208ffbb",
   "outputs": [
    {
     "data": {
      "text/plain": [
       "                                            top_sent                                      top_prep_sent                                top_prep_sent_words cluster_label                                 top_red_viz_vector      x      y      z\n",
       "2  Konzernergebnis Q1 23.  Hypoport startet mit l...  [konzernergebnis starten leicht wachstum koste...  [konzernergebnis, starten, leicht, wachstum, k...             9  [[-26.93161248572412, -10.30119435350977, 0.35... -26.93 -10.30   0.35\n",
       "3  Ronald Slabke, Vorstandsvorsitzender der Hypop...                   [vorstandsvorsitzender hypoport]                  [vorstandsvorsitzender, hypoport]             0  [[-11.087532021278799, 6.370232434643442, -9.1... -11.09   6.37  -9.10\n",
       "4  Unter den gegebenen Rahmenbedingungen ist Hypo...      [gegeben rahmenbedingung erfolgreich starten]   [gegeben, rahmenbedingung, erfolgreich, starten]             9  [[-20.927279846468462, -13.770233417984265, 13... -20.93 -13.77  13.08\n",
       "6  Zahlungsmittel, Zahlungsmittelaequivalente und...  [zahlungsmittel zahlungsmittelaequivalente boe...  [zahlungsmittel, zahlungsmittelaequivalente, b...             5  [[6.846739819435593, 12.169515286006693, -43.5...   6.85  12.17 -43.54\n",
       "7  Merus N.V., ein Unternehmen aus dem Bereich de...  [v unternehmen bereich klinisch onkologie inno...  [v, unternehmen, bereich, klinisch, onkologie,...             2  [[106.10661860969917, -6.896218063576454, 13.1... 106.11  -6.90  13.17"
      ],
      "text/html": [
       "<div>\n",
       "<style scoped>\n",
       "    .dataframe tbody tr th:only-of-type {\n",
       "        vertical-align: middle;\n",
       "    }\n",
       "\n",
       "    .dataframe tbody tr th {\n",
       "        vertical-align: top;\n",
       "    }\n",
       "\n",
       "    .dataframe thead th {\n",
       "        text-align: right;\n",
       "    }\n",
       "</style>\n",
       "<table border=\"1\" class=\"dataframe\">\n",
       "  <thead>\n",
       "    <tr style=\"text-align: right;\">\n",
       "      <th></th>\n",
       "      <th>top_sent</th>\n",
       "      <th>top_prep_sent</th>\n",
       "      <th>top_prep_sent_words</th>\n",
       "      <th>cluster_label</th>\n",
       "      <th>top_red_viz_vector</th>\n",
       "      <th>x</th>\n",
       "      <th>y</th>\n",
       "      <th>z</th>\n",
       "    </tr>\n",
       "  </thead>\n",
       "  <tbody>\n",
       "    <tr>\n",
       "      <th>2</th>\n",
       "      <td>Konzernergebnis Q1 23.  Hypoport startet mit l...</td>\n",
       "      <td>[konzernergebnis starten leicht wachstum koste...</td>\n",
       "      <td>[konzernergebnis, starten, leicht, wachstum, k...</td>\n",
       "      <td>9</td>\n",
       "      <td>[[-26.93161248572412, -10.30119435350977, 0.35...</td>\n",
       "      <td>-26.93</td>\n",
       "      <td>-10.30</td>\n",
       "      <td>0.35</td>\n",
       "    </tr>\n",
       "    <tr>\n",
       "      <th>3</th>\n",
       "      <td>Ronald Slabke, Vorstandsvorsitzender der Hypop...</td>\n",
       "      <td>[vorstandsvorsitzender hypoport]</td>\n",
       "      <td>[vorstandsvorsitzender, hypoport]</td>\n",
       "      <td>0</td>\n",
       "      <td>[[-11.087532021278799, 6.370232434643442, -9.1...</td>\n",
       "      <td>-11.09</td>\n",
       "      <td>6.37</td>\n",
       "      <td>-9.10</td>\n",
       "    </tr>\n",
       "    <tr>\n",
       "      <th>4</th>\n",
       "      <td>Unter den gegebenen Rahmenbedingungen ist Hypo...</td>\n",
       "      <td>[gegeben rahmenbedingung erfolgreich starten]</td>\n",
       "      <td>[gegeben, rahmenbedingung, erfolgreich, starten]</td>\n",
       "      <td>9</td>\n",
       "      <td>[[-20.927279846468462, -13.770233417984265, 13...</td>\n",
       "      <td>-20.93</td>\n",
       "      <td>-13.77</td>\n",
       "      <td>13.08</td>\n",
       "    </tr>\n",
       "    <tr>\n",
       "      <th>6</th>\n",
       "      <td>Zahlungsmittel, Zahlungsmittelaequivalente und...</td>\n",
       "      <td>[zahlungsmittel zahlungsmittelaequivalente boe...</td>\n",
       "      <td>[zahlungsmittel, zahlungsmittelaequivalente, b...</td>\n",
       "      <td>5</td>\n",
       "      <td>[[6.846739819435593, 12.169515286006693, -43.5...</td>\n",
       "      <td>6.85</td>\n",
       "      <td>12.17</td>\n",
       "      <td>-43.54</td>\n",
       "    </tr>\n",
       "    <tr>\n",
       "      <th>7</th>\n",
       "      <td>Merus N.V., ein Unternehmen aus dem Bereich de...</td>\n",
       "      <td>[v unternehmen bereich klinisch onkologie inno...</td>\n",
       "      <td>[v, unternehmen, bereich, klinisch, onkologie,...</td>\n",
       "      <td>2</td>\n",
       "      <td>[[106.10661860969917, -6.896218063576454, 13.1...</td>\n",
       "      <td>106.11</td>\n",
       "      <td>-6.90</td>\n",
       "      <td>13.17</td>\n",
       "    </tr>\n",
       "  </tbody>\n",
       "</table>\n",
       "</div>"
      ]
     },
     "execution_count": 12,
     "metadata": {},
     "output_type": "execute_result"
    }
   ],
   "execution_count": 12
  },
  {
   "metadata": {
    "ExecuteTime": {
     "end_time": "2024-10-01T05:05:05.057982Z",
     "start_time": "2024-10-01T05:05:05.054485Z"
    }
   },
   "cell_type": "code",
   "source": [
    "ind = 2\n",
    "col = 'top_prep_sent'\n",
    "df_len = len(top.df_data[col].loc[ind])\n",
    "df_type = type(top.df_data[col].loc[ind])\n",
    "df_element_type = type(top.df_data[col].loc[ind][0])\n",
    "print(df_type, df_len, df_element_type)"
   ],
   "id": "e54aeef30dec5e98",
   "outputs": [
    {
     "name": "stdout",
     "output_type": "stream",
     "text": [
      "<class 'list'> 1 <class 'str'>\n"
     ]
    }
   ],
   "execution_count": 13
  },
  {
   "metadata": {
    "ExecuteTime": {
     "end_time": "2024-10-01T05:05:05.274365Z",
     "start_time": "2024-10-01T05:05:05.256267Z"
    }
   },
   "cell_type": "code",
   "source": "top.df.head()",
   "id": "d94e6a9e60c50ff0",
   "outputs": [
    {
     "data": {
      "text/plain": [
       "   index       art_source                                            art_url   art_type              art_datetime art_language      art_isin art_company_name                                          art_title                                           art_text art_author art_abstract art_video_url                                        pp_art_text                                                new                                           top_sent                                    top_sent_masked                                top_prep_sent_words                                      top_prep_sent                                         top_vector                                     top_red_vector cluster_label                                 top_red_viz_vector\n",
       "0    646  dpa-afx-compact  https://mobile.traderfox.com/news/dpa-compact/...        unt 2023-05-05 15:01:00+02:00           DE  CH0013841017   Lonza Group AG  EQS-News: Lonza gibt Ergebnisse der Generalver...  Lonza gibt Ergebnisse der Generalversammlung 2...       <NA>         <NA>          <NA>  Lonza gibt Ergebnisse der Generalversammlung 2...                                                NaN                                               <NA>                                               <NA>                                               <NA>                                               <NA>                                               <NA>                                               <NA>          <NA>                                               <NA>\n",
       "1    225  dpa-afx-compact  https://mobile.traderfox.com/news/dpa-compact/...        unt 2023-05-03 19:31:00+02:00           DE  DE000A14KEB5        home24 SE               EQS-Stimmrechte: home24 SE (deutsch)  home24 SE: Veröffentlichung gemäß § 40 Abs. 1 ...       <NA>         <NA>          <NA>  EQS Stimmrechtsmitteilung: home24 SE.  Stimmre...                                                NaN                                               <NA>                                               <NA>                                               <NA>                                               <NA>                                               <NA>                                               <NA>          <NA>                                               <NA>\n",
       "2   3232         eqs-news  https://www.eqs-news.com/de/news/corporate/hyp...  Corporate 2023-05-08 07:05:00+02:00           DE  DE0005493365      Hypoport SE  Hypoport SE\n",
       "Hypoport SE: Hypoport startet mit ...  Konzernergebnis Q1 /23\n",
       "Hypoport startet mit le...       <NA>         <NA>          <NA>  Konzernergebnis Q1 23.  Hypoport startet mit l...  {'entities': [{'comp_name': 'Hypoport SE', 'co...  Konzernergebnis Q1 23.  Hypoport startet mit l...  Konzernergebnis Q1 23.  Comp@Name@Placeholder ...  [konzernergebnis, starten, leicht, wachstum, k...  [konzernergebnis starten leicht wachstum koste...  [[-2.727808793819026, -3.96094098297696, -3.40...  [[-1.3835460213872446, -0.6470582549067596, -0...             9  [[-26.93161248572412, -10.30119435350977, 0.35...\n",
       "3   3232         eqs-news  https://www.eqs-news.com/de/news/corporate/hyp...  Corporate 2023-05-08 07:05:00+02:00           DE  DE0005493365      Hypoport SE  Hypoport SE\n",
       "Hypoport SE: Hypoport startet mit ...  Konzernergebnis Q1 /23\n",
       "Hypoport startet mit le...       <NA>         <NA>          <NA>  Konzernergebnis Q1 23.  Hypoport startet mit l...  {'entities': [{'comp_name': 'Hypoport SE', 'co...  Ronald Slabke, Vorstandsvorsitzender der Hypop...  Ronald Slabke, Vorstandsvorsitzender der Comp@...                  [vorstandsvorsitzender, hypoport]                   [vorstandsvorsitzender hypoport]  [[-2.727808793819026, -3.96094098297696, -3.40...  [[-0.6341794088027193, 0.2477554519680205, -0....             0  [[-11.087532021278799, 6.370232434643442, -9.1...\n",
       "4   3232         eqs-news  https://www.eqs-news.com/de/news/corporate/hyp...  Corporate 2023-05-08 07:05:00+02:00           DE  DE0005493365      Hypoport SE  Hypoport SE\n",
       "Hypoport SE: Hypoport startet mit ...  Konzernergebnis Q1 /23\n",
       "Hypoport startet mit le...       <NA>         <NA>          <NA>  Konzernergebnis Q1 23.  Hypoport startet mit l...  {'entities': [{'comp_name': 'Hypoport SE', 'co...  Unter den gegebenen Rahmenbedingungen ist Hypo...  Unter den gegebenen Rahmenbedingungen ist Comp...   [gegeben, rahmenbedingung, erfolgreich, starten]      [gegeben rahmenbedingung erfolgreich starten]  [[-2.727808793819026, -3.96094098297696, -3.40...  [[-1.177121653716793, -0.9093325205759918, 0.5...             9  [[-20.927279846468462, -13.770233417984265, 13..."
      ],
      "text/html": [
       "<div>\n",
       "<style scoped>\n",
       "    .dataframe tbody tr th:only-of-type {\n",
       "        vertical-align: middle;\n",
       "    }\n",
       "\n",
       "    .dataframe tbody tr th {\n",
       "        vertical-align: top;\n",
       "    }\n",
       "\n",
       "    .dataframe thead th {\n",
       "        text-align: right;\n",
       "    }\n",
       "</style>\n",
       "<table border=\"1\" class=\"dataframe\">\n",
       "  <thead>\n",
       "    <tr style=\"text-align: right;\">\n",
       "      <th></th>\n",
       "      <th>index</th>\n",
       "      <th>art_source</th>\n",
       "      <th>art_url</th>\n",
       "      <th>art_type</th>\n",
       "      <th>art_datetime</th>\n",
       "      <th>art_language</th>\n",
       "      <th>art_isin</th>\n",
       "      <th>art_company_name</th>\n",
       "      <th>art_title</th>\n",
       "      <th>art_text</th>\n",
       "      <th>art_author</th>\n",
       "      <th>art_abstract</th>\n",
       "      <th>art_video_url</th>\n",
       "      <th>pp_art_text</th>\n",
       "      <th>new</th>\n",
       "      <th>top_sent</th>\n",
       "      <th>top_sent_masked</th>\n",
       "      <th>top_prep_sent_words</th>\n",
       "      <th>top_prep_sent</th>\n",
       "      <th>top_vector</th>\n",
       "      <th>top_red_vector</th>\n",
       "      <th>cluster_label</th>\n",
       "      <th>top_red_viz_vector</th>\n",
       "    </tr>\n",
       "  </thead>\n",
       "  <tbody>\n",
       "    <tr>\n",
       "      <th>0</th>\n",
       "      <td>646</td>\n",
       "      <td>dpa-afx-compact</td>\n",
       "      <td>https://mobile.traderfox.com/news/dpa-compact/...</td>\n",
       "      <td>unt</td>\n",
       "      <td>2023-05-05 15:01:00+02:00</td>\n",
       "      <td>DE</td>\n",
       "      <td>CH0013841017</td>\n",
       "      <td>Lonza Group AG</td>\n",
       "      <td>EQS-News: Lonza gibt Ergebnisse der Generalver...</td>\n",
       "      <td>Lonza gibt Ergebnisse der Generalversammlung 2...</td>\n",
       "      <td>&lt;NA&gt;</td>\n",
       "      <td>&lt;NA&gt;</td>\n",
       "      <td>&lt;NA&gt;</td>\n",
       "      <td>Lonza gibt Ergebnisse der Generalversammlung 2...</td>\n",
       "      <td>NaN</td>\n",
       "      <td>&lt;NA&gt;</td>\n",
       "      <td>&lt;NA&gt;</td>\n",
       "      <td>&lt;NA&gt;</td>\n",
       "      <td>&lt;NA&gt;</td>\n",
       "      <td>&lt;NA&gt;</td>\n",
       "      <td>&lt;NA&gt;</td>\n",
       "      <td>&lt;NA&gt;</td>\n",
       "      <td>&lt;NA&gt;</td>\n",
       "    </tr>\n",
       "    <tr>\n",
       "      <th>1</th>\n",
       "      <td>225</td>\n",
       "      <td>dpa-afx-compact</td>\n",
       "      <td>https://mobile.traderfox.com/news/dpa-compact/...</td>\n",
       "      <td>unt</td>\n",
       "      <td>2023-05-03 19:31:00+02:00</td>\n",
       "      <td>DE</td>\n",
       "      <td>DE000A14KEB5</td>\n",
       "      <td>home24 SE</td>\n",
       "      <td>EQS-Stimmrechte: home24 SE (deutsch)</td>\n",
       "      <td>home24 SE: Veröffentlichung gemäß § 40 Abs. 1 ...</td>\n",
       "      <td>&lt;NA&gt;</td>\n",
       "      <td>&lt;NA&gt;</td>\n",
       "      <td>&lt;NA&gt;</td>\n",
       "      <td>EQS Stimmrechtsmitteilung: home24 SE.  Stimmre...</td>\n",
       "      <td>NaN</td>\n",
       "      <td>&lt;NA&gt;</td>\n",
       "      <td>&lt;NA&gt;</td>\n",
       "      <td>&lt;NA&gt;</td>\n",
       "      <td>&lt;NA&gt;</td>\n",
       "      <td>&lt;NA&gt;</td>\n",
       "      <td>&lt;NA&gt;</td>\n",
       "      <td>&lt;NA&gt;</td>\n",
       "      <td>&lt;NA&gt;</td>\n",
       "    </tr>\n",
       "    <tr>\n",
       "      <th>2</th>\n",
       "      <td>3232</td>\n",
       "      <td>eqs-news</td>\n",
       "      <td>https://www.eqs-news.com/de/news/corporate/hyp...</td>\n",
       "      <td>Corporate</td>\n",
       "      <td>2023-05-08 07:05:00+02:00</td>\n",
       "      <td>DE</td>\n",
       "      <td>DE0005493365</td>\n",
       "      <td>Hypoport SE</td>\n",
       "      <td>Hypoport SE\n",
       "Hypoport SE: Hypoport startet mit ...</td>\n",
       "      <td>Konzernergebnis Q1 /23\n",
       "Hypoport startet mit le...</td>\n",
       "      <td>&lt;NA&gt;</td>\n",
       "      <td>&lt;NA&gt;</td>\n",
       "      <td>&lt;NA&gt;</td>\n",
       "      <td>Konzernergebnis Q1 23.  Hypoport startet mit l...</td>\n",
       "      <td>{'entities': [{'comp_name': 'Hypoport SE', 'co...</td>\n",
       "      <td>Konzernergebnis Q1 23.  Hypoport startet mit l...</td>\n",
       "      <td>Konzernergebnis Q1 23.  Comp@Name@Placeholder ...</td>\n",
       "      <td>[konzernergebnis, starten, leicht, wachstum, k...</td>\n",
       "      <td>[konzernergebnis starten leicht wachstum koste...</td>\n",
       "      <td>[[-2.727808793819026, -3.96094098297696, -3.40...</td>\n",
       "      <td>[[-1.3835460213872446, -0.6470582549067596, -0...</td>\n",
       "      <td>9</td>\n",
       "      <td>[[-26.93161248572412, -10.30119435350977, 0.35...</td>\n",
       "    </tr>\n",
       "    <tr>\n",
       "      <th>3</th>\n",
       "      <td>3232</td>\n",
       "      <td>eqs-news</td>\n",
       "      <td>https://www.eqs-news.com/de/news/corporate/hyp...</td>\n",
       "      <td>Corporate</td>\n",
       "      <td>2023-05-08 07:05:00+02:00</td>\n",
       "      <td>DE</td>\n",
       "      <td>DE0005493365</td>\n",
       "      <td>Hypoport SE</td>\n",
       "      <td>Hypoport SE\n",
       "Hypoport SE: Hypoport startet mit ...</td>\n",
       "      <td>Konzernergebnis Q1 /23\n",
       "Hypoport startet mit le...</td>\n",
       "      <td>&lt;NA&gt;</td>\n",
       "      <td>&lt;NA&gt;</td>\n",
       "      <td>&lt;NA&gt;</td>\n",
       "      <td>Konzernergebnis Q1 23.  Hypoport startet mit l...</td>\n",
       "      <td>{'entities': [{'comp_name': 'Hypoport SE', 'co...</td>\n",
       "      <td>Ronald Slabke, Vorstandsvorsitzender der Hypop...</td>\n",
       "      <td>Ronald Slabke, Vorstandsvorsitzender der Comp@...</td>\n",
       "      <td>[vorstandsvorsitzender, hypoport]</td>\n",
       "      <td>[vorstandsvorsitzender hypoport]</td>\n",
       "      <td>[[-2.727808793819026, -3.96094098297696, -3.40...</td>\n",
       "      <td>[[-0.6341794088027193, 0.2477554519680205, -0....</td>\n",
       "      <td>0</td>\n",
       "      <td>[[-11.087532021278799, 6.370232434643442, -9.1...</td>\n",
       "    </tr>\n",
       "    <tr>\n",
       "      <th>4</th>\n",
       "      <td>3232</td>\n",
       "      <td>eqs-news</td>\n",
       "      <td>https://www.eqs-news.com/de/news/corporate/hyp...</td>\n",
       "      <td>Corporate</td>\n",
       "      <td>2023-05-08 07:05:00+02:00</td>\n",
       "      <td>DE</td>\n",
       "      <td>DE0005493365</td>\n",
       "      <td>Hypoport SE</td>\n",
       "      <td>Hypoport SE\n",
       "Hypoport SE: Hypoport startet mit ...</td>\n",
       "      <td>Konzernergebnis Q1 /23\n",
       "Hypoport startet mit le...</td>\n",
       "      <td>&lt;NA&gt;</td>\n",
       "      <td>&lt;NA&gt;</td>\n",
       "      <td>&lt;NA&gt;</td>\n",
       "      <td>Konzernergebnis Q1 23.  Hypoport startet mit l...</td>\n",
       "      <td>{'entities': [{'comp_name': 'Hypoport SE', 'co...</td>\n",
       "      <td>Unter den gegebenen Rahmenbedingungen ist Hypo...</td>\n",
       "      <td>Unter den gegebenen Rahmenbedingungen ist Comp...</td>\n",
       "      <td>[gegeben, rahmenbedingung, erfolgreich, starten]</td>\n",
       "      <td>[gegeben rahmenbedingung erfolgreich starten]</td>\n",
       "      <td>[[-2.727808793819026, -3.96094098297696, -3.40...</td>\n",
       "      <td>[[-1.177121653716793, -0.9093325205759918, 0.5...</td>\n",
       "      <td>9</td>\n",
       "      <td>[[-20.927279846468462, -13.770233417984265, 13...</td>\n",
       "    </tr>\n",
       "  </tbody>\n",
       "</table>\n",
       "</div>"
      ]
     },
     "execution_count": 14,
     "metadata": {},
     "output_type": "execute_result"
    }
   ],
   "execution_count": 14
  },
  {
   "metadata": {
    "ExecuteTime": {
     "end_time": "2024-10-01T05:05:05.501946Z",
     "start_time": "2024-10-01T05:05:05.498960Z"
    }
   },
   "cell_type": "code",
   "source": [
    "df_len = len(top.df[col].loc[ind])\n",
    "df_type = type(top.df[col].loc[ind])\n",
    "df_element_type = type(top.df[col].loc[ind][0])\n",
    "print(df_type, df_len, df_element_type)"
   ],
   "id": "154bbe5531342470",
   "outputs": [
    {
     "name": "stdout",
     "output_type": "stream",
     "text": [
      "<class 'list'> 1 <class 'str'>\n"
     ]
    }
   ],
   "execution_count": 15
  },
  {
   "metadata": {
    "ExecuteTime": {
     "end_time": "2024-10-01T05:05:05.535871Z",
     "start_time": "2024-10-01T05:05:05.516219Z"
    }
   },
   "cell_type": "code",
   "source": "top.df_cluster.head()",
   "id": "8a0aded659f7f789",
   "outputs": [
    {
     "data": {
      "text/plain": [
       "                   x      y      z                                           top_sent                                      top_prep_sent                                top_prep_sent_words                                 top_cluster_vector                                most_frequent_words\n",
       "cluster_label                                                                                                                                                                                                                                                                                    \n",
       "0             -13.66   6.08 -19.00  Ronald Slabke, Vorstandsvorsitzender der Hypop...  [vorstandsvorsitzender hypoport amerikanisch r...  [vorstandsvorsitzender, hypoport, amerikanisch...  [[0.0, 0.0, 0.03562352499395473, 0.03562352499...  [(deutsch, 0.17811762496977365), (portfolio, 0...\n",
       "1              79.12  14.94  10.97  Unter dem Strich will ProSiebenSat.1 bereinigt...  [strich bereinigen sondereffekt abschreibung w...  [strich, bereinigen, sondereffekt, abschreibun...  [[0.0, 0.0, 0.0, 0.0, 0.0, 0.04662524041201566...  [(euro, 0.6061281253562036), (million, 0.51287...\n",
       "2              74.84   0.22  -0.59  Merus N.V., ein Unternehmen aus dem Bereich de...  [v unternehmen bereich klinisch onkologie inno...  [v, unternehmen, bereich, klinisch, onkologie,...  [[0.0, 0.0, 0.0, 0.0, 0.0, 0.0, 0.0, 0.0, 0.0,...  [(unternehmen, 0.4882730752626956), (klinisch,...\n",
       "3             -44.81 -68.25  90.97  Die RHOEN-KLINIKUM AG ist ein eigenstaendiges ...  [eigenstaendig unternehmen dach asklepios klin...  [eigenstaendig, unternehmen, dach, asklepios, ...  [[0.0, 0.0, 0.0, 0.0, 0.0, 0.0, 0.0, 0.0, 0.0,...  [(co, 0.7654779007031424), (kunde, 0.173972250...\n",
       "4               7.13   9.40 -25.81  EQS Stimmrechtsmitteilung: Rheinmetall AG.  St...  [stimmrechtsmitteilung stimmrechtsmitteilung s...  [stimmrechtsmitteilung, stimmrechtsmitteilung,...  [[0.0, 0.10314212462587934, 0.0, 0.0, 0.0, 0.0...  [(instone, 0.618852747755276), (stimmrechtsmit..."
      ],
      "text/html": [
       "<div>\n",
       "<style scoped>\n",
       "    .dataframe tbody tr th:only-of-type {\n",
       "        vertical-align: middle;\n",
       "    }\n",
       "\n",
       "    .dataframe tbody tr th {\n",
       "        vertical-align: top;\n",
       "    }\n",
       "\n",
       "    .dataframe thead th {\n",
       "        text-align: right;\n",
       "    }\n",
       "</style>\n",
       "<table border=\"1\" class=\"dataframe\">\n",
       "  <thead>\n",
       "    <tr style=\"text-align: right;\">\n",
       "      <th></th>\n",
       "      <th>x</th>\n",
       "      <th>y</th>\n",
       "      <th>z</th>\n",
       "      <th>top_sent</th>\n",
       "      <th>top_prep_sent</th>\n",
       "      <th>top_prep_sent_words</th>\n",
       "      <th>top_cluster_vector</th>\n",
       "      <th>most_frequent_words</th>\n",
       "    </tr>\n",
       "    <tr>\n",
       "      <th>cluster_label</th>\n",
       "      <th></th>\n",
       "      <th></th>\n",
       "      <th></th>\n",
       "      <th></th>\n",
       "      <th></th>\n",
       "      <th></th>\n",
       "      <th></th>\n",
       "      <th></th>\n",
       "    </tr>\n",
       "  </thead>\n",
       "  <tbody>\n",
       "    <tr>\n",
       "      <th>0</th>\n",
       "      <td>-13.66</td>\n",
       "      <td>6.08</td>\n",
       "      <td>-19.00</td>\n",
       "      <td>Ronald Slabke, Vorstandsvorsitzender der Hypop...</td>\n",
       "      <td>[vorstandsvorsitzender hypoport amerikanisch r...</td>\n",
       "      <td>[vorstandsvorsitzender, hypoport, amerikanisch...</td>\n",
       "      <td>[[0.0, 0.0, 0.03562352499395473, 0.03562352499...</td>\n",
       "      <td>[(deutsch, 0.17811762496977365), (portfolio, 0...</td>\n",
       "    </tr>\n",
       "    <tr>\n",
       "      <th>1</th>\n",
       "      <td>79.12</td>\n",
       "      <td>14.94</td>\n",
       "      <td>10.97</td>\n",
       "      <td>Unter dem Strich will ProSiebenSat.1 bereinigt...</td>\n",
       "      <td>[strich bereinigen sondereffekt abschreibung w...</td>\n",
       "      <td>[strich, bereinigen, sondereffekt, abschreibun...</td>\n",
       "      <td>[[0.0, 0.0, 0.0, 0.0, 0.0, 0.04662524041201566...</td>\n",
       "      <td>[(euro, 0.6061281253562036), (million, 0.51287...</td>\n",
       "    </tr>\n",
       "    <tr>\n",
       "      <th>2</th>\n",
       "      <td>74.84</td>\n",
       "      <td>0.22</td>\n",
       "      <td>-0.59</td>\n",
       "      <td>Merus N.V., ein Unternehmen aus dem Bereich de...</td>\n",
       "      <td>[v unternehmen bereich klinisch onkologie inno...</td>\n",
       "      <td>[v, unternehmen, bereich, klinisch, onkologie,...</td>\n",
       "      <td>[[0.0, 0.0, 0.0, 0.0, 0.0, 0.0, 0.0, 0.0, 0.0,...</td>\n",
       "      <td>[(unternehmen, 0.4882730752626956), (klinisch,...</td>\n",
       "    </tr>\n",
       "    <tr>\n",
       "      <th>3</th>\n",
       "      <td>-44.81</td>\n",
       "      <td>-68.25</td>\n",
       "      <td>90.97</td>\n",
       "      <td>Die RHOEN-KLINIKUM AG ist ein eigenstaendiges ...</td>\n",
       "      <td>[eigenstaendig unternehmen dach asklepios klin...</td>\n",
       "      <td>[eigenstaendig, unternehmen, dach, asklepios, ...</td>\n",
       "      <td>[[0.0, 0.0, 0.0, 0.0, 0.0, 0.0, 0.0, 0.0, 0.0,...</td>\n",
       "      <td>[(co, 0.7654779007031424), (kunde, 0.173972250...</td>\n",
       "    </tr>\n",
       "    <tr>\n",
       "      <th>4</th>\n",
       "      <td>7.13</td>\n",
       "      <td>9.40</td>\n",
       "      <td>-25.81</td>\n",
       "      <td>EQS Stimmrechtsmitteilung: Rheinmetall AG.  St...</td>\n",
       "      <td>[stimmrechtsmitteilung stimmrechtsmitteilung s...</td>\n",
       "      <td>[stimmrechtsmitteilung, stimmrechtsmitteilung,...</td>\n",
       "      <td>[[0.0, 0.10314212462587934, 0.0, 0.0, 0.0, 0.0...</td>\n",
       "      <td>[(instone, 0.618852747755276), (stimmrechtsmit...</td>\n",
       "    </tr>\n",
       "  </tbody>\n",
       "</table>\n",
       "</div>"
      ]
     },
     "execution_count": 16,
     "metadata": {},
     "output_type": "execute_result"
    }
   ],
   "execution_count": 16
  },
  {
   "metadata": {
    "ExecuteTime": {
     "end_time": "2024-10-01T05:05:05.875928Z",
     "start_time": "2024-10-01T05:05:05.871512Z"
    }
   },
   "cell_type": "code",
   "source": [
    "df_cluster_len = len(top.df_cluster[col].loc[ind])\n",
    "df_cluster_type = type(top.df_cluster[col].loc[ind])\n",
    "df_cluster_element_type = type(top.df_cluster[col].loc[ind][0])\n",
    "print(df_cluster_type, df_cluster_len, df_cluster_element_type)"
   ],
   "id": "253ae6e137a03095",
   "outputs": [
    {
     "name": "stdout",
     "output_type": "stream",
     "text": [
      "<class 'list'> 1 <class 'str'>\n"
     ]
    }
   ],
   "execution_count": 17
  },
  {
   "metadata": {
    "ExecuteTime": {
     "end_time": "2024-10-01T05:05:06.011370Z",
     "start_time": "2024-10-01T05:05:06.008614Z"
    }
   },
   "cell_type": "code",
   "source": "df_cluster_type == df_type",
   "id": "3a7d0689fcf8106a",
   "outputs": [
    {
     "data": {
      "text/plain": [
       "True"
      ]
     },
     "execution_count": 18,
     "metadata": {},
     "output_type": "execute_result"
    }
   ],
   "execution_count": 18
  },
  {
   "metadata": {
    "ExecuteTime": {
     "end_time": "2024-10-01T05:05:06.219769Z",
     "start_time": "2024-10-01T05:05:06.217379Z"
    }
   },
   "cell_type": "code",
   "source": "# top.df_data.head()",
   "id": "e0738e0d5f03b32e",
   "outputs": [],
   "execution_count": 19
  },
  {
   "metadata": {
    "ExecuteTime": {
     "end_time": "2024-10-01T05:05:06.369626Z",
     "start_time": "2024-10-01T05:05:06.358600Z"
    }
   },
   "cell_type": "code",
   "source": [
    "from copy import deepcopy\n",
    "df_data = deepcopy(top.df)"
   ],
   "id": "5bd3202d853b4d15",
   "outputs": [],
   "execution_count": 20
  },
  {
   "metadata": {
    "ExecuteTime": {
     "end_time": "2024-10-01T05:05:06.439994Z",
     "start_time": "2024-10-01T05:05:06.424971Z"
    }
   },
   "cell_type": "code",
   "source": "df_data[[\"x\", \"y\", \"z\"]] = df_data.apply(lambda x: np.squeeze(x.top_red_viz_vector).tolist() if x.top_red_viz_vector is not pd.NA else [pd.NA, pd.NA, pd.NA], axis=1, result_type='expand')",
   "id": "214b680afa44b61a",
   "outputs": [],
   "execution_count": 21
  },
  {
   "metadata": {
    "ExecuteTime": {
     "end_time": "2024-10-01T05:05:06.843392Z",
     "start_time": "2024-10-01T05:05:06.841208Z"
    }
   },
   "cell_type": "code",
   "source": "# df_data.head()",
   "id": "b799746d6dfc2489",
   "outputs": [],
   "execution_count": 22
  },
  {
   "metadata": {
    "ExecuteTime": {
     "end_time": "2024-10-01T05:05:07.216045Z",
     "start_time": "2024-10-01T05:05:07.210621Z"
    }
   },
   "cell_type": "code",
   "source": "df_data = df_data.dropna(subset=['new'])",
   "id": "46a3d66703e5181b",
   "outputs": [],
   "execution_count": 23
  },
  {
   "metadata": {
    "ExecuteTime": {
     "end_time": "2024-10-01T05:05:07.637569Z",
     "start_time": "2024-10-01T05:05:07.621285Z"
    }
   },
   "cell_type": "code",
   "source": [
    "df_test = df_data.groupby('cluster_label').agg({'x':'mean', 'y':'mean', 'z':'mean', 'top_sent': ' '.join, 'top_prep_sent': lambda x: [' '.join(x.apply(' '.join))], 'top_prep_sent_words': lambda val: [x for xs in val for x in xs]})\n",
    "\n",
    "df_test\n",
    "\n"
   ],
   "id": "b8a8aee82d6ffa5a",
   "outputs": [
    {
     "data": {
      "text/plain": [
       "                   x      y      z                                           top_sent                                      top_prep_sent                                top_prep_sent_words\n",
       "cluster_label                                                                                                                                                                              \n",
       "0             -13.66   6.08 -19.00  Ronald Slabke, Vorstandsvorsitzender der Hypop...  [vorstandsvorsitzender hypoport amerikanisch r...  [vorstandsvorsitzender, hypoport, amerikanisch...\n",
       "1              79.12  14.94  10.97  Unter dem Strich will ProSiebenSat.1 bereinigt...  [strich bereinigen sondereffekt abschreibung w...  [strich, bereinigen, sondereffekt, abschreibun...\n",
       "2              74.84   0.22  -0.59  Merus N.V., ein Unternehmen aus dem Bereich de...  [v unternehmen bereich klinisch onkologie inno...  [v, unternehmen, bereich, klinisch, onkologie,...\n",
       "3             -44.81 -68.25  90.97  Die RHOEN-KLINIKUM AG ist ein eigenstaendiges ...  [eigenstaendig unternehmen dach asklepios klin...  [eigenstaendig, unternehmen, dach, asklepios, ...\n",
       "4               7.13   9.40 -25.81  EQS Stimmrechtsmitteilung: Rheinmetall AG.  St...  [stimmrechtsmitteilung stimmrechtsmitteilung s...  [stimmrechtsmitteilung, stimmrechtsmitteilung,...\n",
       "5             -16.04  -2.63 -59.72  Zahlungsmittel, Zahlungsmittelaequivalente und...  [zahlungsmittel zahlungsmittelaequivalente boe...  [zahlungsmittel, zahlungsmittelaequivalente, b...\n",
       "6              67.56   5.26  33.74  Die Jahreshauptversammlung des Unternehmens is...  [jahreshauptversammlung unternehmen mai planen...  [jahreshauptversammlung, unternehmen, mai, pla...\n",
       "7             -36.32  99.37  49.85  Beta Systems Software AG: Vorstandsmitglied Dr...  [software vorstandsmitglied amt niederlegen so...  [software, vorstandsmitglied, amt, niederlegen...\n",
       "8              28.96   5.07  -2.47  Damit konnte das Unternehmen, trotz eines einm...  [unternehmen einmalig sondereffekt hoehe mio e...  [unternehmen, einmalig, sondereffekt, hoehe, m...\n",
       "9             -14.25  -5.11 -14.60  Konzernergebnis Q1 23.  Hypoport startet mit l...  [konzernergebnis starten leicht wachstum koste...  [konzernergebnis, starten, leicht, wachstum, k..."
      ],
      "text/html": [
       "<div>\n",
       "<style scoped>\n",
       "    .dataframe tbody tr th:only-of-type {\n",
       "        vertical-align: middle;\n",
       "    }\n",
       "\n",
       "    .dataframe tbody tr th {\n",
       "        vertical-align: top;\n",
       "    }\n",
       "\n",
       "    .dataframe thead th {\n",
       "        text-align: right;\n",
       "    }\n",
       "</style>\n",
       "<table border=\"1\" class=\"dataframe\">\n",
       "  <thead>\n",
       "    <tr style=\"text-align: right;\">\n",
       "      <th></th>\n",
       "      <th>x</th>\n",
       "      <th>y</th>\n",
       "      <th>z</th>\n",
       "      <th>top_sent</th>\n",
       "      <th>top_prep_sent</th>\n",
       "      <th>top_prep_sent_words</th>\n",
       "    </tr>\n",
       "    <tr>\n",
       "      <th>cluster_label</th>\n",
       "      <th></th>\n",
       "      <th></th>\n",
       "      <th></th>\n",
       "      <th></th>\n",
       "      <th></th>\n",
       "      <th></th>\n",
       "    </tr>\n",
       "  </thead>\n",
       "  <tbody>\n",
       "    <tr>\n",
       "      <th>0</th>\n",
       "      <td>-13.66</td>\n",
       "      <td>6.08</td>\n",
       "      <td>-19.00</td>\n",
       "      <td>Ronald Slabke, Vorstandsvorsitzender der Hypop...</td>\n",
       "      <td>[vorstandsvorsitzender hypoport amerikanisch r...</td>\n",
       "      <td>[vorstandsvorsitzender, hypoport, amerikanisch...</td>\n",
       "    </tr>\n",
       "    <tr>\n",
       "      <th>1</th>\n",
       "      <td>79.12</td>\n",
       "      <td>14.94</td>\n",
       "      <td>10.97</td>\n",
       "      <td>Unter dem Strich will ProSiebenSat.1 bereinigt...</td>\n",
       "      <td>[strich bereinigen sondereffekt abschreibung w...</td>\n",
       "      <td>[strich, bereinigen, sondereffekt, abschreibun...</td>\n",
       "    </tr>\n",
       "    <tr>\n",
       "      <th>2</th>\n",
       "      <td>74.84</td>\n",
       "      <td>0.22</td>\n",
       "      <td>-0.59</td>\n",
       "      <td>Merus N.V., ein Unternehmen aus dem Bereich de...</td>\n",
       "      <td>[v unternehmen bereich klinisch onkologie inno...</td>\n",
       "      <td>[v, unternehmen, bereich, klinisch, onkologie,...</td>\n",
       "    </tr>\n",
       "    <tr>\n",
       "      <th>3</th>\n",
       "      <td>-44.81</td>\n",
       "      <td>-68.25</td>\n",
       "      <td>90.97</td>\n",
       "      <td>Die RHOEN-KLINIKUM AG ist ein eigenstaendiges ...</td>\n",
       "      <td>[eigenstaendig unternehmen dach asklepios klin...</td>\n",
       "      <td>[eigenstaendig, unternehmen, dach, asklepios, ...</td>\n",
       "    </tr>\n",
       "    <tr>\n",
       "      <th>4</th>\n",
       "      <td>7.13</td>\n",
       "      <td>9.40</td>\n",
       "      <td>-25.81</td>\n",
       "      <td>EQS Stimmrechtsmitteilung: Rheinmetall AG.  St...</td>\n",
       "      <td>[stimmrechtsmitteilung stimmrechtsmitteilung s...</td>\n",
       "      <td>[stimmrechtsmitteilung, stimmrechtsmitteilung,...</td>\n",
       "    </tr>\n",
       "    <tr>\n",
       "      <th>5</th>\n",
       "      <td>-16.04</td>\n",
       "      <td>-2.63</td>\n",
       "      <td>-59.72</td>\n",
       "      <td>Zahlungsmittel, Zahlungsmittelaequivalente und...</td>\n",
       "      <td>[zahlungsmittel zahlungsmittelaequivalente boe...</td>\n",
       "      <td>[zahlungsmittel, zahlungsmittelaequivalente, b...</td>\n",
       "    </tr>\n",
       "    <tr>\n",
       "      <th>6</th>\n",
       "      <td>67.56</td>\n",
       "      <td>5.26</td>\n",
       "      <td>33.74</td>\n",
       "      <td>Die Jahreshauptversammlung des Unternehmens is...</td>\n",
       "      <td>[jahreshauptversammlung unternehmen mai planen...</td>\n",
       "      <td>[jahreshauptversammlung, unternehmen, mai, pla...</td>\n",
       "    </tr>\n",
       "    <tr>\n",
       "      <th>7</th>\n",
       "      <td>-36.32</td>\n",
       "      <td>99.37</td>\n",
       "      <td>49.85</td>\n",
       "      <td>Beta Systems Software AG: Vorstandsmitglied Dr...</td>\n",
       "      <td>[software vorstandsmitglied amt niederlegen so...</td>\n",
       "      <td>[software, vorstandsmitglied, amt, niederlegen...</td>\n",
       "    </tr>\n",
       "    <tr>\n",
       "      <th>8</th>\n",
       "      <td>28.96</td>\n",
       "      <td>5.07</td>\n",
       "      <td>-2.47</td>\n",
       "      <td>Damit konnte das Unternehmen, trotz eines einm...</td>\n",
       "      <td>[unternehmen einmalig sondereffekt hoehe mio e...</td>\n",
       "      <td>[unternehmen, einmalig, sondereffekt, hoehe, m...</td>\n",
       "    </tr>\n",
       "    <tr>\n",
       "      <th>9</th>\n",
       "      <td>-14.25</td>\n",
       "      <td>-5.11</td>\n",
       "      <td>-14.60</td>\n",
       "      <td>Konzernergebnis Q1 23.  Hypoport startet mit l...</td>\n",
       "      <td>[konzernergebnis starten leicht wachstum koste...</td>\n",
       "      <td>[konzernergebnis, starten, leicht, wachstum, k...</td>\n",
       "    </tr>\n",
       "  </tbody>\n",
       "</table>\n",
       "</div>"
      ]
     },
     "execution_count": 24,
     "metadata": {},
     "output_type": "execute_result"
    }
   ],
   "execution_count": 24
  },
  {
   "metadata": {
    "ExecuteTime": {
     "end_time": "2024-10-01T05:05:08.017542Z",
     "start_time": "2024-10-01T05:05:08.015766Z"
    }
   },
   "cell_type": "code",
   "source": [
    "# print(len(df_test.top_prep_sent_words.loc[0]))\n",
    "# print(type(df_test.top_prep_sent_words.loc[1]))"
   ],
   "id": "4ddfee8b31ef6151",
   "outputs": [],
   "execution_count": 25
  },
  {
   "metadata": {
    "ExecuteTime": {
     "end_time": "2024-10-01T05:05:08.039363Z",
     "start_time": "2024-10-01T05:05:08.037498Z"
    }
   },
   "cell_type": "code",
   "source": "# top.df_data",
   "id": "c5dd64522453044d",
   "outputs": [],
   "execution_count": 26
  },
  {
   "metadata": {
    "ExecuteTime": {
     "end_time": "2024-10-01T05:05:08.165265Z",
     "start_time": "2024-10-01T05:05:08.163163Z"
    }
   },
   "cell_type": "code",
   "source": "# top.df_cluster",
   "id": "daf123b3fc299459",
   "outputs": [],
   "execution_count": 27
  },
  {
   "metadata": {
    "ExecuteTime": {
     "end_time": "2024-10-01T05:05:08.187157Z",
     "start_time": "2024-10-01T05:05:08.184845Z"
    }
   },
   "cell_type": "code",
   "source": "# top.df_cluster_doc_term_matrix",
   "id": "61525ea056d9eebf",
   "outputs": [],
   "execution_count": 28
  }
 ],
 "metadata": {
  "kernelspec": {
   "display_name": "Python 3",
   "language": "python",
   "name": "python3"
  },
  "language_info": {
   "codemirror_mode": {
    "name": "ipython",
    "version": 2
   },
   "file_extension": ".py",
   "mimetype": "text/x-python",
   "name": "python",
   "nbconvert_exporter": "python",
   "pygments_lexer": "ipython2",
   "version": "2.7.6"
  }
 },
 "nbformat": 4,
 "nbformat_minor": 5
}
