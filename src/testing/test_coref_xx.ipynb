{
 "cells": [
  {
   "metadata": {
    "ExecuteTime": {
     "end_time": "2024-09-17T15:22:46.674217Z",
     "start_time": "2024-09-17T15:22:46.671546Z"
    }
   },
   "cell_type": "code",
   "source": [
    "import pandas as pd\n",
    "\n",
    "from src.spacy_models.spacy_pipe_build import SpacyPipeBuild\n",
    "from src.spacy_models.spacy_pipe_process import SpacyPipeProcess\n",
    "from src.spacy_models.spacy_utils import SpacyExt, SpacyTask, ExtractionType\n",
    "from src.settings.enums import NaturalLanguage\n",
    "from src.data.data_loader import DataLoader"
   ],
   "id": "1152d51c0ba160c7",
   "outputs": [],
   "execution_count": 16
  },
  {
   "metadata": {
    "ExecuteTime": {
     "end_time": "2024-09-17T15:22:46.829751Z",
     "start_time": "2024-09-17T15:22:46.826272Z"
    }
   },
   "cell_type": "code",
   "source": "nat_lang = NaturalLanguage.DE",
   "id": "80caa05691e1f09f",
   "outputs": [],
   "execution_count": 17
  },
  {
   "metadata": {
    "ExecuteTime": {
     "end_time": "2024-09-17T15:22:48.519905Z",
     "start_time": "2024-09-17T15:22:46.885612Z"
    }
   },
   "cell_type": "code",
   "source": "coref = SpacyPipeProcess(natural_language=nat_lang, spacy_task=SpacyTask.COREF, use_gpu=True, extraction_type=ExtractionType.TRADITIONAL)",
   "id": "2711627805aa835d",
   "outputs": [
    {
     "name": "stdout",
     "output_type": "stream",
     "text": [
      "GPU is used: True\n",
      "custom extensions \"init_extensions\" initialized\n",
      "regex_entity_pattern for own_regex_search were compiled.\n",
      "Function \"own_regex_search\" initialized\n",
      "Function \"own_coref_resolve\" initialized\n"
     ]
    }
   ],
   "execution_count": 18
  },
  {
   "metadata": {
    "ExecuteTime": {
     "end_time": "2024-09-17T15:22:48.534289Z",
     "start_time": "2024-09-17T15:22:48.530872Z"
    }
   },
   "cell_type": "code",
   "source": "coref.nlp.pipe_names",
   "id": "3884baf65e391df7",
   "outputs": [
    {
     "data": {
      "text/plain": [
       "['tok2vec', 'senter', 'own_regex_search', 'xx_coref_resolve']"
      ]
     },
     "execution_count": 19,
     "metadata": {},
     "output_type": "execute_result"
    }
   ],
   "execution_count": 19
  },
  {
   "metadata": {
    "ExecuteTime": {
     "end_time": "2024-09-17T15:22:48.637669Z",
     "start_time": "2024-09-17T15:22:48.635583Z"
    }
   },
   "cell_type": "code",
   "source": "# ner.nlp.disabled",
   "id": "c7b5d8c333d4585f",
   "outputs": [],
   "execution_count": 20
  },
  {
   "metadata": {
    "ExecuteTime": {
     "end_time": "2024-09-17T15:22:48.695416Z",
     "start_time": "2024-09-17T15:22:48.692868Z"
    }
   },
   "cell_type": "code",
   "source": "# ner.nlp.analyze_pipes()",
   "id": "8d7f4098748c5e9a",
   "outputs": [],
   "execution_count": 21
  },
  {
   "metadata": {
    "ExecuteTime": {
     "end_time": "2024-09-17T15:22:49.168949Z",
     "start_time": "2024-09-17T15:22:48.739351Z"
    }
   },
   "cell_type": "code",
   "source": [
    "dl = DataLoader()\n",
    "year = 2023\n",
    "month = 5\n",
    "df = dl.load_monthly_df(year=year, month=month)"
   ],
   "id": "2afd77099d0f8a5a",
   "outputs": [],
   "execution_count": 22
  },
  {
   "metadata": {
    "ExecuteTime": {
     "end_time": "2024-09-17T15:32:31.536072Z",
     "start_time": "2024-09-17T15:32:31.532129Z"
    }
   },
   "cell_type": "code",
   "source": [
    "# without findings: 10, 11\n",
    "index = 44\n",
    "isin = df.loc[index, 'art_isin']\n",
    "company = df.loc[index, 'art_company_name']\n",
    "print('ISIN:', isin, '---', 'COMP:', company)\n",
    "print('-----------------------------------')\n",
    "text = df.loc[index, 'pp_art_text']\n",
    "text"
   ],
   "id": "5927650a457788e4",
   "outputs": [
    {
     "name": "stdout",
     "output_type": "stream",
     "text": [
      "ISIN: GB0007980591 --- COMP: BP PLC\n",
      "-----------------------------------\n"
     ]
    },
    {
     "data": {
      "text/plain": [
       "'Der Oelkonzern BP hat im ersten Quartal die niedrigeren Oel- und Gaspreise zu spueren bekommen. Der operative Gewinn schrumpfte aber nicht so stark wie befuerchtet. Dank des weiterhin hohen Geldzuflusses kuendigte BP am Dienstag in London auch den Rueckkauf weiterer Aktien an - aber mit gedrosseltem Tempo. Unter diesem Eindruck verlor der Aktienkurs im fruehen Londoner Handel mehr als 5 Prozent. Im ersten Quartal ging der um Sondereffekte bereinigte Gewinn im Jahresvergleich um rund ein Fuenftel auf knapp fuenf Milliarden US-Dollar zurueck, wie der Konzern mitteilte. Damit uebertraf der Konzern die Erwartungen der Experten. Inklusive Sondereffekten betrug der Gewinn 8,2 Milliarden Dollar. Wegen der Abschreibung seiner Beteiligung an dem russischen Oelkonzern Rosneft und des Rueckzugs aus dem Geschaeft in Russland war im Vorjahreszeitraum unter dem Strich ein Verlust in Hoehe von 20,4 Milliarden Dollar angefallen. Unterdessen verlangsamt BP das Tempo bei den Aktienrueckkaeufen. Auch wenn die Gewinne der grossen Oelkonzerne unter den Rekordwerten aus dem Jahr 2022 liegen, sind sie im historischen Vergleich immer noch hoch. Die Unternehmen erwirtschaften immer noch eine Menge zusaetzlicher Barmittel, sodass BP seine Investoren mit dem Rueckkauf von Aktien im Wert von 1,75 Milliarden Dollar bis zur Bekanntgabe der Ergebnisse fuer das zweite Quartal belohnen will. Erst juengst beendete das Unternehmen den Rueckkauf eigener Aktien im Wert von 2,75 Milliarden Dollar, das es Anfang Februar angekuendigt hatte. Seit Anfang des Jahres setzt der Konzern seine Strategie um, in naher Zukunft mehr Oel und Gas zu foerdern und gleichzeitig die Investitionen in kohlenstoffarme Energien zu erhoehen. Im April nahm das Unternehmen eine grosse neue Oelplattform im Golf von Mexiko in Betrieb und kuendigte an, dass es Geschaefte vereinbaren will, um die Produktion fossiler Brennstoffe weiter zu steigern. Dies veraergert Aktivisten und einige Investoren. Andere Aktionaere wollen nach einer mehrjaehrigen Durststrecke fuer die ganze Branche allerdings hoehere Kapitalrueckfluesse sehen. Die BP-Aktien haben sich seit einem Jahr um rund 30 Prozent verteuert.'"
      ]
     },
     "execution_count": 122,
     "metadata": {},
     "output_type": "execute_result"
    }
   ],
   "execution_count": 122
  },
  {
   "metadata": {
    "ExecuteTime": {
     "end_time": "2024-09-17T15:32:33.957877Z",
     "start_time": "2024-09-17T15:32:31.881612Z"
    }
   },
   "cell_type": "code",
   "source": [
    "%%time\n",
    "doc = coref.nlp(text=text)"
   ],
   "id": "3e378e0632518701",
   "outputs": [
    {
     "name": "stdout",
     "output_type": "stream",
     "text": [
      "##### ->>>>>>>>>> COREF: PipeFunc.CUST_EXT_VAL_WAS_SET: True\n",
      "cluster_dict: {'head': (0, 17, 'Der Oelkonzern BP'), 1: (214, 216, 'BP'), 2: (551, 562, 'der Konzern'), 3: (590, 601, 'der Konzern'), 4: (721, 727, 'seiner'), 5: (951, 953, 'BP'), 6: (1014, 1037, 'der grossen Oelkonzerne'), 7: (1139, 1154, 'Die Unternehmen'), 8: (1224, 1226, 'BP'), 9: (1227, 1232, 'seine'), 10: (1404, 1419, 'das Unternehmen'), 11: (1489, 1491, 'es'), 12: (1556, 1567, 'der Konzern'), 13: (1568, 1573, 'seine'), 14: (1724, 1739, 'das Unternehmen'), 15: (1823, 1825, 'es')}\n",
      "cluster_dict: {'head': (22, 39, 'im ersten Quartal'), 1: (399, 416, 'Im ersten Quartal')}\n",
      "cluster_dict: {'head': (25, 39, 'ersten Quartal'), 1: (402, 416, 'ersten Quartal')}\n",
      "cluster_dict: {'head': (417, 421, 'ging'), 1: (574, 579, 'Damit')}\n",
      "cluster_dict: {'head': (422, 460, 'der um Sondereffekte bereinigte Gewinn'), 1: (664, 674, 'der Gewinn')}\n",
      "cluster_dict: {'head': (1002, 1037, 'die Gewinne der grossen Oelkonzerne'), 1: (1092, 1095, 'sie')}\n",
      "cluster_dict: {'head': (1719, 1723, 'nahm'), 1: (1914, 1918, 'Dies')}\n",
      "CPU times: user 820 ms, sys: 34.2 ms, total: 854 ms\n",
      "Wall time: 2.07 s\n"
     ]
    }
   ],
   "execution_count": 123
  },
  {
   "metadata": {
    "ExecuteTime": {
     "end_time": "2024-09-17T15:32:33.972802Z",
     "start_time": "2024-09-17T15:32:33.970280Z"
    }
   },
   "cell_type": "code",
   "source": [
    "for ent in doc.ents:\n",
    "    print(ent)"
   ],
   "id": "65b8ca463cf470f3",
   "outputs": [
    {
     "name": "stdout",
     "output_type": "stream",
     "text": [
      "BP\n",
      "BP\n",
      "der Konzern\n",
      "der Konzern\n",
      "seiner\n",
      "BP\n",
      "der grossen Oelkonzerne\n",
      "Die Unternehmen\n",
      "BP\n",
      "seine\n",
      "das Unternehmen\n",
      "es\n",
      "der Konzern\n",
      "seine\n",
      "das Unternehmen\n",
      "es\n"
     ]
    }
   ],
   "execution_count": 124
  },
  {
   "metadata": {
    "ExecuteTime": {
     "end_time": "2024-09-17T15:32:34.020643Z",
     "start_time": "2024-09-17T15:32:34.016617Z"
    }
   },
   "cell_type": "code",
   "source": [
    "for ent in doc.ents:\n",
    "    print('ent.text:', ent.text, \n",
    "        # 'POS:', [t.pos_ for t in ent],\n",
    "        '--- comp_name:', getattr(ent._, SpacyExt.COMP_NAME.value) ,\n",
    "        '--- Symbol:', getattr(ent._, SpacyExt.COMP_SYMBOL.value), \n",
    "        '--- Set_in:', getattr(ent._, SpacyExt.SET_IN.value))"
   ],
   "id": "dd9f545e2825964e",
   "outputs": [
    {
     "name": "stdout",
     "output_type": "stream",
     "text": [
      "ent.text: BP --- comp_name: BP p.l.c. --- Symbol: BP.L --- Set_in: own_regex_search\n",
      "ent.text: BP --- comp_name: BP p.l.c. --- Symbol: BP.L --- Set_in: own_regex_search\n",
      "ent.text: der Konzern --- comp_name: BP p.l.c. --- Symbol: BP.L --- Set_in: xx_coref_resolve\n",
      "ent.text: der Konzern --- comp_name: BP p.l.c. --- Symbol: BP.L --- Set_in: xx_coref_resolve\n",
      "ent.text: seiner --- comp_name: BP p.l.c. --- Symbol: BP.L --- Set_in: xx_coref_resolve\n",
      "ent.text: BP --- comp_name: BP p.l.c. --- Symbol: BP.L --- Set_in: own_regex_search\n",
      "ent.text: der grossen Oelkonzerne --- comp_name: BP p.l.c. --- Symbol: BP.L --- Set_in: xx_coref_resolve\n",
      "ent.text: Die Unternehmen --- comp_name: BP p.l.c. --- Symbol: BP.L --- Set_in: xx_coref_resolve\n",
      "ent.text: BP --- comp_name: BP p.l.c. --- Symbol: BP.L --- Set_in: own_regex_search\n",
      "ent.text: seine --- comp_name: BP p.l.c. --- Symbol: BP.L --- Set_in: xx_coref_resolve\n",
      "ent.text: das Unternehmen --- comp_name: BP p.l.c. --- Symbol: BP.L --- Set_in: xx_coref_resolve\n",
      "ent.text: es --- comp_name: BP p.l.c. --- Symbol: BP.L --- Set_in: xx_coref_resolve\n",
      "ent.text: der Konzern --- comp_name: BP p.l.c. --- Symbol: BP.L --- Set_in: xx_coref_resolve\n",
      "ent.text: seine --- comp_name: BP p.l.c. --- Symbol: BP.L --- Set_in: xx_coref_resolve\n",
      "ent.text: das Unternehmen --- comp_name: BP p.l.c. --- Symbol: BP.L --- Set_in: xx_coref_resolve\n",
      "ent.text: es --- comp_name: BP p.l.c. --- Symbol: BP.L --- Set_in: xx_coref_resolve\n"
     ]
    }
   ],
   "execution_count": 125
  },
  {
   "metadata": {
    "ExecuteTime": {
     "end_time": "2024-09-17T15:32:34.078624Z",
     "start_time": "2024-09-17T15:32:34.069937Z"
    }
   },
   "cell_type": "code",
   "source": [
    "from spacy import displacy\n",
    "options = { \"colors\": {\"ORG\": \"red\",\"ENT-RULER\":\"green\", \"OWN-REGEX\":\"orange\", \"ORG-PART\":\"blue\", \"FUZZY\":\"pink\", \"PER\":\"grey\", \"LOC\":\"gray\", \"XX-COREF\":\"blue\"}}\n",
    "displacy.render(doc, style='ent', options=options)"
   ],
   "id": "e72b63e98212c19f",
   "outputs": [
    {
     "data": {
      "text/plain": [
       "<IPython.core.display.HTML object>"
      ],
      "text/html": [
       "<span class=\"tex2jax_ignore\"><div class=\"entities\" style=\"line-height: 2.5; direction: ltr\">Der Oelkonzern \n",
       "<mark class=\"entity\" style=\"background: orange; padding: 0.45em 0.6em; margin: 0 0.25em; line-height: 1; border-radius: 0.35em;\">\n",
       "    BP\n",
       "    <span style=\"font-size: 0.8em; font-weight: bold; line-height: 1; border-radius: 0.35em; vertical-align: middle; margin-left: 0.5rem\">OWN-REGEX</span>\n",
       "</mark>\n",
       " hat im ersten Quartal die niedrigeren Oel- und Gaspreise zu spueren bekommen. Der operative Gewinn schrumpfte aber nicht so stark wie befuerchtet. Dank des weiterhin hohen Geldzuflusses kuendigte \n",
       "<mark class=\"entity\" style=\"background: orange; padding: 0.45em 0.6em; margin: 0 0.25em; line-height: 1; border-radius: 0.35em;\">\n",
       "    BP\n",
       "    <span style=\"font-size: 0.8em; font-weight: bold; line-height: 1; border-radius: 0.35em; vertical-align: middle; margin-left: 0.5rem\">OWN-REGEX</span>\n",
       "</mark>\n",
       " am Dienstag in London auch den Rueckkauf weiterer Aktien an - aber mit gedrosseltem Tempo. Unter diesem Eindruck verlor der Aktienkurs im fruehen Londoner Handel mehr als 5 Prozent. Im ersten Quartal ging der um Sondereffekte bereinigte Gewinn im Jahresvergleich um rund ein Fuenftel auf knapp fuenf Milliarden US-Dollar zurueck, wie \n",
       "<mark class=\"entity\" style=\"background: blue; padding: 0.45em 0.6em; margin: 0 0.25em; line-height: 1; border-radius: 0.35em;\">\n",
       "    der Konzern\n",
       "    <span style=\"font-size: 0.8em; font-weight: bold; line-height: 1; border-radius: 0.35em; vertical-align: middle; margin-left: 0.5rem\">XX-COREF</span>\n",
       "</mark>\n",
       " mitteilte. Damit uebertraf \n",
       "<mark class=\"entity\" style=\"background: blue; padding: 0.45em 0.6em; margin: 0 0.25em; line-height: 1; border-radius: 0.35em;\">\n",
       "    der Konzern\n",
       "    <span style=\"font-size: 0.8em; font-weight: bold; line-height: 1; border-radius: 0.35em; vertical-align: middle; margin-left: 0.5rem\">XX-COREF</span>\n",
       "</mark>\n",
       " die Erwartungen der Experten. Inklusive Sondereffekten betrug der Gewinn 8,2 Milliarden Dollar. Wegen der Abschreibung \n",
       "<mark class=\"entity\" style=\"background: blue; padding: 0.45em 0.6em; margin: 0 0.25em; line-height: 1; border-radius: 0.35em;\">\n",
       "    seiner\n",
       "    <span style=\"font-size: 0.8em; font-weight: bold; line-height: 1; border-radius: 0.35em; vertical-align: middle; margin-left: 0.5rem\">XX-COREF</span>\n",
       "</mark>\n",
       " Beteiligung an dem russischen Oelkonzern Rosneft und des Rueckzugs aus dem Geschaeft in Russland war im Vorjahreszeitraum unter dem Strich ein Verlust in Hoehe von 20,4 Milliarden Dollar angefallen. Unterdessen verlangsamt \n",
       "<mark class=\"entity\" style=\"background: orange; padding: 0.45em 0.6em; margin: 0 0.25em; line-height: 1; border-radius: 0.35em;\">\n",
       "    BP\n",
       "    <span style=\"font-size: 0.8em; font-weight: bold; line-height: 1; border-radius: 0.35em; vertical-align: middle; margin-left: 0.5rem\">OWN-REGEX</span>\n",
       "</mark>\n",
       " das Tempo bei den Aktienrueckkaeufen. Auch wenn die Gewinne \n",
       "<mark class=\"entity\" style=\"background: blue; padding: 0.45em 0.6em; margin: 0 0.25em; line-height: 1; border-radius: 0.35em;\">\n",
       "    der grossen Oelkonzerne\n",
       "    <span style=\"font-size: 0.8em; font-weight: bold; line-height: 1; border-radius: 0.35em; vertical-align: middle; margin-left: 0.5rem\">XX-COREF</span>\n",
       "</mark>\n",
       " unter den Rekordwerten aus dem Jahr 2022 liegen, sind sie im historischen Vergleich immer noch hoch. \n",
       "<mark class=\"entity\" style=\"background: blue; padding: 0.45em 0.6em; margin: 0 0.25em; line-height: 1; border-radius: 0.35em;\">\n",
       "    Die Unternehmen\n",
       "    <span style=\"font-size: 0.8em; font-weight: bold; line-height: 1; border-radius: 0.35em; vertical-align: middle; margin-left: 0.5rem\">XX-COREF</span>\n",
       "</mark>\n",
       " erwirtschaften immer noch eine Menge zusaetzlicher Barmittel, sodass \n",
       "<mark class=\"entity\" style=\"background: orange; padding: 0.45em 0.6em; margin: 0 0.25em; line-height: 1; border-radius: 0.35em;\">\n",
       "    BP\n",
       "    <span style=\"font-size: 0.8em; font-weight: bold; line-height: 1; border-radius: 0.35em; vertical-align: middle; margin-left: 0.5rem\">OWN-REGEX</span>\n",
       "</mark>\n",
       " \n",
       "<mark class=\"entity\" style=\"background: blue; padding: 0.45em 0.6em; margin: 0 0.25em; line-height: 1; border-radius: 0.35em;\">\n",
       "    seine\n",
       "    <span style=\"font-size: 0.8em; font-weight: bold; line-height: 1; border-radius: 0.35em; vertical-align: middle; margin-left: 0.5rem\">XX-COREF</span>\n",
       "</mark>\n",
       " Investoren mit dem Rueckkauf von Aktien im Wert von 1,75 Milliarden Dollar bis zur Bekanntgabe der Ergebnisse fuer das zweite Quartal belohnen will. Erst juengst beendete \n",
       "<mark class=\"entity\" style=\"background: blue; padding: 0.45em 0.6em; margin: 0 0.25em; line-height: 1; border-radius: 0.35em;\">\n",
       "    das Unternehmen\n",
       "    <span style=\"font-size: 0.8em; font-weight: bold; line-height: 1; border-radius: 0.35em; vertical-align: middle; margin-left: 0.5rem\">XX-COREF</span>\n",
       "</mark>\n",
       " den Rueckkauf eigener Aktien im Wert von 2,75 Milliarden Dollar, das \n",
       "<mark class=\"entity\" style=\"background: blue; padding: 0.45em 0.6em; margin: 0 0.25em; line-height: 1; border-radius: 0.35em;\">\n",
       "    es\n",
       "    <span style=\"font-size: 0.8em; font-weight: bold; line-height: 1; border-radius: 0.35em; vertical-align: middle; margin-left: 0.5rem\">XX-COREF</span>\n",
       "</mark>\n",
       " Anfang Februar angekuendigt hatte. Seit Anfang des Jahres setzt \n",
       "<mark class=\"entity\" style=\"background: blue; padding: 0.45em 0.6em; margin: 0 0.25em; line-height: 1; border-radius: 0.35em;\">\n",
       "    der Konzern\n",
       "    <span style=\"font-size: 0.8em; font-weight: bold; line-height: 1; border-radius: 0.35em; vertical-align: middle; margin-left: 0.5rem\">XX-COREF</span>\n",
       "</mark>\n",
       " \n",
       "<mark class=\"entity\" style=\"background: blue; padding: 0.45em 0.6em; margin: 0 0.25em; line-height: 1; border-radius: 0.35em;\">\n",
       "    seine\n",
       "    <span style=\"font-size: 0.8em; font-weight: bold; line-height: 1; border-radius: 0.35em; vertical-align: middle; margin-left: 0.5rem\">XX-COREF</span>\n",
       "</mark>\n",
       " Strategie um, in naher Zukunft mehr Oel und Gas zu foerdern und gleichzeitig die Investitionen in kohlenstoffarme Energien zu erhoehen. Im April nahm \n",
       "<mark class=\"entity\" style=\"background: blue; padding: 0.45em 0.6em; margin: 0 0.25em; line-height: 1; border-radius: 0.35em;\">\n",
       "    das Unternehmen\n",
       "    <span style=\"font-size: 0.8em; font-weight: bold; line-height: 1; border-radius: 0.35em; vertical-align: middle; margin-left: 0.5rem\">XX-COREF</span>\n",
       "</mark>\n",
       " eine grosse neue Oelplattform im Golf von Mexiko in Betrieb und kuendigte an, dass \n",
       "<mark class=\"entity\" style=\"background: blue; padding: 0.45em 0.6em; margin: 0 0.25em; line-height: 1; border-radius: 0.35em;\">\n",
       "    es\n",
       "    <span style=\"font-size: 0.8em; font-weight: bold; line-height: 1; border-radius: 0.35em; vertical-align: middle; margin-left: 0.5rem\">XX-COREF</span>\n",
       "</mark>\n",
       " Geschaefte vereinbaren will, um die Produktion fossiler Brennstoffe weiter zu steigern. Dies veraergert Aktivisten und einige Investoren. Andere Aktionaere wollen nach einer mehrjaehrigen Durststrecke fuer die ganze Branche allerdings hoehere Kapitalrueckfluesse sehen. Die BP-Aktien haben sich seit einem Jahr um rund 30 Prozent verteuert.</div></span>"
      ]
     },
     "metadata": {},
     "output_type": "display_data"
    }
   ],
   "execution_count": 126
  },
  {
   "metadata": {
    "ExecuteTime": {
     "end_time": "2024-09-17T15:32:34.153291Z",
     "start_time": "2024-09-17T15:32:34.142765Z"
    }
   },
   "cell_type": "code",
   "source": [
    "for sent in doc.sents:\n",
    "    print(sent)\n",
    "    print('----------------')"
   ],
   "id": "267bfa9328985247",
   "outputs": [
    {
     "name": "stdout",
     "output_type": "stream",
     "text": [
      "Der Oelkonzern BP hat im ersten Quartal die niedrigeren Oel- und Gaspreise zu spueren bekommen.\n",
      "----------------\n",
      "Der operative Gewinn schrumpfte aber nicht so stark wie befuerchtet.\n",
      "----------------\n",
      "Dank des weiterhin hohen Geldzuflusses kuendigte BP am Dienstag in London auch den Rueckkauf weiterer Aktien an - aber mit gedrosseltem Tempo.\n",
      "----------------\n",
      "Unter diesem Eindruck verlor der Aktienkurs im fruehen Londoner Handel mehr als 5 Prozent.\n",
      "----------------\n",
      "Im ersten Quartal ging der um Sondereffekte bereinigte Gewinn im Jahresvergleich um rund ein Fuenftel auf knapp fuenf Milliarden US-Dollar zurueck, wie der Konzern mitteilte.\n",
      "----------------\n",
      "Damit uebertraf der Konzern die Erwartungen der Experten.\n",
      "----------------\n",
      "Inklusive Sondereffekten betrug der Gewinn 8,2 Milliarden Dollar.\n",
      "----------------\n",
      "Wegen der Abschreibung seiner Beteiligung an dem russischen Oelkonzern Rosneft und des Rueckzugs aus dem Geschaeft in Russland war im Vorjahreszeitraum unter dem Strich ein Verlust in Hoehe von 20,4 Milliarden Dollar angefallen.\n",
      "----------------\n",
      "Unterdessen verlangsamt BP das Tempo bei den Aktienrueckkaeufen.\n",
      "----------------\n",
      "Auch wenn die Gewinne der grossen Oelkonzerne unter den Rekordwerten aus dem Jahr 2022 liegen, sind sie im historischen Vergleich immer noch hoch.\n",
      "----------------\n",
      "Die Unternehmen erwirtschaften immer noch eine Menge zusaetzlicher Barmittel, sodass BP seine Investoren mit dem Rueckkauf von Aktien im Wert von 1,75 Milliarden Dollar bis zur Bekanntgabe der Ergebnisse fuer das zweite Quartal belohnen will.\n",
      "----------------\n",
      "Erst juengst beendete das Unternehmen den Rueckkauf eigener Aktien im Wert von 2,75 Milliarden Dollar, das es Anfang Februar angekuendigt hatte.\n",
      "----------------\n",
      "Seit Anfang des Jahres setzt der Konzern seine Strategie um, in naher Zukunft mehr Oel und Gas zu foerdern und gleichzeitig die Investitionen in kohlenstoffarme Energien zu erhoehen.\n",
      "----------------\n",
      "Im April nahm das Unternehmen eine grosse neue Oelplattform im Golf von Mexiko in Betrieb und kuendigte an, dass es Geschaefte vereinbaren will, um die Produktion fossiler Brennstoffe weiter zu steigern.\n",
      "----------------\n",
      "Dies veraergert Aktivisten und einige Investoren.\n",
      "----------------\n",
      "Andere Aktionaere wollen nach einer mehrjaehrigen Durststrecke fuer die ganze Branche allerdings hoehere Kapitalrueckfluesse sehen.\n",
      "----------------\n",
      "Die BP-Aktien haben sich seit einem Jahr um rund 30 Prozent verteuert.\n",
      "----------------\n"
     ]
    }
   ],
   "execution_count": 127
  },
  {
   "metadata": {
    "ExecuteTime": {
     "end_time": "2024-09-17T15:32:34.320440Z",
     "start_time": "2024-09-17T15:32:34.222603Z"
    }
   },
   "cell_type": "code",
   "source": "coref.set_custom_tokenizer()",
   "id": "ffeeec335e3807b2",
   "outputs": [],
   "execution_count": 128
  },
  {
   "metadata": {
    "ExecuteTime": {
     "end_time": "2024-09-17T15:32:34.334282Z",
     "start_time": "2024-09-17T15:32:34.331590Z"
    }
   },
   "cell_type": "code",
   "source": [
    "for sent in doc.sents:\n",
    "    print(sent)\n",
    "    print('----------------')"
   ],
   "id": "8bca6339b0f9b1da",
   "outputs": [
    {
     "name": "stdout",
     "output_type": "stream",
     "text": [
      "Der Oelkonzern BP hat im ersten Quartal die niedrigeren Oel- und Gaspreise zu spueren bekommen.\n",
      "----------------\n",
      "Der operative Gewinn schrumpfte aber nicht so stark wie befuerchtet.\n",
      "----------------\n",
      "Dank des weiterhin hohen Geldzuflusses kuendigte BP am Dienstag in London auch den Rueckkauf weiterer Aktien an - aber mit gedrosseltem Tempo.\n",
      "----------------\n",
      "Unter diesem Eindruck verlor der Aktienkurs im fruehen Londoner Handel mehr als 5 Prozent.\n",
      "----------------\n",
      "Im ersten Quartal ging der um Sondereffekte bereinigte Gewinn im Jahresvergleich um rund ein Fuenftel auf knapp fuenf Milliarden US-Dollar zurueck, wie der Konzern mitteilte.\n",
      "----------------\n",
      "Damit uebertraf der Konzern die Erwartungen der Experten.\n",
      "----------------\n",
      "Inklusive Sondereffekten betrug der Gewinn 8,2 Milliarden Dollar.\n",
      "----------------\n",
      "Wegen der Abschreibung seiner Beteiligung an dem russischen Oelkonzern Rosneft und des Rueckzugs aus dem Geschaeft in Russland war im Vorjahreszeitraum unter dem Strich ein Verlust in Hoehe von 20,4 Milliarden Dollar angefallen.\n",
      "----------------\n",
      "Unterdessen verlangsamt BP das Tempo bei den Aktienrueckkaeufen.\n",
      "----------------\n",
      "Auch wenn die Gewinne der grossen Oelkonzerne unter den Rekordwerten aus dem Jahr 2022 liegen, sind sie im historischen Vergleich immer noch hoch.\n",
      "----------------\n",
      "Die Unternehmen erwirtschaften immer noch eine Menge zusaetzlicher Barmittel, sodass BP seine Investoren mit dem Rueckkauf von Aktien im Wert von 1,75 Milliarden Dollar bis zur Bekanntgabe der Ergebnisse fuer das zweite Quartal belohnen will.\n",
      "----------------\n",
      "Erst juengst beendete das Unternehmen den Rueckkauf eigener Aktien im Wert von 2,75 Milliarden Dollar, das es Anfang Februar angekuendigt hatte.\n",
      "----------------\n",
      "Seit Anfang des Jahres setzt der Konzern seine Strategie um, in naher Zukunft mehr Oel und Gas zu foerdern und gleichzeitig die Investitionen in kohlenstoffarme Energien zu erhoehen.\n",
      "----------------\n",
      "Im April nahm das Unternehmen eine grosse neue Oelplattform im Golf von Mexiko in Betrieb und kuendigte an, dass es Geschaefte vereinbaren will, um die Produktion fossiler Brennstoffe weiter zu steigern.\n",
      "----------------\n",
      "Dies veraergert Aktivisten und einige Investoren.\n",
      "----------------\n",
      "Andere Aktionaere wollen nach einer mehrjaehrigen Durststrecke fuer die ganze Branche allerdings hoehere Kapitalrueckfluesse sehen.\n",
      "----------------\n",
      "Die BP-Aktien haben sich seit einem Jahr um rund 30 Prozent verteuert.\n",
      "----------------\n"
     ]
    }
   ],
   "execution_count": 129
  }
 ],
 "metadata": {
  "kernelspec": {
   "display_name": "Python 3",
   "language": "python",
   "name": "python3"
  },
  "language_info": {
   "codemirror_mode": {
    "name": "ipython",
    "version": 2
   },
   "file_extension": ".py",
   "mimetype": "text/x-python",
   "name": "python",
   "nbconvert_exporter": "python",
   "pygments_lexer": "ipython2",
   "version": "2.7.6"
  }
 },
 "nbformat": 4,
 "nbformat_minor": 5
}
