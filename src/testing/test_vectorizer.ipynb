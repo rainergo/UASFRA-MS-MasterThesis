{
 "cells": [
  {
   "cell_type": "code",
   "id": "initial_id",
   "metadata": {
    "collapsed": true
   },
   "source": [
    "los = ['Dies ist ein text', 'Hier noch ein text']\n",
    "lolos = [['Dies', 'ist', 'eine', 'text'], ['Hier', 'noch', 'eine', 'text']]\n",
    "lolos = [' '.join(item) for item in lolos]\n",
    "print(lolos)"
   ],
   "outputs": [],
   "execution_count": null
  },
  {
   "metadata": {},
   "cell_type": "code",
   "source": [
    "import pandas as pd\n",
    "from sklearn.feature_extraction.text import CountVectorizer, TfidfVectorizer"
   ],
   "id": "b409ad32e252bb51",
   "outputs": [],
   "execution_count": null
  },
  {
   "metadata": {},
   "cell_type": "code",
   "source": [
    "cv = CountVectorizer()\n",
    "text_vectors = cv.fit_transform(lolos)\n",
    "df = pd.DataFrame(data=text_vectors.toarray(), columns=cv.get_feature_names_out())\n",
    "df"
   ],
   "id": "5bcfa6daab5f0489",
   "outputs": [],
   "execution_count": null
  },
  {
   "metadata": {},
   "cell_type": "code",
   "source": [
    "t = 'Dies ist ein Text und noch ein Text zusammen'\n",
    "n = 20\n",
    "'\\n'.join([t[i:i+n] for i in range(0, len(t), n)])"
   ],
   "id": "1a9439575c48c13b",
   "outputs": [],
   "execution_count": null
  }
 ],
 "metadata": {
  "kernelspec": {
   "display_name": "Python 3",
   "language": "python",
   "name": "python3"
  },
  "language_info": {
   "codemirror_mode": {
    "name": "ipython",
    "version": 2
   },
   "file_extension": ".py",
   "mimetype": "text/x-python",
   "name": "python",
   "nbconvert_exporter": "python",
   "pygments_lexer": "ipython2",
   "version": "2.7.6"
  }
 },
 "nbformat": 4,
 "nbformat_minor": 5
}
